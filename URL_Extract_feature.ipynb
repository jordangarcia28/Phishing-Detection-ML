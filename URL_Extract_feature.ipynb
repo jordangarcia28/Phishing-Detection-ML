{
 "cells": [
  {
   "cell_type": "markdown",
   "metadata": {
    "id": "hvLyc05OKQdg"
   },
   "source": [
    "# **Requirements**"
   ]
  },
  {
   "cell_type": "code",
   "execution_count": 131,
   "metadata": {
    "id": "murRs-xyD-AM"
   },
   "outputs": [],
   "source": [
    "import pandas as pd\n",
    "import os\n",
    "import ipaddress\n",
    "\n",
    "from urllib.parse import urlparse, urlsplit, parse_qs\n",
    "import whois\n",
    "from datetime import datetime\n",
    "import socket\n",
    "import pydig\n",
    "import certifi\n",
    "import urllib3\n",
    "from cymruwhois import Client\n",
    "\n",
    "import tldextract\n",
    "import dns\n",
    "import dns.name\n",
    "import dns.query\n",
    "import dns.resolver\n",
    "\n",
    "import re\n",
    "import requests\n",
    "from bs4 import BeautifulSoup\n",
    "\n",
    "import validators"
   ]
  },
  {
   "cell_type": "markdown",
   "metadata": {},
   "source": [
    "Import URL List"
   ]
  },
  {
   "cell_type": "markdown",
   "metadata": {},
   "source": [
    "1. Phishing"
   ]
  },
  {
   "cell_type": "code",
   "execution_count": 119,
   "metadata": {},
   "outputs": [
    {
     "data": {
      "text/html": [
       "<div>\n",
       "<style scoped>\n",
       "    .dataframe tbody tr th:only-of-type {\n",
       "        vertical-align: middle;\n",
       "    }\n",
       "\n",
       "    .dataframe tbody tr th {\n",
       "        vertical-align: top;\n",
       "    }\n",
       "\n",
       "    .dataframe thead th {\n",
       "        text-align: right;\n",
       "    }\n",
       "</style>\n",
       "<table border=\"1\" class=\"dataframe\">\n",
       "  <thead>\n",
       "    <tr style=\"text-align: right;\">\n",
       "      <th></th>\n",
       "      <th>phish_id</th>\n",
       "      <th>url</th>\n",
       "      <th>phish_detail_url</th>\n",
       "      <th>submission_time</th>\n",
       "      <th>verified</th>\n",
       "      <th>verification_time</th>\n",
       "      <th>online</th>\n",
       "      <th>target</th>\n",
       "    </tr>\n",
       "  </thead>\n",
       "  <tbody>\n",
       "    <tr>\n",
       "      <th>0</th>\n",
       "      <td>7572770</td>\n",
       "      <td>http://acessossl110.ddns.net/cadastro.php?codi...</td>\n",
       "      <td>http://www.phishtank.com/phish_detail.php?phis...</td>\n",
       "      <td>2022-07-01T15:06:54+00:00</td>\n",
       "      <td>yes</td>\n",
       "      <td>2022-07-01T15:21:25+00:00</td>\n",
       "      <td>yes</td>\n",
       "      <td>Other</td>\n",
       "    </tr>\n",
       "    <tr>\n",
       "      <th>1</th>\n",
       "      <td>7572768</td>\n",
       "      <td>http://www.vivsvesi.vsccacsei.lxqslk.top/ic6oX...</td>\n",
       "      <td>http://www.phishtank.com/phish_detail.php?phis...</td>\n",
       "      <td>2022-07-01T15:06:44+00:00</td>\n",
       "      <td>yes</td>\n",
       "      <td>2022-07-01T15:21:25+00:00</td>\n",
       "      <td>yes</td>\n",
       "      <td>Other</td>\n",
       "    </tr>\n",
       "    <tr>\n",
       "      <th>2</th>\n",
       "      <td>7572767</td>\n",
       "      <td>http://a0691990.xsph.ru/</td>\n",
       "      <td>http://www.phishtank.com/phish_detail.php?phis...</td>\n",
       "      <td>2022-07-01T15:06:17+00:00</td>\n",
       "      <td>yes</td>\n",
       "      <td>2022-07-01T15:21:25+00:00</td>\n",
       "      <td>yes</td>\n",
       "      <td>Other</td>\n",
       "    </tr>\n",
       "    <tr>\n",
       "      <th>3</th>\n",
       "      <td>7572756</td>\n",
       "      <td>https://agosttoo-9948200.azurewebsites.net/ini...</td>\n",
       "      <td>http://www.phishtank.com/phish_detail.php?phis...</td>\n",
       "      <td>2022-07-01T15:04:45+00:00</td>\n",
       "      <td>yes</td>\n",
       "      <td>2022-07-01T15:21:25+00:00</td>\n",
       "      <td>yes</td>\n",
       "      <td>Other</td>\n",
       "    </tr>\n",
       "    <tr>\n",
       "      <th>4</th>\n",
       "      <td>7572754</td>\n",
       "      <td>https://aquaairfl.com/s/itau.com.cz/p/?d41d8cd...</td>\n",
       "      <td>http://www.phishtank.com/phish_detail.php?phis...</td>\n",
       "      <td>2022-07-01T15:04:28+00:00</td>\n",
       "      <td>yes</td>\n",
       "      <td>2022-07-01T15:21:25+00:00</td>\n",
       "      <td>yes</td>\n",
       "      <td>Other</td>\n",
       "    </tr>\n",
       "  </tbody>\n",
       "</table>\n",
       "</div>"
      ],
      "text/plain": [
       "   phish_id                                                url  \\\n",
       "0   7572770  http://acessossl110.ddns.net/cadastro.php?codi...   \n",
       "1   7572768  http://www.vivsvesi.vsccacsei.lxqslk.top/ic6oX...   \n",
       "2   7572767                           http://a0691990.xsph.ru/   \n",
       "3   7572756  https://agosttoo-9948200.azurewebsites.net/ini...   \n",
       "4   7572754  https://aquaairfl.com/s/itau.com.cz/p/?d41d8cd...   \n",
       "\n",
       "                                    phish_detail_url  \\\n",
       "0  http://www.phishtank.com/phish_detail.php?phis...   \n",
       "1  http://www.phishtank.com/phish_detail.php?phis...   \n",
       "2  http://www.phishtank.com/phish_detail.php?phis...   \n",
       "3  http://www.phishtank.com/phish_detail.php?phis...   \n",
       "4  http://www.phishtank.com/phish_detail.php?phis...   \n",
       "\n",
       "             submission_time verified          verification_time online target  \n",
       "0  2022-07-01T15:06:54+00:00      yes  2022-07-01T15:21:25+00:00    yes  Other  \n",
       "1  2022-07-01T15:06:44+00:00      yes  2022-07-01T15:21:25+00:00    yes  Other  \n",
       "2  2022-07-01T15:06:17+00:00      yes  2022-07-01T15:21:25+00:00    yes  Other  \n",
       "3  2022-07-01T15:04:45+00:00      yes  2022-07-01T15:21:25+00:00    yes  Other  \n",
       "4  2022-07-01T15:04:28+00:00      yes  2022-07-01T15:21:25+00:00    yes  Other  "
      ]
     },
     "execution_count": 119,
     "metadata": {},
     "output_type": "execute_result"
    }
   ],
   "source": [
    "phish_data = pd.read_csv(\"Dataset/Phishtank/phishtank_0107.csv\")\n",
    "phish_data.head()"
   ]
  },
  {
   "cell_type": "code",
   "execution_count": 120,
   "metadata": {},
   "outputs": [
    {
     "data": {
      "text/html": [
       "<div>\n",
       "<style scoped>\n",
       "    .dataframe tbody tr th:only-of-type {\n",
       "        vertical-align: middle;\n",
       "    }\n",
       "\n",
       "    .dataframe tbody tr th {\n",
       "        vertical-align: top;\n",
       "    }\n",
       "\n",
       "    .dataframe thead th {\n",
       "        text-align: right;\n",
       "    }\n",
       "</style>\n",
       "<table border=\"1\" class=\"dataframe\">\n",
       "  <thead>\n",
       "    <tr style=\"text-align: right;\">\n",
       "      <th></th>\n",
       "      <th>URLs</th>\n",
       "    </tr>\n",
       "  </thead>\n",
       "  <tbody>\n",
       "    <tr>\n",
       "      <th>0</th>\n",
       "      <td>http://1337x.to/torrent/1110018/Blackhat-2015-...</td>\n",
       "    </tr>\n",
       "    <tr>\n",
       "      <th>1</th>\n",
       "      <td>http://1337x.to/torrent/1122940/Blackhat-2015-...</td>\n",
       "    </tr>\n",
       "    <tr>\n",
       "      <th>2</th>\n",
       "      <td>http://1337x.to/torrent/1124395/Fast-and-Furio...</td>\n",
       "    </tr>\n",
       "    <tr>\n",
       "      <th>3</th>\n",
       "      <td>http://1337x.to/torrent/1145504/Avengers-Age-o...</td>\n",
       "    </tr>\n",
       "    <tr>\n",
       "      <th>4</th>\n",
       "      <td>http://1337x.to/torrent/1160078/Avengers-age-o...</td>\n",
       "    </tr>\n",
       "  </tbody>\n",
       "</table>\n",
       "</div>"
      ],
      "text/plain": [
       "                                                URLs\n",
       "0  http://1337x.to/torrent/1110018/Blackhat-2015-...\n",
       "1  http://1337x.to/torrent/1122940/Blackhat-2015-...\n",
       "2  http://1337x.to/torrent/1124395/Fast-and-Furio...\n",
       "3  http://1337x.to/torrent/1145504/Avengers-Age-o...\n",
       "4  http://1337x.to/torrent/1160078/Avengers-age-o..."
      ]
     },
     "execution_count": 120,
     "metadata": {},
     "output_type": "execute_result"
    }
   ],
   "source": [
    "legit_data = pd.read_csv(\"Dataset/UNB/Benign_list_big_final.csv\")\n",
    "legit_data.columns = ['URLs']\n",
    "legit_data.head()"
   ]
  },
  {
   "cell_type": "code",
   "execution_count": 121,
   "metadata": {},
   "outputs": [
    {
     "data": {
      "text/html": [
       "<div>\n",
       "<style scoped>\n",
       "    .dataframe tbody tr th:only-of-type {\n",
       "        vertical-align: middle;\n",
       "    }\n",
       "\n",
       "    .dataframe tbody tr th {\n",
       "        vertical-align: top;\n",
       "    }\n",
       "\n",
       "    .dataframe thead th {\n",
       "        text-align: right;\n",
       "    }\n",
       "</style>\n",
       "<table border=\"1\" class=\"dataframe\">\n",
       "  <thead>\n",
       "    <tr style=\"text-align: right;\">\n",
       "      <th></th>\n",
       "      <th>URLs</th>\n",
       "    </tr>\n",
       "  </thead>\n",
       "  <tbody>\n",
       "    <tr>\n",
       "      <th>0</th>\n",
       "      <td>http://graphicriver.net/search?date=this-month...</td>\n",
       "    </tr>\n",
       "    <tr>\n",
       "      <th>1</th>\n",
       "      <td>http://ecnavi.jp/redirect/?url=http://www.cros...</td>\n",
       "    </tr>\n",
       "    <tr>\n",
       "      <th>2</th>\n",
       "      <td>https://hubpages.com/signin?explain=follow+Hub...</td>\n",
       "    </tr>\n",
       "    <tr>\n",
       "      <th>3</th>\n",
       "      <td>http://extratorrent.cc/torrent/4190536/AOMEI+B...</td>\n",
       "    </tr>\n",
       "    <tr>\n",
       "      <th>4</th>\n",
       "      <td>http://icicibank.com/Personal-Banking/offers/o...</td>\n",
       "    </tr>\n",
       "  </tbody>\n",
       "</table>\n",
       "</div>"
      ],
      "text/plain": [
       "                                                URLs\n",
       "0  http://graphicriver.net/search?date=this-month...\n",
       "1  http://ecnavi.jp/redirect/?url=http://www.cros...\n",
       "2  https://hubpages.com/signin?explain=follow+Hub...\n",
       "3  http://extratorrent.cc/torrent/4190536/AOMEI+B...\n",
       "4  http://icicibank.com/Personal-Banking/offers/o..."
      ]
     },
     "execution_count": 121,
     "metadata": {},
     "output_type": "execute_result"
    }
   ],
   "source": [
    "legiturl = legit_data.sample(n = 200, random_state = 12).copy()\n",
    "legiturl = legiturl.reset_index(drop=True)\n",
    "legiturl.head()"
   ]
  },
  {
   "cell_type": "code",
   "execution_count": 122,
   "metadata": {},
   "outputs": [],
   "source": [
    "legiturl.to_csv('valid_1.csv', index= False)"
   ]
  },
  {
   "cell_type": "markdown",
   "metadata": {
    "id": "7AB01yXDKXV9"
   },
   "source": [
    "## **Table 1**\n",
    "### **Dataset attributes based on URL.**"
   ]
  },
  {
   "cell_type": "markdown",
   "metadata": {},
   "source": [
    "### *Element*"
   ]
  },
  {
   "cell_type": "code",
   "execution_count": 123,
   "metadata": {},
   "outputs": [],
   "source": [
    "def qty_dot(url):\n",
    "    return url.count('.')"
   ]
  },
  {
   "cell_type": "code",
   "execution_count": 124,
   "metadata": {},
   "outputs": [],
   "source": [
    "def qty_hyphen(url):\n",
    "    return url.count(\"-\")"
   ]
  },
  {
   "cell_type": "code",
   "execution_count": 125,
   "metadata": {},
   "outputs": [],
   "source": [
    "def qty_underline(url):\n",
    "    return url.count('_')"
   ]
  },
  {
   "cell_type": "code",
   "execution_count": 126,
   "metadata": {},
   "outputs": [],
   "source": [
    "def qty_slash(url):\n",
    "    return url.count('/')"
   ]
  },
  {
   "cell_type": "code",
   "execution_count": 127,
   "metadata": {},
   "outputs": [],
   "source": [
    "def qty_questionmark(url):\n",
    "    return url.count('?')"
   ]
  },
  {
   "cell_type": "code",
   "execution_count": 128,
   "metadata": {},
   "outputs": [],
   "source": [
    "def qty_equal(url):\n",
    "    return url.count('=')"
   ]
  },
  {
   "cell_type": "code",
   "execution_count": 129,
   "metadata": {},
   "outputs": [],
   "source": [
    "def qty_at(url):\n",
    "    return url.count('@')"
   ]
  },
  {
   "cell_type": "code",
   "execution_count": 130,
   "metadata": {},
   "outputs": [],
   "source": [
    "def qty_and(url):\n",
    "    return url.count('&')"
   ]
  },
  {
   "cell_type": "code",
   "execution_count": 131,
   "metadata": {},
   "outputs": [],
   "source": [
    "def qty_exclamation(url):\n",
    "    return url.count('!')"
   ]
  },
  {
   "cell_type": "code",
   "execution_count": 132,
   "metadata": {},
   "outputs": [],
   "source": [
    "def qty_space(url):\n",
    "    return url.count(' ')"
   ]
  },
  {
   "cell_type": "code",
   "execution_count": 133,
   "metadata": {},
   "outputs": [],
   "source": [
    "def qty_tilde(url):\n",
    "    return url.count('~')"
   ]
  },
  {
   "cell_type": "code",
   "execution_count": 134,
   "metadata": {},
   "outputs": [],
   "source": [
    "def qty_comma(url):\n",
    "    return url.count(',')"
   ]
  },
  {
   "cell_type": "code",
   "execution_count": 135,
   "metadata": {},
   "outputs": [],
   "source": [
    "def qty_plus(url):\n",
    "    return url.count('+')"
   ]
  },
  {
   "cell_type": "code",
   "execution_count": 136,
   "metadata": {},
   "outputs": [],
   "source": [
    "def qty_asterisk(url):\n",
    "    return url.count('*')"
   ]
  },
  {
   "cell_type": "code",
   "execution_count": 137,
   "metadata": {},
   "outputs": [],
   "source": [
    "def qty_hashtag(url):\n",
    "    return url.count('#')"
   ]
  },
  {
   "cell_type": "code",
   "execution_count": 138,
   "metadata": {},
   "outputs": [],
   "source": [
    "def qty_dollar(url):\n",
    "    return url.count('$')"
   ]
  },
  {
   "cell_type": "code",
   "execution_count": 139,
   "metadata": {},
   "outputs": [],
   "source": [
    "def qty_percent(url):\n",
    "    return url.count('%')"
   ]
  },
  {
   "cell_type": "markdown",
   "metadata": {},
   "source": [
    "### *The rest of table 1*"
   ]
  },
  {
   "cell_type": "code",
   "execution_count": 140,
   "metadata": {},
   "outputs": [],
   "source": [
    "def qty_tld_url(url):\n",
    "    tld_url = tldextract.extract(url).suffix\n",
    "    return len(tld_url)"
   ]
  },
  {
   "cell_type": "code",
   "execution_count": 141,
   "metadata": {},
   "outputs": [],
   "source": [
    "def length_url(url):\n",
    "    return len(url)"
   ]
  },
  {
   "cell_type": "code",
   "execution_count": 142,
   "metadata": {},
   "outputs": [],
   "source": [
    "emailRegex = r'\\b[A-Za-z0-9._%+-]+@[A-Za-z0-9.-]+\\.[A-Z|a-z]{2,}\\b'\n",
    " \n",
    "def email_in_url(url):\n",
    "    return 1 if (re.findall(emailRegex, url)) else 0"
   ]
  },
  {
   "cell_type": "markdown",
   "metadata": {
    "id": "qVCI_vwtK36U"
   },
   "source": [
    "## **Table 2**\n",
    "### **Dataset attributes based on domain URL.**"
   ]
  },
  {
   "cell_type": "code",
   "execution_count": 143,
   "metadata": {
    "id": "9h_8KIzeAO4K"
   },
   "outputs": [],
   "source": [
    "def qty_vowels_domain(url):\n",
    "  vowels = ['a', 'e', 'i', 'o', 'u']\n",
    "  return len([i for i in url if i in vowels])\n",
    "\n",
    "def domain_length(url):\n",
    "  return len(url)\n",
    "\n",
    "def domain_in_ip(url):\n",
    "  ipPattern = re.compile('\\d{1,3}\\.\\d{1,3}\\.\\d{1,3}\\.\\d{1,3}')\n",
    "  try:\n",
    "      mo = ipPattern.search(url).group()\n",
    "      if ipaddress.ip_address(mo):\n",
    "          ip = 1\n",
    "  except Exception:\n",
    "      ip = 0\n",
    "  return ip\n",
    "\n",
    "def server_client_domain(url):\n",
    "  keyword = r\"server|client\"\n",
    "  return 1 if (re.search(keyword,url)) else 0"
   ]
  },
  {
   "cell_type": "markdown",
   "metadata": {
    "id": "qVCI_vwtK36U"
   },
   "source": [
    "## **Table 3**\n",
    "### **Dataset attributes based on URL directory.**"
   ]
  },
  {
   "cell_type": "markdown",
   "metadata": {
    "id": "qVCI_vwtK36U"
   },
   "source": [
    "## **Table 4**\n",
    "### **Dataset attributes based on URL file name.**"
   ]
  },
  {
   "cell_type": "markdown",
   "metadata": {
    "id": "qVCI_vwtK36U"
   },
   "source": [
    "## **Table 5**\n",
    "### **Dataset attributes based on URL parameters.**"
   ]
  },
  {
   "cell_type": "code",
   "execution_count": 144,
   "metadata": {},
   "outputs": [],
   "source": [
    "def tld_present_params(url):\n",
    "    return 1 if tldextract.extract(url).suffix else 0"
   ]
  },
  {
   "cell_type": "code",
   "execution_count": 145,
   "metadata": {},
   "outputs": [],
   "source": [
    "def qty_params(url):\n",
    "    return len(url.split(\"&\")) if \"&\" in url else 1"
   ]
  },
  {
   "cell_type": "markdown",
   "metadata": {
    "id": "qVCI_vwtK36U"
   },
   "source": [
    "## **Table 6**\n",
    "### **Dataset attributes based on resolving URL and external services.**"
   ]
  },
  {
   "cell_type": "markdown",
   "metadata": {
    "id": "qVCI_vwtK36U"
   },
   "source": [
    "### *6.1. Domain lookup time response*"
   ]
  },
  {
   "cell_type": "code",
   "execution_count": 146,
   "metadata": {
    "id": "MoNL-ApXjCx_"
   },
   "outputs": [],
   "source": [
    "def time_response(url):\n",
    "    try:\n",
    "        r = requests.get(url, timeout=6)\n",
    "        r.raise_for_status()\n",
    "        return round(r.elapsed.total_seconds(),7)\n",
    "    except Exception:\n",
    "        return 0\n",
    "\n",
    "# respTime = r.elapsed.total_seconds()\n"
   ]
  },
  {
   "cell_type": "code",
   "execution_count": 147,
   "metadata": {},
   "outputs": [
    {
     "data": {
      "text/plain": [
       "0.090504"
      ]
     },
     "execution_count": 147,
     "metadata": {},
     "output_type": "execute_result"
    }
   ],
   "source": [
    "# FOR TESTING\n",
    "# url = 'https://expdfired.badssl.com'\n",
    "# url = 'https://socs1.binus.ac.id/proposalskripsi/auth/login'\n",
    "url = 'https://www.knowledgehut.com/tutorials/python-tutorial/python-lists-tuples'\n",
    "time_response(url)"
   ]
  },
  {
   "cell_type": "markdown",
   "metadata": {
    "id": "qVCI_vwtK36U"
   },
   "source": [
    "### *6.2. Domain has SPF*"
   ]
  },
  {
   "cell_type": "code",
   "execution_count": 148,
   "metadata": {
    "id": "wF0AoxiJk1-Q"
   },
   "outputs": [],
   "source": [
    "def domain_spf(url):\n",
    "  try:\n",
    "    test_spf = dns.resolver.resolve(url , 'TXT')\n",
    "    for dns_data in test_spf:\n",
    "      if 'spf1' in str(dns_data):\n",
    "        return 1\n",
    "  except Exception:\n",
    "    return 0"
   ]
  },
  {
   "cell_type": "code",
   "execution_count": 149,
   "metadata": {},
   "outputs": [
    {
     "data": {
      "text/plain": [
       "0"
      ]
     },
     "execution_count": 149,
     "metadata": {},
     "output_type": "execute_result"
    }
   ],
   "source": [
    "# FOR TESTING\n",
    "# url = 'https://expdfired.badssl.com'\n",
    "url = 'https://socds1.binus.ac.id/proposalskripsi/auth/login'\n",
    "# url = 'https://www.knowledgehut.com/tutorials/python-tutorial/python-lists-tuples'\n",
    "domain_spf(url)"
   ]
  },
  {
   "cell_type": "markdown",
   "metadata": {
    "id": "qVCI_vwtK36U"
   },
   "source": [
    "### *6.3. ASN*"
   ]
  },
  {
   "cell_type": "code",
   "execution_count": 150,
   "metadata": {
    "id": "F7XuLHlMrYGr"
   },
   "outputs": [],
   "source": [
    "def asn_ip(url):\n",
    "    try:\n",
    "        domainUrl = urlparse(url).hostname\n",
    "        ip = socket.gethostbyname(domainUrl)\n",
    "        c = Client()\n",
    "        r = c.lookup(ip)\n",
    "        return r.asn\n",
    "    except Exception:\n",
    "        return 0\n"
   ]
  },
  {
   "cell_type": "markdown",
   "metadata": {
    "id": "qVCI_vwtK36U"
   },
   "source": [
    "### *6.4. Domain activation time*"
   ]
  },
  {
   "cell_type": "code",
   "execution_count": 151,
   "metadata": {},
   "outputs": [],
   "source": [
    "def time_domain_activation(url):\n",
    "  today = datetime.now()\n",
    "\n",
    "  try:\n",
    "    creation_date = whois.whois(urlparse(url).netloc).creation_date\n",
    "  except Exception:\n",
    "    return 0\n",
    "\n",
    "  if isinstance(creation_date,list):\n",
    "    creation_date = creation_date[0]\n",
    "\n",
    "  if isinstance(creation_date,str):\n",
    "    try:\n",
    "      creation_date = datetime.strptime(creation_date,'%Y-%m-%d')\n",
    "      # expiration_date = datetime.strptime(expiration_date,\"%Y-%m-%d\")\n",
    "    except Exception:\n",
    "      return 0\n",
    "  if (creation_date is None) or type(creation_date) is list:\n",
    "    return 0\n",
    "  return abs((creation_date - today).days)"
   ]
  },
  {
   "cell_type": "code",
   "execution_count": 152,
   "metadata": {},
   "outputs": [
    {
     "data": {
      "text/plain": [
       "0"
      ]
     },
     "execution_count": 152,
     "metadata": {},
     "output_type": "execute_result"
    }
   ],
   "source": [
    "# FOR TESTING\n",
    "# url = 'https://stackoverflow.com/questions/6197572/change-statusbar-onmouseover-in-a-div'\n",
    "url = 'https://securiti.ai/privaci/universal-consent-preference-management/'\n",
    "time_domain_activation(url)\n",
    "# time_domain_expiration(url)"
   ]
  },
  {
   "cell_type": "markdown",
   "metadata": {
    "id": "qVCI_vwtK36U"
   },
   "source": [
    "### *6.5. Domain expiration time*"
   ]
  },
  {
   "cell_type": "code",
   "execution_count": 153,
   "metadata": {},
   "outputs": [],
   "source": [
    "def time_domain_expiration(url):\n",
    "  today = datetime.now()\n",
    "\n",
    "  try:\n",
    "    expiration_date = whois.whois(urlparse(url).netloc).expiration_date\n",
    "  except Exception:\n",
    "    return 0\n",
    "\n",
    "  if isinstance(expiration_date,list):\n",
    "    expiration_date = expiration_date[0]\n",
    "\n",
    "  if isinstance(expiration_date,list):\n",
    "    try:\n",
    "        expiration_date = datetime.strptime(expiration_date,\"%Y-%m-%d\")\n",
    "        return expiration_date\n",
    "    except Exception:\n",
    "      return 0\n",
    "  if (expiration_date is None) or type(expiration_date) is list:\n",
    "    return 0\n",
    "  return abs((today - expiration_date).days)\n"
   ]
  },
  {
   "cell_type": "code",
   "execution_count": 154,
   "metadata": {},
   "outputs": [
    {
     "data": {
      "text/plain": [
       "226"
      ]
     },
     "execution_count": 154,
     "metadata": {},
     "output_type": "execute_result"
    }
   ],
   "source": [
    "# FOR TESTING\n",
    "# url = 'https://stackoverflow.com/questions/6197572/change-statusbar-onmouseover-in-a-div'\n",
    "url = 'https://www.youtube.com'\n",
    "# time_domain_activation(url)\n",
    "time_domain_expiration(url)"
   ]
  },
  {
   "cell_type": "markdown",
   "metadata": {
    "id": "qVCI_vwtK36U"
   },
   "source": [
    "### *6.6. Number of resolved IPs*"
   ]
  },
  {
   "cell_type": "code",
   "execution_count": 155,
   "metadata": {},
   "outputs": [],
   "source": [
    "def qty_ip_resolved(url):\n",
    "    try:\n",
    "        domain = whois.whois(urlparse(url).netloc).domain_name\n",
    "    except Exception:\n",
    "        return 0\n",
    "\n",
    "    if domain is None:\n",
    "        return 0\n",
    "\n",
    "    if isinstance(domain,list):\n",
    "        try:\n",
    "            domain = domain[0]\n",
    "        except Exception:\n",
    "            return 0\n",
    "    try:\n",
    "        ipAddress = socket.gethostbyname_ex(domain)\n",
    "        return len(ipAddress[-1])\n",
    "    except Exception:\n",
    "        return 0"
   ]
  },
  {
   "cell_type": "code",
   "execution_count": 156,
   "metadata": {},
   "outputs": [
    {
     "data": {
      "text/plain": [
       "4"
      ]
     },
     "execution_count": 156,
     "metadata": {},
     "output_type": "execute_result"
    }
   ],
   "source": [
    "# FOR TESTING\n",
    "# url = 'https://socs1.binus.ac.id/proposalskripsi/auth/login'\n",
    "url = 'https://www.knowledgehut.com/tutorials/python-tutorial/python-lists-tuples'\n",
    "\n",
    "\n",
    "qty_ip_resolved(url)"
   ]
  },
  {
   "cell_type": "markdown",
   "metadata": {
    "id": "qVCI_vwtK36U"
   },
   "source": [
    "### *6.7. Number of resolved NS*"
   ]
  },
  {
   "cell_type": "code",
   "execution_count": 157,
   "metadata": {},
   "outputs": [],
   "source": [
    "def qty_nameservers(url):\n",
    "    try:\n",
    "        nameServer = whois.whois(urlparse(url).netloc).name_servers\n",
    "        # nameServer = \n",
    "    except Exception:\n",
    "        return 0\n",
    "\n",
    "    if nameServer is None:\n",
    "        return 0\n",
    "    if isinstance(nameServer,str):\n",
    "        return 1\n",
    "\n",
    "    return len(nameServer)"
   ]
  },
  {
   "cell_type": "code",
   "execution_count": 158,
   "metadata": {},
   "outputs": [
    {
     "data": {
      "text/plain": [
       "0"
      ]
     },
     "execution_count": 158,
     "metadata": {},
     "output_type": "execute_result"
    }
   ],
   "source": [
    "# FOR TESTING\n",
    "url = 'https://www.knowledgehdut.com/tutorials/python-tutorial/python-lists-tuples'\n",
    "# url = 'https://myclass.apps.binus.ac.id'\n",
    "# domain = whois.whois(urlparse(url).netloc).domain_name\n",
    "qty_nameservers(url)"
   ]
  },
  {
   "cell_type": "markdown",
   "metadata": {
    "id": "qVCI_vwtK36U"
   },
   "source": [
    "### *6.8. Number of MX servers*"
   ]
  },
  {
   "cell_type": "code",
   "execution_count": 159,
   "metadata": {},
   "outputs": [],
   "source": [
    "def qty_mx_servers(url):\n",
    "    try:\n",
    "        domain = whois.whois(urlparse(url).netloc).domain_name\n",
    "        try:\n",
    "            return len(dns.resolver.resolve(domain, 'MX'))\n",
    "        except Exception:\n",
    "            return 0\n",
    "    except Exception:\n",
    "        return 0\n"
   ]
  },
  {
   "cell_type": "code",
   "execution_count": 160,
   "metadata": {},
   "outputs": [
    {
     "data": {
      "text/plain": [
       "0"
      ]
     },
     "execution_count": 160,
     "metadata": {},
     "output_type": "execute_result"
    }
   ],
   "source": [
    "# FOR TESTING\n",
    "# url = 'https://socs1.binus.ac.id/proposalskripsi/auth/login'\n",
    "url = 'https://www.knowledgsdehut.com/tutorials/python-tutorial/python-lists-tuples'\n",
    "qty_mx_servers(url)"
   ]
  },
  {
   "cell_type": "markdown",
   "metadata": {
    "id": "qVCI_vwtK36U"
   },
   "source": [
    "### *6.9. Time-To-Live*"
   ]
  },
  {
   "cell_type": "code",
   "execution_count": 161,
   "metadata": {},
   "outputs": [],
   "source": [
    "def ttl_hostname(url):\n",
    "    my_resolver = dns.resolver.Resolver()\n",
    "    my_resolver.nameservers = ['1.1.1.1']\n",
    "\n",
    "    domain = urlparse(url).netloc\n",
    "    # print (ns2.binus.ac.id.)\n",
    "    try:\n",
    "        ns = get_authoritative_nameserver(domain)\n",
    "        # print(ns)\n",
    "        # answer = my_resolver.query('ns1-05.azure-dns.com.')\n",
    "        # my_resolver.query('ns2.binus.ac.id.').rrset.ttl\n",
    "        return my_resolver.query(ns).rrset.ttl\n",
    "    except Exception:\n",
    "        return 0\n",
    "\n",
    "def get_authoritative_nameserver(domain, log=lambda msg: None):\n",
    "    n = dns.name.from_text(domain)\n",
    "\n",
    "    depth = 2\n",
    "    default = dns.resolver.get_default_resolver()\n",
    "    nameserver = default.nameservers[0]\n",
    "\n",
    "    last = False\n",
    "    while not last:\n",
    "        s = n.split(depth)\n",
    "\n",
    "        last = s[0].to_unicode() == u'@'\n",
    "        sub = s[1]\n",
    "\n",
    "        log('Looking up %s on %s' % (sub, nameserver))\n",
    "        query = dns.message.make_query(sub, dns.rdatatype.NS)\n",
    "        response = dns.query.udp(query, nameserver)\n",
    "\n",
    "        rcode = response.rcode()\n",
    "        if rcode != dns.rcode.NOERROR:\n",
    "            if rcode == dns.rcode.NXDOMAIN:\n",
    "                raise Exception('%s does not exist.' % sub)\n",
    "            else:\n",
    "                raise Exception('Error %s' % dns.rcode.to_text(rcode))\n",
    "\n",
    "        rrset = None\n",
    "        if len(response.authority) > 0:\n",
    "            rrset = response.authority[0]\n",
    "        else:\n",
    "            rrset = response.answer[0]\n",
    "\n",
    "        rr = rrset[0]\n",
    "        if rr.rdtype == dns.rdatatype.SOA:\n",
    "            log('Same server is authoritative for %s' % sub)\n",
    "        else:\n",
    "            authority = rr.target\n",
    "            log('%s is authoritative for %s' % (authority, sub))\n",
    "            nameserver = default.query(authority).rrset[0].to_text()\n",
    "\n",
    "        depth += 1\n",
    "\n",
    "    return authority\n",
    "\n",
    "\n",
    "import sys\n",
    "\n",
    "def log(msg):\n",
    "    print (msg)"
   ]
  },
  {
   "cell_type": "code",
   "execution_count": 162,
   "metadata": {},
   "outputs": [
    {
     "data": {
      "text/plain": [
       "0"
      ]
     },
     "execution_count": 162,
     "metadata": {},
     "output_type": "execute_result"
    }
   ],
   "source": [
    "# FOR TESTING\n",
    "# url = 'https://socs1.binus.ac.id/proposalskripsi/auth/login'\n",
    "url = 'https://www.knowledgehut.com/tutorials/python-tutorial/python-lists-tuples'\n",
    "# url = 'https://stackoverflow.com/questions/26930572/count-number-of-redirects-in-scrapy'\n",
    "domain = urlparse(url).netloc\n",
    "\n",
    "ttl_hostname(domain)"
   ]
  },
  {
   "cell_type": "markdown",
   "metadata": {
    "id": "qVCI_vwtK36U"
   },
   "source": [
    "### *6.10. Has valid TLS/SSL certificate*"
   ]
  },
  {
   "cell_type": "code",
   "execution_count": 163,
   "metadata": {},
   "outputs": [],
   "source": [
    "def tls_ssl_certificate(url):\n",
    "    try:\n",
    "        r = requests.get(url)\n",
    "        return 1\n",
    "    except (requests.exceptions.SSLError):\n",
    "        # print(traceback.format_exc())\n",
    "        return 0\n"
   ]
  },
  {
   "cell_type": "code",
   "execution_count": 164,
   "metadata": {},
   "outputs": [
    {
     "data": {
      "text/plain": [
       "1"
      ]
     },
     "execution_count": 164,
     "metadata": {},
     "output_type": "execute_result"
    }
   ],
   "source": [
    "# FOR TESTING\n",
    "# url = 'https://expdfired.badssl.com'\n",
    "# url = 'https://socs1.binus.ac.id/proposalskripsi/auth/login'\n",
    "url = 'https://www.knowledgehut.com/tutorials/python-tutorial/python-lists-tuples'\n",
    "tls_ssl_certificate(url)"
   ]
  },
  {
   "cell_type": "markdown",
   "metadata": {
    "id": "qVCI_vwtK36U"
   },
   "source": [
    "### *6.11. Number of redirects*"
   ]
  },
  {
   "cell_type": "code",
   "execution_count": 165,
   "metadata": {
    "id": "4f0FPHnfhVfU"
   },
   "outputs": [],
   "source": [
    "def qty_redirects(url):\n",
    "    try:\n",
    "        response = requests.get(url, allow_redirects = True)\n",
    "        # print(response.history)\n",
    "        return sum(1 for _ in response.history)\n",
    "        \n",
    "    except requests.exceptions.SSLError:\n",
    "        # log.error(\n",
    "        #     'Certificate did not match expected hostname: %s. '\n",
    "        # )\n",
    "        return 0\n",
    "\n"
   ]
  },
  {
   "cell_type": "code",
   "execution_count": 166,
   "metadata": {},
   "outputs": [
    {
     "data": {
      "text/plain": [
       "0"
      ]
     },
     "execution_count": 166,
     "metadata": {},
     "output_type": "execute_result"
    }
   ],
   "source": [
    "# FOR TESTING\n",
    "\n",
    "# url = 'https://socs1.binus.ac.id/proposalskripsi/auth/login'\n",
    "# url = 'https://www.knowledgehut.com/tutorials/python-tutorial/python-lists-tuples'\n",
    "url = 'https://facebok.com/'\n",
    "# url = 'http://httpbin.org/redirect/3'\n",
    "qty_redirects(url)"
   ]
  },
  {
   "cell_type": "markdown",
   "metadata": {
    "id": "qVCI_vwtK36U"
   },
   "source": [
    "### *6.12. Is URL/Domain indexed on Google*"
   ]
  },
  {
   "cell_type": "code",
   "execution_count": 167,
   "metadata": {},
   "outputs": [],
   "source": [
    "def indexed(url):\n",
    "  \n",
    "\n",
    "  google = f\"https://www.google.com/search?q=site:{url}&hl=en\"\n",
    "  response = requests.get(google, cookies={\"CONSENT\": \"YES+1\"})\n",
    "  soup = BeautifulSoup(response.content, \"html.parser\")\n",
    "  not_indexed = re.compile(\"did not match any documents\")\n",
    "\n",
    "  return 0 if soup(text=not_indexed) else 1\n",
    "\n",
    "def url_google_index(url):\n",
    "  return indexed(url)\n",
    "\n",
    "def domain_google_index(url):\n",
    "  domainURL = urlparse(url).hostname\n",
    "  return indexed(domainURL)"
   ]
  },
  {
   "cell_type": "code",
   "execution_count": 168,
   "metadata": {},
   "outputs": [
    {
     "data": {
      "text/plain": [
       "0"
      ]
     },
     "execution_count": 168,
     "metadata": {},
     "output_type": "execute_result"
    }
   ],
   "source": [
    "# FOR TESTING\n",
    "\n",
    "url = 'https://socs1.binus.ac.id/proposalskripsi/auth/login'\n",
    "# url = 'https://www.knowsdfsdfledgdsfsdfehut.com/tutorials/python-tutorial/python-lists-tuples'\n",
    "# url = 'https://facebook.com/'\n",
    "# url = 'http://httpbin.org/redirect/3'\n",
    "url_google_index(url)\n",
    "# domain_google_index(url)"
   ]
  },
  {
   "cell_type": "markdown",
   "metadata": {
    "id": "qVCI_vwtK36U"
   },
   "source": [
    "### *6.13. Is URL shortened*"
   ]
  },
  {
   "cell_type": "code",
   "execution_count": 169,
   "metadata": {
    "id": "zSx-02KHa_Tr"
   },
   "outputs": [],
   "source": [
    "# Is URL shortened\n",
    "\n",
    "# !pip install urlunshort3\n",
    "# import urlunshort3\n",
    "# is_shortened(url)\n",
    "\n",
    "short_url = re.compile(r\"bit\\.ly|goo\\.gl|shorte\\.st|go2l\\.ink|x\\.co|ow\\.ly|t\\.co|tinyurl|tr\\.im|is\\.gd|cli\\.gs|\" \\\n",
    "            r\"yfrog\\.com|migre\\.me|ff\\.im|tiny\\.cc|url4\\.eu|twit\\.ac|su\\.pr|twurl\\.nl|snipurl\\.com|\" \\\n",
    "            r\"short\\.to|BudURL\\.com|ping\\.fm|post\\.ly|Just\\.as|bkite\\.com|snipr\\.com|fic\\.kr|loopt\\.us|\" \\\n",
    "            r\"doiop\\.com|short\\.ie|kl\\.am|wp\\.me|rubyurl\\.com|om\\.ly|to\\.ly|bit\\.do|t\\.co|lnkd\\.in|db\\.tt|\" \\\n",
    "            r\"qr\\.ae|adf\\.ly|goo\\.gl|bitly\\.com|cur\\.lv|tinyurl\\.com|ow\\.ly|bit\\.ly|ity\\.im|q\\.gs|is\\.gd|\" \\\n",
    "            r\"po\\.st|bc\\.vc|twitthis\\.com|u\\.to|j\\.mp|buzurl\\.com|cutt\\.us|u\\.bb|yourls\\.org|x\\.co|\" \\\n",
    "            r\"prettylinkpro\\.com|scrnch\\.me|filoops\\.info|vzturl\\.com|qr\\.net|1url\\.com|tweez\\.me|v\\.gd|\" \\\n",
    "            r\"tr\\.im|link\\.zip\\.net\")\n",
    "# def url_shortened(url):\n",
    "#     match = re.search(short_url,url)\n",
    "#     url_shortened = 1 if match else 0\n",
    "#     url_shortened\n",
    "\n",
    "def url_shortened(url):\n",
    "    domain = urlparse(url).netloc\n",
    "    return 1 if short_url.match(domain) else 0"
   ]
  },
  {
   "cell_type": "markdown",
   "metadata": {
    "id": "qVCI_vwtK36U"
   },
   "source": [
    "## **Testing**"
   ]
  },
  {
   "cell_type": "code",
   "execution_count": 174,
   "metadata": {},
   "outputs": [
    {
     "name": "stdout",
     "output_type": "stream",
     "text": [
      "[5, 0, 0, 4, 0, 0, 0, 0, 0, 0, 0, 0, 0, 0, 0, 0, 0, 3, 62, 4, 0, 0, 0, 0, 0, 0, 0, 0, 0, 0, 0, 0, 0, 0, 0, 0, 9, 34, 0, 0, 0, 0, 0, 1, 0, 0, 0, 0, 0, 0, 0, 0, 0, 0, 0, 0, 0, 11, 1, 0, 0, 0, 0, 0, 0, 0, 0, 0, 0, 0, 0, 0, 0, 0, 0, 9, 0, 0, 0, 0, 0, 0, 0, 0, 0, 0, 0, 0, 0, 0, 0, 0, 0, 0, 0, 0, 0, 0.486414, 0, '36352', 222, 144, 0, 2, 0, 0, 1, 0, 0, 0, 0]\n",
      "[4, 1, 0, 6, 0, 0, 0, 0, 0, 0, 0, 0, 0, 0, 0, 0, 0, 3, 94, 1, 1, 0, 0, 0, 0, 0, 0, 0, 0, 0, 0, 0, 0, 0, 0, 0, 5, 16, 0, 0, 0, 0, 0, 3, 0, 0, 0, 0, 0, 0, 0, 0, 0, 0, 0, 0, 0, 25, 3, 0, 0, 0, 0, 0, 0, 0, 0, 0, 0, 0, 0, 0, 0, 0, 0, 44, 0, 0, 0, 0, 0, 0, 0, 0, 0, 0, 0, 0, 0, 0, 0, 0, 0, 0, 0, 0, 0, 0.081132, 0, '54113', 0, 0, 0, 3, 0, 0, 1, 0, 1, 1, 0]\n"
     ]
    }
   ],
   "source": [
    "def featureExtract(url):\n",
    "\n",
    "  features = []\n",
    "\n",
    "  features.append(qty_dot(url))\n",
    "  features.append(qty_hyphen(url))\n",
    "  features.append(qty_underline(url))\n",
    "  features.append(qty_slash(url))\n",
    "  features.append(qty_questionmark(url))\n",
    "  features.append(qty_equal(url))\n",
    "  features.append(qty_at(url))\n",
    "  features.append(qty_and(url))\n",
    "  features.append(qty_exclamation(url))\n",
    "  features.append(qty_space(url))\n",
    "  features.append(qty_tilde(url))\n",
    "  features.append(qty_comma(url))\n",
    "  features.append(qty_plus(url))\n",
    "  features.append(qty_asterisk(url))\n",
    "  features.append(qty_hashtag(url))\n",
    "  features.append(qty_dollar(url))\n",
    "  features.append(qty_percent(url))\n",
    "  features.append(qty_tld_url(url))\n",
    "  features.append(length_url(url))\n",
    "\n",
    "  try:\n",
    "    domainUrl = urlparse(url).hostname\n",
    "  except Exception:\n",
    "    domainUrl = 0\n",
    "    \n",
    "  features.append(0 if domainUrl == 0 else qty_dot(domainUrl))\n",
    "  features.append(0 if domainUrl == 0 else qty_hyphen(domainUrl))\n",
    "  features.append(0 if domainUrl == 0 else qty_underline(domainUrl))\n",
    "  features.append(0 if domainUrl == 0 else qty_slash(domainUrl))\n",
    "  features.append(0 if domainUrl == 0 else qty_questionmark(domainUrl))\n",
    "  features.append(0 if domainUrl == 0 else qty_equal(domainUrl))\n",
    "  features.append(0 if domainUrl == 0 else qty_at(domainUrl))\n",
    "  features.append(0 if domainUrl == 0 else qty_and(domainUrl))\n",
    "  features.append(0 if domainUrl == 0 else qty_exclamation(domainUrl))\n",
    "  features.append(0 if domainUrl == 0 else qty_space(domainUrl))\n",
    "  features.append(0 if domainUrl == 0 else qty_tilde(domainUrl))\n",
    "  features.append(0 if domainUrl == 0 else qty_comma(domainUrl))\n",
    "  features.append(0 if domainUrl == 0 else qty_plus(domainUrl))\n",
    "  features.append(0 if domainUrl == 0 else qty_asterisk(domainUrl))\n",
    "  features.append(0 if domainUrl == 0 else qty_hashtag(domainUrl))\n",
    "  features.append(0 if domainUrl == 0 else qty_dollar(domainUrl))\n",
    "  features.append(0 if domainUrl == 0 else qty_percent(domainUrl))\n",
    "  features.append(0 if domainUrl == 0 else qty_vowels_domain(domainUrl))\n",
    "  features.append(0 if domainUrl == 0 else domain_length(domainUrl))\n",
    "  features.append(0 if domainUrl == 0 else domain_in_ip(domainUrl))\n",
    "  features.append(0 if domainUrl == 0 else server_client_domain(domainUrl))\n",
    "\n",
    "  try:\n",
    "    directoryUrl = os.path.dirname(urlparse(url).path)\n",
    "    if not directoryUrl:\n",
    "      directoryUrl = 0\n",
    "  except Exception:\n",
    "    directoryUrl = 0\n",
    "\n",
    "  features.append(0 if directoryUrl == 0 else qty_dot(directoryUrl))\n",
    "  features.append(0 if directoryUrl == 0 else qty_hyphen(directoryUrl))\n",
    "  features.append(0 if directoryUrl == 0 else qty_underline(directoryUrl))\n",
    "  features.append(0 if directoryUrl == 0 else qty_slash(directoryUrl))\n",
    "  features.append(0 if directoryUrl == 0 else qty_questionmark(directoryUrl))\n",
    "  features.append(0 if directoryUrl == 0 else qty_equal(directoryUrl))\n",
    "  features.append(0 if directoryUrl == 0 else qty_at(directoryUrl))\n",
    "  features.append(0 if directoryUrl == 0 else qty_and(directoryUrl))\n",
    "  features.append(0 if directoryUrl == 0 else qty_exclamation(directoryUrl))\n",
    "  features.append(0 if directoryUrl == 0 else qty_space(directoryUrl))\n",
    "  features.append(0 if directoryUrl == 0 else qty_tilde(directoryUrl))\n",
    "  features.append(0 if directoryUrl == 0 else qty_comma(directoryUrl))\n",
    "  features.append(0 if directoryUrl == 0 else qty_plus(directoryUrl))\n",
    "  features.append(0 if directoryUrl == 0 else qty_asterisk(directoryUrl))\n",
    "  features.append(0 if directoryUrl == 0 else qty_hashtag(directoryUrl))\n",
    "  features.append(0 if directoryUrl == 0 else qty_dollar(directoryUrl))\n",
    "  features.append(0 if directoryUrl == 0 else qty_percent(directoryUrl))\n",
    "  features.append(0 if directoryUrl == 0 else domain_length(directoryUrl))\n",
    "\n",
    "  try:\n",
    "    filenameUrl = os.path.basename(urlparse(url).path)\n",
    "    if not filenameUrl:\n",
    "      filenameUrl = 0\n",
    "  except Exception:\n",
    "    filenameUrl = 0\n",
    "\n",
    "  features.append(0 if filenameUrl == 0 else qty_dot(filenameUrl))\n",
    "  features.append(0 if filenameUrl == 0 else qty_hyphen(filenameUrl))\n",
    "  features.append(0 if filenameUrl == 0 else qty_underline(filenameUrl))\n",
    "  features.append(0 if filenameUrl == 0 else qty_slash(filenameUrl))\n",
    "  features.append(0 if filenameUrl == 0 else qty_questionmark(filenameUrl))\n",
    "  features.append(0 if filenameUrl == 0 else qty_equal(filenameUrl))\n",
    "  features.append(0 if filenameUrl == 0 else qty_at(filenameUrl))\n",
    "  features.append(0 if filenameUrl == 0 else qty_and(filenameUrl))\n",
    "  features.append(0 if filenameUrl == 0 else qty_exclamation(filenameUrl))\n",
    "  features.append(0 if filenameUrl == 0 else qty_space(filenameUrl))\n",
    "  features.append(0 if filenameUrl == 0 else qty_tilde(filenameUrl))\n",
    "  features.append(0 if filenameUrl == 0 else qty_comma(filenameUrl))\n",
    "  features.append(0 if filenameUrl == 0 else qty_plus(filenameUrl))\n",
    "  features.append(0 if filenameUrl == 0 else qty_asterisk(filenameUrl))\n",
    "  features.append(0 if filenameUrl == 0 else qty_hashtag(filenameUrl))\n",
    "  features.append(0 if filenameUrl == 0 else qty_dollar(filenameUrl))\n",
    "  features.append(0 if filenameUrl == 0 else qty_percent(filenameUrl))\n",
    "  features.append(0 if filenameUrl == 0 else domain_length(filenameUrl))\n",
    "\n",
    "  try:\n",
    "    parameterUrl = urlparse(url).query\n",
    "    if not parameterUrl:\n",
    "      parameterUrl = 0\n",
    "  except Exception:\n",
    "    parameterUrl = 0\n",
    "\n",
    "  features.append(0 if parameterUrl == 0 else qty_dot(parameterUrl))\n",
    "  features.append(0 if parameterUrl == 0 else qty_hyphen(parameterUrl))\n",
    "  features.append(0 if parameterUrl == 0 else qty_underline(parameterUrl))\n",
    "  features.append(0 if parameterUrl == 0 else qty_slash(parameterUrl))\n",
    "  features.append(0 if parameterUrl == 0 else qty_questionmark(parameterUrl))\n",
    "  features.append(0 if parameterUrl == 0 else qty_equal(parameterUrl))\n",
    "  features.append(0 if parameterUrl == 0 else qty_at(parameterUrl))\n",
    "  features.append(0 if parameterUrl == 0 else qty_and(parameterUrl))\n",
    "  features.append(0 if parameterUrl == 0 else qty_exclamation(parameterUrl))\n",
    "  features.append(0 if parameterUrl == 0 else qty_space(parameterUrl))\n",
    "  features.append(0 if parameterUrl == 0 else qty_tilde(parameterUrl))\n",
    "  features.append(0 if parameterUrl == 0 else qty_comma(parameterUrl))\n",
    "  features.append(0 if parameterUrl == 0 else qty_plus(parameterUrl))\n",
    "  features.append(0 if parameterUrl == 0 else qty_asterisk(parameterUrl))\n",
    "  features.append(0 if parameterUrl == 0 else qty_hashtag(parameterUrl))\n",
    "  features.append(0 if parameterUrl == 0 else qty_dollar(parameterUrl))\n",
    "  features.append(0 if parameterUrl == 0 else qty_percent(parameterUrl))\n",
    "  features.append(0 if parameterUrl == 0 else domain_length(parameterUrl))\n",
    "  features.append(0 if parameterUrl == 0 else tld_present_params(parameterUrl))\n",
    "  features.append(0 if parameterUrl == 0 else qty_params(parameterUrl))\n",
    "  features.append(email_in_url(url))\n",
    "\n",
    "\n",
    "  features.append(time_response(url))\n",
    "  features.append(domain_spf(url))\n",
    "  features.append(asn_ip(url))\n",
    "  features.append(time_domain_activation(url))\n",
    "  features.append(time_domain_expiration(url))\n",
    "  features.append(qty_ip_resolved(url))\n",
    "  features.append(qty_nameservers(url))\n",
    "  features.append(qty_mx_servers(url))\n",
    "  features.append(0)\n",
    "  features.append(tls_ssl_certificate(url))\n",
    "  features.append(qty_redirects(url))\n",
    "  features.append(url_google_index(url))\n",
    "  features.append(domain_google_index(url))\n",
    "  features.append(url_shortened(url))\n",
    "\n",
    "\n",
    "  \n",
    "\n",
    "\n",
    "\n",
    "  print (features)\n",
    "\n",
    "from concurrent.futures import ThreadPoolExecutor\n",
    "\n",
    "\n",
    "list_domain = ['http://www.mascesceard.mcasord.mltuey.top/ic6oXx7P3s/page1.php',\n",
    "              'https://scikit-learn.org/stable/modules/generated/sklearn.ensemble.RandomForestClassifier.html'\n",
    "              ]\n",
    "\n",
    "\n",
    "with ThreadPoolExecutor() as executor:\n",
    "    executor.map(featureExtract, list_domain)\n"
   ]
  },
  {
   "cell_type": "code",
   "execution_count": null,
   "metadata": {},
   "outputs": [],
   "source": []
  },
  {
   "cell_type": "code",
   "execution_count": null,
   "metadata": {},
   "outputs": [],
   "source": [
    "regexUrl = re.compile(\n",
    "        r'^(?:http|ftp)s?://' # http:// or https://\n",
    "        r'(?:(?:[A-Z0-9](?:[A-Z0-9-]{0,61}[A-Z0-9])?\\.)+(?:[A-Z]{2,6}\\.?|[A-Z0-9-]{2,}\\.?)|' #domain...\n",
    "        r'localhost|' #localhost...\n",
    "        r'\\d{1,3}\\.\\d{1,3}\\.\\d{1,3}\\.\\d{1,3})' # ...or ip\n",
    "        r'(?::\\d+)?' # optional port\n",
    "        r'(?:/?|[/?]\\S+)$', re.IGNORECASE)\n",
    "\n",
    "# print(re.match(regexUrl, \"http://www.example.com\") is not None) # True\n",
    "# print(re.match(regexUrl, \"example.com\") is not None)   \n",
    "\n",
    "\n",
    "def urlValid(url):\n",
    "    if re.match(regexUrl, url) is not None:\n",
    "        return featureExtract('https://www.knowledgehut.com/tutorials/python-tutorial/python-lists-tuples')\n",
    "\n",
    "        # valid=validators.url(url)\n",
    "        # if valid==True:\n",
    "        #     print(\"Url is valid\")\n",
    "        # else:\n",
    "        #     print(\"Invalid url\")\n",
    "    else:\n",
    "        return 0"
   ]
  },
  {
   "cell_type": "code",
   "execution_count": null,
   "metadata": {},
   "outputs": [
    {
     "data": {
      "text/plain": [
       "[0.034778, 0, '16509', 4001, 1479, 4, 4, 0, 1, 0, 1, 1, 0]"
      ]
     },
     "execution_count": 93,
     "metadata": {},
     "output_type": "execute_result"
    }
   ],
   "source": [
    "# urlValid('https://pand$$$$as@asd.py~da,-ta.org?/doc&!%++****#2,,00@s/user_guide/merging.html')\n",
    "urlValid('https://www.knowledgehut.com/tutorials/python-tutorial/python-lists-tuples')\n",
    "# urlValid('https://pand$$$$as@asd.py~da,-t a.org?/doc&!%++****#2,,00@s/user_guide/merging.html')\n",
    "# urlValid('https://www.example.com/some_path?some_key=some_valuesdfs&asdasd=asd.com')"
   ]
  },
  {
   "cell_type": "code",
   "execution_count": null,
   "metadata": {},
   "outputs": [
    {
     "data": {
      "text/plain": [
       "13"
      ]
     },
     "execution_count": 94,
     "metadata": {},
     "output_type": "execute_result"
    }
   ],
   "source": [
    "len(urlValid('https://www.knowledgehut.com/tutorials/python-tutorial/python-lists-tuples'))"
   ]
  },
  {
   "cell_type": "markdown",
   "metadata": {},
   "source": [
    "generate dataset"
   ]
  },
  {
   "cell_type": "code",
   "execution_count": null,
   "metadata": {},
   "outputs": [],
   "source": []
  },
  {
   "cell_type": "code",
   "execution_count": null,
   "metadata": {},
   "outputs": [],
   "source": []
  },
  {
   "cell_type": "code",
   "execution_count": null,
   "metadata": {},
   "outputs": [],
   "source": []
  },
  {
   "cell_type": "code",
   "execution_count": 154,
   "metadata": {},
   "outputs": [],
   "source": [
    "def whoisDomain(url):\n",
    "    try:\n",
    "        domain = whois.whois(urlparse(url).netloc)\n",
    "\n",
    "    except Exception:\n",
    "        return 0\n",
    "\n",
    "    if domain is None:\n",
    "        return 0\n",
    "\n",
    "    if isinstance(domain,list):\n",
    "        try:\n",
    "            domain = domain[0]\n",
    "        except Exception:\n",
    "            return 0\n",
    "    return domain"
   ]
  },
  {
   "cell_type": "code",
   "execution_count": 148,
   "metadata": {},
   "outputs": [],
   "source": [
    "def city(url):\n",
    "    return domain.address"
   ]
  },
  {
   "cell_type": "code",
   "execution_count": 164,
   "metadata": {},
   "outputs": [],
   "source": [
    "def WhoisExp(url):\n",
    "    try:\n",
    "        expiration_date = whois.whois(urlparse(url).netloc).expiration_date\n",
    "    except Exception:\n",
    "        return 0\n",
    "\n",
    "    try:\n",
    "        return expiration_date.strftime(\"%m/%d/%Y, %H:%M:%S\")\n",
    "    except Exception:\n",
    "        return 0\n",
    "    "
   ]
  },
  {
   "cell_type": "code",
   "execution_count": 165,
   "metadata": {},
   "outputs": [
    {
     "data": {
      "text/plain": [
       "'02/02/2023, 11:59:59'"
      ]
     },
     "execution_count": 165,
     "metadata": {},
     "output_type": "execute_result"
    }
   ],
   "source": [
    "url = \"https://stackoverflow.com/questions/72910205/there-is-a-way-to-publish-and-consume-message-from-django-to-react\"\n",
    "exp(url)"
   ]
  },
  {
   "cell_type": "code",
   "execution_count": 138,
   "metadata": {},
   "outputs": [
    {
     "data": {
      "text/plain": [
       "{'domain_name': 'STACKOVERFLOW.COM',\n",
       " 'registrar': 'Name.com, Inc.',\n",
       " 'whois_server': 'whois.name.com',\n",
       " 'referral_url': None,\n",
       " 'updated_date': datetime.datetime(2022, 6, 10, 10, 45, 40),\n",
       " 'creation_date': datetime.datetime(2003, 12, 26, 19, 18, 7),\n",
       " 'expiration_date': datetime.datetime(2023, 2, 2, 11, 59, 59),\n",
       " 'name_servers': ['NS-1033.AWSDNS-01.ORG',\n",
       "  'NS-358.AWSDNS-44.COM',\n",
       "  'NS-CLOUD-E1.GOOGLEDOMAINS.COM',\n",
       "  'NS-CLOUD-E2.GOOGLEDOMAINS.COM',\n",
       "  'ns-1033.awsdns-01.org',\n",
       "  'ns-358.awsdns-44.com',\n",
       "  'ns-cloud-e1.googledomains.com',\n",
       "  'ns-cloud-e2.googledomains.com'],\n",
       " 'status': ['ok https://icann.org/epp#ok', 'ok https://www.icann.org/epp#ok'],\n",
       " 'emails': 'abuse@name.com',\n",
       " 'dnssec': ['unsigned', 'unSigned'],\n",
       " 'name': 'Sysadmin Team',\n",
       " 'org': 'Stack Exchange, Inc.',\n",
       " 'address': '110 William St , Floor 28',\n",
       " 'city': 'New York',\n",
       " 'state': 'NY',\n",
       " 'zipcode': '10038',\n",
       " 'country': 'US'}"
      ]
     },
     "execution_count": 138,
     "metadata": {},
     "output_type": "execute_result"
    }
   ],
   "source": [
    "url = \"https://stackoverflow.com/questions/72910205/there-is-a-way-to-publish-and-consume-message-from-django-to-react\"\n",
    "whoisDomain(url)\n"
   ]
  },
  {
   "cell_type": "code",
   "execution_count": 24,
   "metadata": {},
   "outputs": [],
   "source": [
    "del dict_whois['creation_date']\n"
   ]
  },
  {
   "cell_type": "code",
   "execution_count": 29,
   "metadata": {},
   "outputs": [
    {
     "data": {
      "text/plain": [
       "'clientDeleteProhibited https://icann.org/epp#clientDeleteProhibited'"
      ]
     },
     "execution_count": 29,
     "metadata": {},
     "output_type": "execute_result"
    }
   ],
   "source": [
    "dict_whois.status[0]"
   ]
  },
  {
   "cell_type": "code",
   "execution_count": 10,
   "metadata": {},
   "outputs": [],
   "source": [
    "import json "
   ]
  },
  {
   "cell_type": "code",
   "execution_count": 12,
   "metadata": {},
   "outputs": [
    {
     "ename": "TypeError",
     "evalue": "Object of type datetime is not JSON serializable",
     "output_type": "error",
     "traceback": [
      "\u001b[0;31m---------------------------------------------------------------------------\u001b[0m",
      "\u001b[0;31mTypeError\u001b[0m                                 Traceback (most recent call last)",
      "\u001b[1;32m/Users/jordan/Documents/PhishingDetection/Thesis_PhishingDetection/URL_Extract_feature.ipynb Cell 95'\u001b[0m in \u001b[0;36m<cell line: 1>\u001b[0;34m()\u001b[0m\n\u001b[0;32m----> <a href='vscode-notebook-cell:/Users/jordan/Documents/PhishingDetection/Thesis_PhishingDetection/URL_Extract_feature.ipynb#ch0000093?line=0'>1</a>\u001b[0m json_object \u001b[39m=\u001b[39m json\u001b[39m.\u001b[39;49mdumps(dict_whois, indent \u001b[39m=\u001b[39;49m \u001b[39m10\u001b[39;49m) \n\u001b[1;32m      <a href='vscode-notebook-cell:/Users/jordan/Documents/PhishingDetection/Thesis_PhishingDetection/URL_Extract_feature.ipynb#ch0000093?line=1'>2</a>\u001b[0m \u001b[39mprint\u001b[39m(json_object)\n",
      "File \u001b[0;32m~/miniforge3/envs/tfm1/lib/python3.9/json/__init__.py:234\u001b[0m, in \u001b[0;36mdumps\u001b[0;34m(obj, skipkeys, ensure_ascii, check_circular, allow_nan, cls, indent, separators, default, sort_keys, **kw)\u001b[0m\n\u001b[1;32m    232\u001b[0m \u001b[39mif\u001b[39;00m \u001b[39mcls\u001b[39m \u001b[39mis\u001b[39;00m \u001b[39mNone\u001b[39;00m:\n\u001b[1;32m    233\u001b[0m     \u001b[39mcls\u001b[39m \u001b[39m=\u001b[39m JSONEncoder\n\u001b[0;32m--> 234\u001b[0m \u001b[39mreturn\u001b[39;00m \u001b[39mcls\u001b[39;49m(\n\u001b[1;32m    235\u001b[0m     skipkeys\u001b[39m=\u001b[39;49mskipkeys, ensure_ascii\u001b[39m=\u001b[39;49mensure_ascii,\n\u001b[1;32m    236\u001b[0m     check_circular\u001b[39m=\u001b[39;49mcheck_circular, allow_nan\u001b[39m=\u001b[39;49mallow_nan, indent\u001b[39m=\u001b[39;49mindent,\n\u001b[1;32m    237\u001b[0m     separators\u001b[39m=\u001b[39;49mseparators, default\u001b[39m=\u001b[39;49mdefault, sort_keys\u001b[39m=\u001b[39;49msort_keys,\n\u001b[1;32m    238\u001b[0m     \u001b[39m*\u001b[39;49m\u001b[39m*\u001b[39;49mkw)\u001b[39m.\u001b[39;49mencode(obj)\n",
      "File \u001b[0;32m~/miniforge3/envs/tfm1/lib/python3.9/json/encoder.py:201\u001b[0m, in \u001b[0;36mJSONEncoder.encode\u001b[0;34m(self, o)\u001b[0m\n\u001b[1;32m    199\u001b[0m chunks \u001b[39m=\u001b[39m \u001b[39mself\u001b[39m\u001b[39m.\u001b[39miterencode(o, _one_shot\u001b[39m=\u001b[39m\u001b[39mTrue\u001b[39;00m)\n\u001b[1;32m    200\u001b[0m \u001b[39mif\u001b[39;00m \u001b[39mnot\u001b[39;00m \u001b[39misinstance\u001b[39m(chunks, (\u001b[39mlist\u001b[39m, \u001b[39mtuple\u001b[39m)):\n\u001b[0;32m--> 201\u001b[0m     chunks \u001b[39m=\u001b[39m \u001b[39mlist\u001b[39;49m(chunks)\n\u001b[1;32m    202\u001b[0m \u001b[39mreturn\u001b[39;00m \u001b[39m'\u001b[39m\u001b[39m'\u001b[39m\u001b[39m.\u001b[39mjoin(chunks)\n",
      "File \u001b[0;32m~/miniforge3/envs/tfm1/lib/python3.9/json/encoder.py:431\u001b[0m, in \u001b[0;36m_make_iterencode.<locals>._iterencode\u001b[0;34m(o, _current_indent_level)\u001b[0m\n\u001b[1;32m    429\u001b[0m     \u001b[39myield from\u001b[39;00m _iterencode_list(o, _current_indent_level)\n\u001b[1;32m    430\u001b[0m \u001b[39melif\u001b[39;00m \u001b[39misinstance\u001b[39m(o, \u001b[39mdict\u001b[39m):\n\u001b[0;32m--> 431\u001b[0m     \u001b[39myield from\u001b[39;00m _iterencode_dict(o, _current_indent_level)\n\u001b[1;32m    432\u001b[0m \u001b[39melse\u001b[39;00m:\n\u001b[1;32m    433\u001b[0m     \u001b[39mif\u001b[39;00m markers \u001b[39mis\u001b[39;00m \u001b[39mnot\u001b[39;00m \u001b[39mNone\u001b[39;00m:\n",
      "File \u001b[0;32m~/miniforge3/envs/tfm1/lib/python3.9/json/encoder.py:405\u001b[0m, in \u001b[0;36m_make_iterencode.<locals>._iterencode_dict\u001b[0;34m(dct, _current_indent_level)\u001b[0m\n\u001b[1;32m    403\u001b[0m         \u001b[39melse\u001b[39;00m:\n\u001b[1;32m    404\u001b[0m             chunks \u001b[39m=\u001b[39m _iterencode(value, _current_indent_level)\n\u001b[0;32m--> 405\u001b[0m         \u001b[39myield from\u001b[39;00m chunks\n\u001b[1;32m    406\u001b[0m \u001b[39mif\u001b[39;00m newline_indent \u001b[39mis\u001b[39;00m \u001b[39mnot\u001b[39;00m \u001b[39mNone\u001b[39;00m:\n\u001b[1;32m    407\u001b[0m     _current_indent_level \u001b[39m-\u001b[39m\u001b[39m=\u001b[39m \u001b[39m1\u001b[39m\n",
      "File \u001b[0;32m~/miniforge3/envs/tfm1/lib/python3.9/json/encoder.py:325\u001b[0m, in \u001b[0;36m_make_iterencode.<locals>._iterencode_list\u001b[0;34m(lst, _current_indent_level)\u001b[0m\n\u001b[1;32m    323\u001b[0m         \u001b[39melse\u001b[39;00m:\n\u001b[1;32m    324\u001b[0m             chunks \u001b[39m=\u001b[39m _iterencode(value, _current_indent_level)\n\u001b[0;32m--> 325\u001b[0m         \u001b[39myield from\u001b[39;00m chunks\n\u001b[1;32m    326\u001b[0m \u001b[39mif\u001b[39;00m newline_indent \u001b[39mis\u001b[39;00m \u001b[39mnot\u001b[39;00m \u001b[39mNone\u001b[39;00m:\n\u001b[1;32m    327\u001b[0m     _current_indent_level \u001b[39m-\u001b[39m\u001b[39m=\u001b[39m \u001b[39m1\u001b[39m\n",
      "File \u001b[0;32m~/miniforge3/envs/tfm1/lib/python3.9/json/encoder.py:438\u001b[0m, in \u001b[0;36m_make_iterencode.<locals>._iterencode\u001b[0;34m(o, _current_indent_level)\u001b[0m\n\u001b[1;32m    436\u001b[0m         \u001b[39mraise\u001b[39;00m \u001b[39mValueError\u001b[39;00m(\u001b[39m\"\u001b[39m\u001b[39mCircular reference detected\u001b[39m\u001b[39m\"\u001b[39m)\n\u001b[1;32m    437\u001b[0m     markers[markerid] \u001b[39m=\u001b[39m o\n\u001b[0;32m--> 438\u001b[0m o \u001b[39m=\u001b[39m _default(o)\n\u001b[1;32m    439\u001b[0m \u001b[39myield from\u001b[39;00m _iterencode(o, _current_indent_level)\n\u001b[1;32m    440\u001b[0m \u001b[39mif\u001b[39;00m markers \u001b[39mis\u001b[39;00m \u001b[39mnot\u001b[39;00m \u001b[39mNone\u001b[39;00m:\n",
      "File \u001b[0;32m~/miniforge3/envs/tfm1/lib/python3.9/json/encoder.py:179\u001b[0m, in \u001b[0;36mJSONEncoder.default\u001b[0;34m(self, o)\u001b[0m\n\u001b[1;32m    160\u001b[0m \u001b[39mdef\u001b[39;00m \u001b[39mdefault\u001b[39m(\u001b[39mself\u001b[39m, o):\n\u001b[1;32m    161\u001b[0m     \u001b[39m\"\"\"Implement this method in a subclass such that it returns\u001b[39;00m\n\u001b[1;32m    162\u001b[0m \u001b[39m    a serializable object for ``o``, or calls the base implementation\u001b[39;00m\n\u001b[1;32m    163\u001b[0m \u001b[39m    (to raise a ``TypeError``).\u001b[39;00m\n\u001b[0;32m   (...)\u001b[0m\n\u001b[1;32m    177\u001b[0m \n\u001b[1;32m    178\u001b[0m \u001b[39m    \"\"\"\u001b[39;00m\n\u001b[0;32m--> 179\u001b[0m     \u001b[39mraise\u001b[39;00m \u001b[39mTypeError\u001b[39;00m(\u001b[39mf\u001b[39m\u001b[39m'\u001b[39m\u001b[39mObject of type \u001b[39m\u001b[39m{\u001b[39;00mo\u001b[39m.\u001b[39m\u001b[39m__class__\u001b[39m\u001b[39m.\u001b[39m\u001b[39m__name__\u001b[39m\u001b[39m}\u001b[39;00m\u001b[39m \u001b[39m\u001b[39m'\u001b[39m\n\u001b[1;32m    180\u001b[0m                     \u001b[39mf\u001b[39m\u001b[39m'\u001b[39m\u001b[39mis not JSON serializable\u001b[39m\u001b[39m'\u001b[39m)\n",
      "\u001b[0;31mTypeError\u001b[0m: Object of type datetime is not JSON serializable"
     ]
    }
   ],
   "source": [
    "json_object = json.dumps(dict_whois, indent = 10) \n",
    "print(json_object)"
   ]
  },
  {
   "cell_type": "code",
   "execution_count": null,
   "metadata": {},
   "outputs": [],
   "source": []
  },
  {
   "cell_type": "markdown",
   "metadata": {},
   "source": [
    "testing for features"
   ]
  },
  {
   "cell_type": "code",
   "execution_count": null,
   "metadata": {},
   "outputs": [
    {
     "ename": "ModuleNotFoundError",
     "evalue": "No module named 'PyQt4'",
     "output_type": "error",
     "traceback": [
      "\u001b[0;31m---------------------------------------------------------------------------\u001b[0m",
      "\u001b[0;31mModuleNotFoundError\u001b[0m                       Traceback (most recent call last)",
      "\u001b[1;32m/Users/jordan/Documents/PhishingDetection/Thesis_PhishingDetection/URL_Extract_feature.ipynb Cell 83'\u001b[0m in \u001b[0;36m<cell line: 3>\u001b[0;34m()\u001b[0m\n\u001b[1;32m      <a href='vscode-notebook-cell:/Users/jordan/Documents/PhishingDetection/Thesis_PhishingDetection/URL_Extract_feature.ipynb#ch0000081?line=0'>1</a>\u001b[0m \u001b[39mimport\u001b[39;00m \u001b[39msys\u001b[39;00m\n\u001b[1;32m      <a href='vscode-notebook-cell:/Users/jordan/Documents/PhishingDetection/Thesis_PhishingDetection/URL_Extract_feature.ipynb#ch0000081?line=1'>2</a>\u001b[0m \u001b[39mimport\u001b[39;00m \u001b[39mtime\u001b[39;00m\n\u001b[0;32m----> <a href='vscode-notebook-cell:/Users/jordan/Documents/PhishingDetection/Thesis_PhishingDetection/URL_Extract_feature.ipynb#ch0000081?line=2'>3</a>\u001b[0m \u001b[39mfrom\u001b[39;00m \u001b[39mPyQt4\u001b[39;00m\u001b[39m.\u001b[39;00m\u001b[39mQtCore\u001b[39;00m \u001b[39mimport\u001b[39;00m \u001b[39m*\u001b[39m\n\u001b[1;32m      <a href='vscode-notebook-cell:/Users/jordan/Documents/PhishingDetection/Thesis_PhishingDetection/URL_Extract_feature.ipynb#ch0000081?line=3'>4</a>\u001b[0m \u001b[39mfrom\u001b[39;00m \u001b[39mPyQt4\u001b[39;00m\u001b[39m.\u001b[39;00m\u001b[39mQtGui\u001b[39;00m \u001b[39mimport\u001b[39;00m \u001b[39m*\u001b[39m\n\u001b[1;32m      <a href='vscode-notebook-cell:/Users/jordan/Documents/PhishingDetection/Thesis_PhishingDetection/URL_Extract_feature.ipynb#ch0000081?line=4'>5</a>\u001b[0m \u001b[39mfrom\u001b[39;00m \u001b[39mPyQt4\u001b[39;00m\u001b[39m.\u001b[39;00m\u001b[39mQtWebKit\u001b[39;00m \u001b[39mimport\u001b[39;00m \u001b[39m*\u001b[39m\n",
      "\u001b[0;31mModuleNotFoundError\u001b[0m: No module named 'PyQt4'"
     ]
    }
   ],
   "source": [
    "# import sys\n",
    "# import time\n",
    "# from PyQt4.QtCore import *\n",
    "# from PyQt4.QtGui import *\n",
    "# from PyQt4.QtWebKit import *\n",
    "\n",
    "# class Screenshot(QWebView):\n",
    "#     def __init__(self):\n",
    "#         self.app = QApplication(sys.argv)\n",
    "#         QWebView.__init__(self)\n",
    "#         self._loaded = False\n",
    "#         self.loadFinished.connect(self._loadFinished)\n",
    "\n",
    "#     def capture(self, url, output_file):\n",
    "#         self.load(QUrl(url))\n",
    "#         self.wait_load()\n",
    "#         # set to webpage size\n",
    "#         frame = self.page().mainFrame()\n",
    "#         self.page().setViewportSize(frame.contentsSize())\n",
    "#         # render image\n",
    "#         image = QImage(self.page().viewportSize(), QImage.Format_ARGB32)\n",
    "#         painter = QPainter(image)\n",
    "#         frame.render(painter)\n",
    "#         painter.end()\n",
    "#         print ('saving', output_file)\n",
    "#         image.save(output_file)\n",
    "\n",
    "#     def wait_load(self, delay=0):\n",
    "#         # process app events until page loaded\n",
    "#         while not self._loaded:\n",
    "#             self.app.processEvents()\n",
    "#             time.sleep(delay)\n",
    "#         self._loaded = False\n",
    "\n",
    "#     def _loadFinished(self, result):\n",
    "#         self._loaded = True\n",
    "\n",
    "# s = Screenshot()\n",
    "# s.capture('http://webscraping.com', 'website.png')\n",
    "# s.capture('http://webscraping.com/blog', 'blog.png')"
   ]
  },
  {
   "cell_type": "code",
   "execution_count": null,
   "metadata": {},
   "outputs": [],
   "source": []
  },
  {
   "cell_type": "code",
   "execution_count": null,
   "metadata": {},
   "outputs": [],
   "source": [
    "\n",
    "from selenium import webdriver\n",
    "\n",
    "image_name = f\"screenshot_{str(datetime.now())}\"\n",
    "options = webdriver.ChromeOptions()\n",
    "options.add_argument('--ignore-certificate-errors')\n",
    "options.add_argument(\"--test-type\")\n",
    "# options.add_argument(\"--headless\")\n",
    "# options.binary_location = \"/usr/bin/chromium\"\n",
    "driver = webdriver.Chrome(options=options)\n",
    "\n",
    "driver.get('http://www.gogle.com')\n",
    "driver.save_screenshot(f\"screenshot/{image_name}.png\")\n",
    "\n",
    "driver.close()\n",
    "\n"
   ]
  },
  {
   "cell_type": "code",
   "execution_count": null,
   "metadata": {},
   "outputs": [
    {
     "data": {
      "text/plain": [
       "'screenshot_2022-07-02 21:52:19.901500.png'"
      ]
     },
     "execution_count": 58,
     "metadata": {},
     "output_type": "execute_result"
    }
   ],
   "source": [
    "os.path.basename(\"screenshot/screenshot_2022-07-02 21:52:19.901500.png\")"
   ]
  },
  {
   "cell_type": "code",
   "execution_count": 4,
   "metadata": {},
   "outputs": [],
   "source": [
    "def report_url(url, email):\n",
    "    r = requests.post('https://report.netcraft.com/api/v2/report/urls', json={\n",
    "        \"email\": email,\n",
    "        \"urls\": [url],\n",
    "    })\n",
    "\n",
    "    return (r.json())\n",
    "\n"
   ]
  },
  {
   "cell_type": "code",
   "execution_count": 5,
   "metadata": {},
   "outputs": [
    {
     "data": {
      "text/plain": [
       "{'message': 'Successfully reported',\n",
       " 'uuid': 'dkKnpbz1YQANt5XMlNIYG9x9AttIklbQ'}"
      ]
     },
     "execution_count": 5,
     "metadata": {},
     "output_type": "execute_result"
    }
   ],
   "source": [
    "url = \"https://megaparseonalse.com/female-escorts/11887\"\n",
    "email = \"wiehong@gmail.com\"\n",
    "report_status4 = report_url(url, email)\n",
    "report_status4"
   ]
  },
  {
   "cell_type": "code",
   "execution_count": 7,
   "metadata": {},
   "outputs": [
    {
     "data": {
      "text/plain": [
       "dict"
      ]
     },
     "execution_count": 7,
     "metadata": {},
     "output_type": "execute_result"
    }
   ],
   "source": [
    "type(report_status4)"
   ]
  },
  {
   "cell_type": "code",
   "execution_count": 13,
   "metadata": {},
   "outputs": [
    {
     "name": "stdout",
     "output_type": "stream",
     "text": [
      "1\n"
     ]
    }
   ],
   "source": [
    "if re.search(\"Successfully\", report_status4['message']):\n",
    "    print(1)\n",
    "else:\n",
    "  print(0)\n"
   ]
  },
  {
   "cell_type": "code",
   "execution_count": null,
   "metadata": {},
   "outputs": [
    {
     "data": {
      "text/plain": [
       "{'details': [{'input': 'wiehon.com',\n",
       "   'message': 'Does not match email format.',\n",
       "   'path': '/body/email'}],\n",
       " 'error': 'Bad Request',\n",
       " 'status': 400}"
      ]
     },
     "execution_count": 87,
     "metadata": {},
     "output_type": "execute_result"
    }
   ],
   "source": [
    "report_status2"
   ]
  },
  {
   "cell_type": "code",
   "execution_count": null,
   "metadata": {},
   "outputs": [
    {
     "data": {
      "text/plain": [
       "{'message': 'Successfully reported',\n",
       " 'uuid': '44D5KHj9i3vyXwJWCABTJXoxJDGls2UF'}"
      ]
     },
     "execution_count": 89,
     "metadata": {},
     "output_type": "execute_result"
    }
   ],
   "source": [
    "report_status"
   ]
  },
  {
   "cell_type": "code",
   "execution_count": null,
   "metadata": {},
   "outputs": [
    {
     "name": "stdout",
     "output_type": "stream",
     "text": [
      "YES! We have a match!\n",
      "<re.Match object; span=(5, 7), match='ai'>\n"
     ]
    }
   ],
   "source": [
    "txt = \"The rain in Spain\"\n",
    "x = re.search(\"ai\", txt)\n",
    "\n",
    "if x:\n",
    "  print(\"YES! We have a match!\")\n",
    "else:\n",
    "  print(\"No match\")\n",
    "\n",
    "# print(x)\n"
   ]
  },
  {
   "cell_type": "code",
   "execution_count": null,
   "metadata": {},
   "outputs": [],
   "source": []
  },
  {
   "cell_type": "code",
   "execution_count": 45,
   "metadata": {},
   "outputs": [
    {
     "data": {
      "text/plain": [
       "76176"
      ]
     },
     "execution_count": 45,
     "metadata": {},
     "output_type": "execute_result"
    }
   ],
   "source": [
    "from random import randint, randrange\n",
    "\n",
    "# randint(100, 999)     # randint is inclusive at both ends\n",
    "randrange(10000, 99999)  # randrange is exclusive at the stop\n"
   ]
  },
  {
   "cell_type": "code",
   "execution_count": 130,
   "metadata": {},
   "outputs": [
    {
     "data": {
      "text/plain": [
       "51895334"
      ]
     },
     "execution_count": 130,
     "metadata": {},
     "output_type": "execute_result"
    }
   ],
   "source": [
    "import random\n",
    "id = randrange(10000000, 99999999)"
   ]
  },
  {
   "cell_type": "code",
   "execution_count": null,
   "metadata": {},
   "outputs": [
    {
     "name": "stdout",
     "output_type": "stream",
     "text": [
      "Domain http://tinnhanh360.net/-ong-tay-de-thuong-ban-do-choi-dao-ha-noi-gay-ngac-nhien-thich-thu.html [---]\n",
      "Domain http://emgn.com/tv/schnauzer-passes-out-with-excitement-when-he-is-reunited-with-his-human-after-2-years/ [---]\n",
      "Domain http://motthegioi.vn/tai-chinh-bat-dong-san/tu-17-nguoi-mua-nha-dat-phai-cong-them-hang-loat-chi-phi-187472.html [---]\n",
      "Domain http://emgn.com/movies/person-of-interest-what-to-expect-from-season-4-release-date/ [---]\n",
      "Domain http://pikabu.ru/tag/%D1%81%D1%82%D0%B0%D0%B2%D1%80%D0%BE%D0%BF%D0%BE%D0%BB%D1%8C/hot [---]\n",
      "Domain http://motthegioi.vn/suckhoe/nu-cuoi-y-hoc/nu-cuoi-suc-khoe-nhung-li-do-nen-yeu-chang-trai-bung-bu-188294.html [---]\n",
      "Domain http://correios.com.br/english/the-brazil-post/education-and-culture/cultural-centers/cultural-center-of-rio-de-janeiro [---]\n",
      "Domain http://sberbank.ru/portalserver/sb-portal-ru/ru/person/paymentsandremittances/remittance/in/beznal_rus/beznal_snal_rus [---]\n",
      "Domain http://pikabu.ru/tag/%D0%90%D1%80%D0%B5%D0%BD%D0%B4%D0%B0%20%D0%B6%D0%B8%D0%BB%D1%8C%D1%8F/hot [---]\n",
      "Domain http://emgn.com/entertainment/youll-be-left-speechless-at-the-wartime-bravery-of-these-22-animal-heroes/ [---]\n",
      "Domain http://correios.com.br/Para-governo/governo-municipal/solucoes-gratuitas-de-apoio-e-gestao/sigep-web [---]\n",
      "Domain http://emgn.com/entertainment/coldplay-announce-release-date-for-6th-album-ghost-stories/ [---]\n",
      "Domain http://correios.com.br/english/the-brazil-post/history-and-facts/mailmen-in-brazil/imagens/CarteirosdoBrasil_1.jpg/@@images/652365fb-0395-469a-9812-e75aea0d1562.jpeg [---]\n"
     ]
    }
   ],
   "source": [
    "from concurrent.futures import ThreadPoolExecutor\n",
    "import requests\n",
    "from requests.exceptions import ConnectionError\n",
    "\n",
    "def validate_existence(domain):\n",
    "    try:\n",
    "        response = requests.get(domain, timeout=10)\n",
    "    except ConnectionError:\n",
    "        print(f'Domain {domain} [---]')\n",
    "        # print(f'[---]')\n",
    "\n",
    "\n",
    "# url = 'https://securiti.ai/privaci/universal-consent-preference-management/'\n",
    "# url = 'http://www.mascsdesceard.mcasord.mltuey.top/ic6oXx7P3s/page1.php'\n",
    "# url = 'http://diply.com/ilovemydog/puppies-are-little-troublemakers-in-a-cute-cloak/119633'\n",
    "list_domain = [\"http://graphicriver.net/search?date=this-month&length_max=&length_min=&price_max=&price_min=&rating_min=&sales=&sort=sales&term=&view=list\",\n",
    "\"http://ecnavi.jp/redirect/?url=http://www.cross-a.net/x.php?id=1845_3212_22061_26563&m=1004&pid=%user_id%\",\n",
    "\"https://hubpages.com/signin?explain=follow+Hubs&url=%2Fhub%2FComfort-Theories-of-Religion\",\n",
    "\"http://extratorrent.cc/torrent/4190536/AOMEI+Backupper+Technician+%2B+Server+Edition+2.8.0+%2B+Patch+%2B+Key+%2B+100%25+Working.html\",\n",
    "\"http://icicibank.com/Personal-Banking/offers/offer-detail.page?id=offer-ezeego-domestic-airtravel-20141407112611060\",\n",
    "\"http://nypost.com/2015/05/07/us-indifference-leaves-saudis-partnering-with-terrorists/\",\n",
    "\"http://kienthuc.net.vn/diem-thi/diem-chuan-dh-cong-nghe-giao-thong-van-tai-nam-2014-482407.html\",\n",
    "\"http://thenextweb.com/in/2015/04/16/india-wants-a-neutral-web-and-facebooks-internet-org-cant-be-a-part-of-it/gtm.js\",\n",
    "\"http://tobogo.net/cdsb/board.php?board=greet&bm=view&no=5716&category=&auth=&page=1&search=&keyword=&recom=\",\n",
    "\"http://akhbarelyom.com/news/newdetails/411395/1/%D9%85%D8%AD%D8%A7%D9%81%D8%B8-%D8%A7%D9%84%D8%A8%D8%AD%D9%8A%D8%B1.html\",\n",
    "\"http://tunein.com/radio/Carolina-Mudcats-at-Myrtle-Beach-Pelicans-May-13-2015-p729095/15480783/ca-pub-1542925551861702/ProgramTopBanner\",\n",
    "\"https://tune.pk/video/6046458/canelo-vs-kirkland-highlights-hbo-world-championship-boxing\",\n",
    "\"http://sfglobe.com/2015/05/01/six-baltimore-police-officers-charged-in-freddie-grays-death/?src=home_feed\",\n",
    "\"http://mic.com/articles/107372/49-tremendous-things-florida-men-accomplished-this-year\",\n",
    "\"http://thenextweb.com/apps/2015/05/07/flickr-launches-redesigned-mobile-apps-encourages-you-to-upload-your-entire-camera-roll/gtm.js\",\n",
    "\"http://couchtuner.eu.com/2013/05/anger-management-s2-e17-charlie-lets-kate-take-charge.html\",\n",
    "\"http://olx.in/hi/item/nokia-5800-express-music-perfect-working-condition-body-average-cond-IDTIzUp.html\",\n",
    "\"http://venturebeat.com/2015/05/08/yelp-sale-rumor-reminds-us-that-social-is-terrible-as-a-business-even-if-it-did-change-the-web/\",\n",
    "\"http://allegro.pl/listing/listing.php?id=122233&order=m&string=%7Bstring%7D&bmatch=seng-ps-mp-p-sm-isqm-2-e-0402\",\n",
    "\"http://allegro.pl/listing/listing.php?id=20782&order=m&p=2&string=%7Bstring%7D&bmatch=seng-v10-p-sm-isqm-2-o-0113\",\n",
    "\"http://tinnhanh360.net/-ong-tay-de-thuong-ban-do-choi-dao-ha-noi-gay-ngac-nhien-thich-thu.html\",\n",
    "\"http://metro.co.uk/2014/08/15/big-brother-2014-shock-twist-ashleigh-coyle-comes-second-4834723/\",\n",
    "\"http://atwiki.jp/wiki/%EF%BC%AD%EF%BC%B5%EF%BC%A7%EF%BC%A5%EF%BC%AE%20%E6%82%9F%E7%A9%BA\",\n",
    "\"http://emgn.com/tv/schnauzer-passes-out-with-excitement-when-he-is-reunited-with-his-human-after-2-years/\",\n",
    "\"http://nguyentandung.org/bo-truong-nguyen-bac-son-se-manh-tay-ngan-chan-tin-nhan-rac.html\",\n",
    "\"http://motthegioi.vn/tai-chinh-bat-dong-san/tu-17-nguoi-mua-nha-dat-phai-cong-them-hang-loat-chi-phi-187472.html\",\n",
    "\"http://spankbang.com/4ze1/video/brunette+with+big+boobs+fucked+in+a+cellar+public+agent\",\n",
    "\"http://torcache.net/torrent/FECDCFB88429EDAE6184E26D63EDD5A1AB2B1736.torrent?title=[kickass.to]bro.s.before.ho.s.2013.720p.brrip.nl.gesproken.dutchreleaseteam\",\n",
    "\"http://mic.com/articles/117370/baltimore-reveals-why-we-need-our-musicians-now-more-than-ever\",\n",
    "\"http://thenextweb.com/dd/2014/04/08/ux-designers-side-drawer-navigation-costing-half-user-engagement/feed/gtm.start\",\n",
    "\"http://emgn.com/movies/person-of-interest-what-to-expect-from-season-4-release-date/\",\n",
    "\"http://depositphotos.com/login.html?url=%2F34608623%2Fstock-illustration-vector-abstract-3d-road-infographics.html\",\n",
    "\"http://serverfault.com/questions/52370/what-is-the-order-group-policy-settings-are-applied\",\n",
    "\"http://kakaku.com/kaden/portable-dvd-player/ranking_2026/pricedown/div-gpt-ad-k/header_text\",\n",
    "\"http://indianexpress.com/article/world/asia/pak-officer-gave-up-osama-kayani-isi-chief-helped-us/\",\n",
    "\"http://nypost.com/2015/05/13/brooklyn-man-kills-cheating-girlfriends-lover-then-self/?share=email\",\n",
    "\"http://distractify.com/post/related/id/5543af854a0c4b511d7c70a2/skip/30/limit/10/back/0\",\n",
    "\"http://sourceforge.net/directory/communications/add_facet_filter?facet=os&constraint=Mac\",\n",
    "\"http://babal.net/books/view/960/%D8%AE%D9%8A%D8%A7%D9%86%D8%A9-%D8%A7%D9%84%D9%85%D8%AB%D9%82%D9%81%D9%8A%D9%86\",\n",
    "\"http://serverfault.com/questions/690852/use-powershell-to-start-a-gui-program-on-a-remote-machine\",\n",
    "\"http://cookpad.com/login?rt=%2Fcategory%2Frecommend%2F590%3Frt%3D%252Fcategory%252F590\",\n",
    "\"http://plarium.com/en/strategy-games/stormfall-age-of-war/news/withdraw-to-the-catacombs/\",\n",
    "\"http://pikabu.ru/tag/%D1%81%D1%82%D0%B0%D0%B2%D1%80%D0%BE%D0%BF%D0%BE%D0%BB%D1%8C/hot\",\n",
    "\"http://grantland.com/hollywood-prospectus/2015-oscar-nomination-predictions-best-director-best-picture/\",\n",
    "\"http://allegro.pl/listing/user/listing.php?us_id=25662671&order=p&string=B-110+HIT&search_scope=userItems-25662671&bmatch=s0-default-0113&sh_dwh_token=d0b6dd74a8394345128e20d296cb1c5e\",\n",
    "\"http://nguyentandung.org/bai-do-xe-ngam-trong-cong-vien-thong-nhat-thu-hoi-von-cach-nao.html\",\n",
    "\"http://allegro.pl/listing/listing.php?bmatch=seng-v6-p-sm-isqm-2-ce-0113&id=175&order=m&string=%7Bstring%7D\",\n",
    "\"http://europa.eu/about-eu/agencies/regulatory_agencies_bodies/policy_agencies/eurofound/index_en.htm\",\n",
    "\"http://extratorrent.cc/torrent/4190380/VA-Unusual_Techno_One_LP-WEB-2015-CBR_INT.html\",\n",
    "\"http://persianblog.ir/tags/42604/8/%d8%b3%d9%87%d8%b1%d8%a7%d8%a8_%d8%b3%d9%be%d9%87%d8%b1%db%8c/\",\n",
    "\"http://distractify.com/post/related/id/5537c6314a0c4b89316cdbdf/skip/20/limit/10/back/0\",\n",
    "\"http://kenh14.vn/star/lo-dien-ban-trai-hot-boy-cua-van-mai-huong-20140716121655295.chn\",\n",
    "\"https://twitter.com/share?url=http%3A%2F%2Fhubpages.com%2Fhub%2FWhats-the-difference-between-self-esteem-and-confidence&text=Definitions+of+Confidence+%26+Self+Esteem+-+What%27s+the+Difference%3F\",\n",
    "\"http://nesn.com/2015/04/draftkings-giancarlo-stanton-mookie-betts-in-tom-carons-fantasy-lineup/\",\n",
    "\"http://fishki.net/1526766-kapello-zajavil-o-bezumii-prezidenta-rfs.html?mode=recent\",\n",
    "\"http://syosetu.com/searchuser/search/index.php?name1st=%E3%82%80&all=1&all2=1&all3=1&all4=1&p=10\",\n",
    "\"http://akhbarelyom.com/news/newdetails/411497/1/%D9%85%D8%B5%D8%B1-%D8%A7%D9%84%D8%B9%D8%B7%D8%A7%D8%A1-%D8%AA.html\",\n",
    "\"http://allegro.pl/triumph-stringi-precious-essence-string-granat-40-i5035632976.html\",\n",
    "\"http://getpocket.com/signup?mode=socialmode&route=http://getpocket.com/p/pocket-topics/fitness\",\n",
    "\"http://mylust.com/videos/235751/sexy-hentai-chick-gets-her-huge-succulent-tits-squeezed/\",\n",
    "\"http://censor.net.ua/photo_news/335629/v_tsentre_donetska_ural_boevikov_dnr_razdavil_jiguli_2_pogibshih_narod_ne_protestuet_foto\",\n",
    "\"http://pornsharing.com/latina-girl-chloe-amour-and-busty-blonde-step-mom-julia-ann-get-face-fucked_v78082\",\n",
    "\"http://genius.com/4810956/Ol-dirty-bastard-never-before-seen-ol-dirty-bastard-raw-and-uncut-interview/But-its-just-hey-the-kids-love-dirty-you-know-what-i-mean-every-time-they-see-dirty-they-smile-you-know-what-i-mean\",\n",
    "\"http://sourceforge.net/directory/communications/add_facet_filter?facet=language&constraint=PL%2FSQL\",\n",
    "\"http://codecanyon.net/item/bitdrop-file-hosting-with-short-url-link/full_screen_preview/426023\",\n",
    "\"http://qz.com/404309/photos-silicon-valley-fashion-week-kicks-off-with-drone-models/\",\n",
    "\"http://kenh14.vn/2-tek/ban-jailbreak-he-dieu-hanh-ios-613-toi-ios-615-chinh-thuc-trinh-lang-2013122404361169.chn\",\n",
    "\"http://uproxx.com/movies/2015/04/paul-bettany-gives-us-a-glimpse-of-vision-in-action-in-avengers-age-of-ultron/\",\n",
    "\"http://babal.net/women/view/80/%D8%AF%D9%84%D9%91%D9%84%D9%8A-%D9%86%D9%81%D8%B3%D9%83-%D8%A3%D9%8A%D8%AA%D9%87%D8%A7-%D8%A7%D9%84%D8%A3%D9%85-%D9%85%D8%B9-%D9%87%D8%B0%D9%87-%D8%A7%D9%84%D9%86%D8%B5%D8%A7%D8%A6%D8%AD\",\n",
    "\"http://mic.com/articles/116370/avengers-stars-sexist-jokes-illustrate-a-major-problem-with-the-comic-book-industry\",\n",
    "\"http://torcache.net/torrent/0FF0E2F39CD5AB403EE03F8E1B69127D0476D976.torrent?title=[kickass.to]komban.2015.hq.real.dvdscr.xvid.1cd.700mb.tamil\",\n",
    "\"https://paytm.com/blog/paytm-offer-for-app-users-get-upto-rs-50-cash-back/?share=email\",\n",
    "\"http://motthegioi.vn/suckhoe/nu-cuoi-y-hoc/nu-cuoi-suc-khoe-nhung-li-do-nen-yeu-chang-trai-bung-bu-188294.html\",\n",
    "\"http://torcache.net/torrent/047D47DFF4DC5CD9BEA6D0F4C57D68F2F2D71205.torrent?title=[kickass.to]night.at.the.museum.secret.of.the.tomb.2014.1080p.brrip.x264.yify\",\n",
    "\"http://thenextweb.com/asia/2014/09/26/myanmars-mobile-revolution-kicks-telenor-prepares-launch-service/gtm.start\",\n",
    "\"http://extratorrent.cc/torrent/4189616/Jedi+Mind.Tricks.The.Thief.and.the.Fallen.2015.mp3.vbr.NOiR.html\",\n",
    "\"http://genius.com/2990084/Us-general-services-administration-gsa-mentor-protege-program-subpart-51970/Incentives-for-prime-contractors\",\n",
    "\"http://thenextweb.com/apps/2012/04/19/500px-launches-android-app-and-overhauls-its-ipad-version-too/\",\n",
    "\"http://kienthuc.net.vn/tin-tuc-tuyen-sinh/ty-le-choi-cua-dai-hoc-fpt-nam-2014-487408.html\",\n",
    "\"http://sourceforge.net/directory/development/add_facet_filter?facet=license&constraint=OSI-Approved+Open+Source+%3A%3A+PHP+License\",\n",
    "\"http://nypost.com/2015/01/28/tepper-loses-fight-to-restructure-caesars-in-delaware/\",\n",
    "\"http://ap.org/Content/Press-Release/2013/NFL-celebrates-season-with-NFL-Honors-Super-Bowl-Eve\",\n",
    "\"http://indianexpress.com/article/cities/ludhiana/32-year-old-commits-suicide-at-in-laws-place-in-ludhiana/\",\n",
    "\"http://extratorrent.cc/torrent_download/4191066/Chappie.2015.720p.WEB-DL.AAC2.0.H.264-PLAYNOW.torrent\",\n",
    "\"http://correios.com.br/english/the-brazil-post/education-and-culture/cultural-centers/cultural-center-of-rio-de-janeiro\",\n",
    "\"http://web.de/magazine/sport/fussball/champions-league/fc-bayern-muenchen-fc-barcelona/fc-bayern-muenchen-fc-barcelona-enrique-fuerchtet-freund-guardiola-30633596\",\n",
    "\"http://noticias.uol.com.br/saude/album/2015/03/17/dengue-pelo-brasil.htm?abrefoto=63\",\n",
    "\"http://bdnews24.com/economy/2015/05/05/world-bank-to-give-bangladesh-200-million-loan-to-cut-poverty\",\n",
    "\"http://kenh14.vn/tv-show/viet-huong-gao-thet-to-chong-leng-pheng-trai-tre-20150208121726226.chn\",\n",
    "\"http://codecanyon.net/item/photofans-your-social-network-to-share-photos/full_screen_preview/6308014\",\n",
    "\"http://tunein.com/radio/Carolina-Mudcats-at-Myrtle-Beach-Pelicans-May-13-2015-p729095/\",\n",
    "\"http://nguyentandung.org/vi-sao-nguyen-tong-bien-tap-bao-nguoi-cao-tuoi-bi-khoi-to.html\",\n",
    "\"http://kickass.to/microsoft-office-professional-plus-2013-64-bit-english-rareabyss-t10091322.html\",\n",
    "\"http://weathernews.jp/smart/sora_mission/0/glance.html?missionid=1431484304.67676&fm=sw&fmdotop=2\",\n",
    "\"http://atwiki.jp/wiki/%E8%A9%A6%E9%A8%93%E4%B8%AD%20%E9%9C%87%E7%81%BD%E5%AF%BE%E5%BF%9C\",\n",
    "\"http://plarium.com/en/strategy-games/sparta-war-of-empires/mmo-masters/offensive-positions\",\n",
    "\"https://chaturbate.com/tipping/spy_on_private_show_tokens_per_minute/ingridblondy94/\",\n",
    "\"http://babal.net/news/view/42903/%D8%AD%D8%A8%D8%B3-%D9%85%D8%AD%D8%A7%D9%81%D8%B8-%D8%A7%D9%84%D8%A3%D9%82%D8%B5%D8%B1-%D8%A7%D9%84%D8%B3%D8%A7%D8%A8%D9%82-%D8%B9%D8%A7%D9%85%D9%8A%D9%86-%D9%88%D8%AA%D8%BA%D8%B1%D9%8A%D9%85%D9%87-10-%D8%A2%D9%84%D8%A7%D9%81-%D8%AC%D9%86%D9%8A%D9%87-%D9%84%D8%B9%D8%AF%D9%85-%D8%AA%D9%86%D9%81%D9%8A%D8%B0%D9%87-%D8%AD%D9%83%D9%85%D8%A7-%D9%82%D8%B6%D8%A7%D8%A6%D9%8A%D8%A7\",\n",
    "\"http://sberbank.ru/portalserver/sb-portal-ru/ru/person/paymentsandremittances/remittance/in/beznal_rus/beznal_snal_rus\",\n",
    "\"http://torcache.net/torrent/3671994FE2E23CC3E914E74EB63E5A85AA184B4B.torrent?title=[kickass.to]focus.2015.720p.hq.ac3.dd5.1.externe.eng.nl.subs.tbs\",\n",
    "\"http://torcache.net/torrent/110A54D90A4F523BF7051AAD5ADE8F5E72FC3ED2.torrent?title=[kickass.to]hentai.3d.milky.maid.may.2015\",\n",
    "\"http://pikabu.ru/tag/%D0%90%D1%80%D0%B5%D0%BD%D0%B4%D0%B0%20%D0%B6%D0%B8%D0%BB%D1%8C%D1%8F/hot\",\n",
    "\"http://mirtesen.ru/url?e=simple_click&blog_post_id=43032218893&url=http%3A%2F%2Fnarodnayamedicyna.ru%2Fblog%2F43032218893%2Fsudorogi\",\n",
    "\"http://mirtesen.ru/url?e=simple_click&blog_post_id=43294960453&url=http%3A%2F%2Fs30469371943.mirtesen.ru%2Fblog%2F43294960453%2FAh-leto%21\",\n",
    "\"http://distractify.com/post/related/id/54b985434a0c4b136ee6813d/skip/20/limit/10/back/0\",\n",
    "\"http://jalopnik.com/5958144/gourmet-food-trucks-feed-storm-battered-and-starved-coney-island-residents\",\n",
    "\"http://techcrunch.com/2015/01/11/from-a-rebuilt-60s-motel-in-vegas-orderwithme-tackles-big-e-commerce-challenges/\",\n",
    "\"https://twitter.com/home?status=%E3%83%8C%E3%81%91%E3%82%8B%EF%BC%81%E3%80%90%E3%82%A2%E3%83%8B%E3%83%A1%E3%80%91+http%3A%2F%2Fero-video.net%2Ft%2FfnLTNjuNx6qWFt13+%E3%82%A2%E3%83%AB%E3%83%90%E3%82%A4%E3%83%88%E3%81%AE%E5%85%88%E8%BC%A9%E3%81%AE%E5%A5%B3%E3%81%AE%E3%82%B3%E3%81%A8%E3%82%A8%E3%83%83%E3%83%81%E3%80%80%E7%90%B4%E5%B9%B3%E3%81%95%E3%82%86+%23ero+%23douga+%23agesage\",\n",
    "\"http://torcache.net/torrent/9CFDD892CDA9F5EEA5DB98A955E4E1382262E670.torrent?title=[kickass.to]arrow.s03e04.hdtv.x264.lol.eztv\",\n",
    "\"http://thenextweb.com/insider/2014/10/29/unbabel-integrates-mailchimp-offer-translation-service-promotional-emails/gtm.start/\",\n",
    "\"http://arstechnica.com/science/2015/05/carbon-emissions-put-sixteen-percent-of-species-at-risk-of-extinction/\",\n",
    "\"http://tunein.com/radio/Economics-of-Political-Memoir---Marketplace-May-13-2015-p729173/15480783/ca-pub-1542925551861702/Program\",\n",
    "\"http://torrentdn.com/bbs/s.php?bo_table=torrent_mid&wr_id=57742&k=%EC%99%95%EC%A2%8C&page=1\",\n",
    "\"http://searchengineland.com/twitters-full-google-search-integration-is-coming-in-may-219941\",\n",
    "\"http://nesn.com/2014/07/veteran-leaders-return-to-field-for-day-1-of-patriots-training-camp-video/\",\n",
    "\"https://paytm.com/blog/pep-up-this-summer-season-with-paytms-first-ever-fashion-fest/\",\n",
    "\"http://torcache.net/torrent/523EF7169F14C884FC2AD988451BBB6A4E0BD5F4.torrent?title=[kickass.to]project.almanac.2014.720p.brrip.x264.yify\",\n",
    "\"http://metro.co.uk/2015/04/01/zayn-malik-loses-50000-twitter-follows-in-wake-of-one-direction-departure-but-dont-worry-hes-still-popular-5131044/\",\n",
    "\"http://censor.net.ua/jokes/all/page/1/hero/0/category/138/interval/5/author/0/sortby/date\",\n",
    "\"http://depositphotos.com/login.html?url=%2F25901805%2Fstock-photo-breakfast-with-coffee-orange-juice.html\",\n",
    "\"http://thenextweb.com/eu/2015/05/09/meet-the-man-who-left-nasa-to-join-a-european-startup/gtm.start\",\n",
    "\"http://putlocker.is/watch-night-at-the-museum-secret-of-the-tomb-online-free-putlocker.html\",\n",
    "\"http://tunein.com/radio/Radio-Fredericton-905-s12073/15480783/ca-pub-1542925551861702/StationLeader\",\n",
    "\"http://lifehacker.com/5910717/plan-your-free-online-education-at-lifehacker-u-summer-semester-2012\",\n",
    "\"http://extratorrent.cc/torrent/4189607/The+Sleepwalker.2014.LiMiTED.DVDRip.x264.LPD.html\",\n",
    "\"http://mylust.com/videos/64031/chinese-orgy-with-sexy-and-skinny-asian-babe-in-her-bedroom/\",\n",
    "\"http://buzzfil.net/m/show-art/voici-16-voisins-qui-ont-pique-une-crise-de-nerfs-9.html\",\n",
    "\"http://censor.net.ua/video_news/334975/ochered_za_pensieyi_v_okkupirovannom_luganske_ty_so_zvukom_zapishi_s_matyukami_video\",\n",
    "\"http://ap.org/Content/Press-Release/2014/The-personal-news-cycle-how-Americans-get-their-news\",\n",
    "\"http://akhbarelyom.com/news/newdetails/411484/1/%D9%85%D8%B5%D8%B1%D9%8A%D8%AA%D8%A7%D9%86-%D9%81%D9%82%D8%B7-.html\",\n",
    "\"http://sourceforge.net/directory/communications/add_facet_filter?facet=os&constraint=Modern+%28Vendor-Supported%29+Desktop+Operating+Systems+%3A%3A+OpenBSD\",\n",
    "\"http://kakaku.com/kaden/label-writer/ranking_2076/pricedown/div-gpt-ad-k/header_text\",\n",
    "\"http://jezebel.com/jameis-winston-files-lawsuit-against-woman-who-accused-1703312090/+miamirohan\",\n",
    "\"http://grantland.com/hollywood-prospectus/mad-men-power-rankings-episode-710-the-forecast/\",\n",
    "\"https://www.gov.uk/government/world/uk-delegation-to-organization-for-security-and-co-operation-in-europe\",\n",
    "\"http://emgn.com/entertainment/youll-be-left-speechless-at-the-wartime-bravery-of-these-22-animal-heroes/\",\n",
    "\"http://bdnews24.com/politics/2015/05/02/dire-consequences-unless-city-polls-cancelled-bnp-s-hannan-shah\",\n",
    "\"http://web.de/magazine/unterhaltung/adel/royal-baby-2/wohnt-prinzessin-charlotte-elizabeth-diana-30619870\",\n",
    "\"http://extratorrent.cc/torrent/4189415/Snow%2C+Heather-Sweet+Deception+-+epub+-+zeke23.html\",\n",
    "\"http://torcache.net/torrent/4EFE4986FC8B15951469CF6AC82FE102E8C9007A.torrent?title=[kickass.to]if.i.stay.2014.720p.brrip.x264.yify\",\n",
    "\"https://twitter.com/share?url=http%3A%2F%2Fhubpages.com%2Fhub%2FEMT-Electrical-Conduit-Pipe-Bending-the-Math-Behind-a-Conduit-Bending-Guide&text=Formulas+and+Multipliers+For+Bending+Conduit+or+Electrical+Pipe\",\n",
    "\"http://seekingalpha.com/article/2471615-mexico-economy-to-move-with-energy-reforms-part-1\",\n",
    "\"http://web.tv/liveCategory/6/language/1/index/changeLanguage/newshared/searchAutoComplete\",\n",
    "\"http://indianexpress.com/article/sports/football/chelsea-go-past-leicester-city-3-1-eye-premier-league-title/\",\n",
    "\"http://web.de/magazine/sport/fussball/champions-league/wunder-fc-schalke-04-real-madrid-champions-league-17321480\",\n",
    "\"http://olx.co.id/i2/elektronik-gadget/komputer/keyboard-mouse/elektronik-gadget/komputer/keyboard-mouse\",\n",
    "\"http://mylust.com/videos/171589/my-lewd-chinese-wife-is-really-into-having-sex-in-missionary-position/\",\n",
    "\"http://babal.net/books/view/397/%D9%82%D8%A7%D9%86%D9%88%D9%86-%D8%BA%D8%B1%D9%81-%D8%A7%D9%84%D8%B5%D9%86%D8%A7%D8%B9%D8%A9-%D8%A7%D9%84%D8%A7%D8%B1%D8%AF%D9%86%D9%8A\",\n",
    "\"http://techcrunch.com/2014/03/18/hurry-this-is-your-last-chance-to-get-tickets-to-tonights-washington-d-c-meetup/\",\n",
    "\"http://distractify.com/post/related/id/54b985434a0c4b136ee6813d/skip/30/limit/10/back/0\",\n",
    "\"http://kakaku.com/daily-goods/antimold-agent/ranking_7633/pricedown/div-gpt-ad-k/header_text\",\n",
    "\"http://metro.co.uk/2015/04/30/harry-styles-spotted-minding-his-own-busines-son-los-angeles-bus-5174286/\",\n",
    "\"http://kienthuc.net.vn/tin-tuc-tuyen-sinh/ung-vien-du-hoc-theo-de-an-599-cp-huong-hoc-phi-400-trieunam-486551.html\",\n",
    "\"http://web.de/magazine/reise/blog/gundel-woite/feucht-froehlicher-zwischenfall-donegal-30566558\",\n",
    "\"http://thenextweb.com/insider/2012/10/30/as-prezi-amasses-more-than-15-million-users-it-promotes-the-idea-economy-and-moves-into-the-enterprise/gtm.js\",\n",
    "\"https://www.gov.uk/government/policies/economic-development-in-coastal-and-seaside-areas\",\n",
    "\"http://olx.ua/uk/list/q-%D0%B1%D0%B0%D0%BB%D0%B5%D1%82%D0%BA%D0%B8/bIE64RPKp0urlDE3vSbHw8dRLeUY1kOFK2_KOEmw9UT.A7\",\n",
    "\"http://olx.pl/uslugi-firmy/kategorie/JOcK7gzdoyrcIT2176iLzhCz8UoPOGcT6Y1ax8FNTPf.l7\",\n",
    "\"http://babal.net/photos/54/%D8%AE%D9%84%D9%81%D9%8A%D8%A7%D8%AA-%D9%88%D9%8A%D9%86%D8%AF%D9%88%D8%B2\",\n",
    "\"http://correios.com.br/Para-governo/governo-municipal/solucoes-gratuitas-de-apoio-e-gestao/sigep-web\",\n",
    "\"https://myspace.com/article/2015/4/27/family-amy-winehouse-says-amy-documentary-misleading\",\n",
    "\"http://indianexpress.com/article/good-news/covered-in-tar-street-dog-rescued-in-three-hours/\",\n",
    "\"http://web.de/magazine/gesundheit/blog/ulli-goebl/7-nahrungsmittel-stimmung-energielevel-jahr-heben-30335162\",\n",
    "\"http://olx.in/hi/item/nokia-lumia-520-with-3-back-covers-and-data-cable-and-box-IDWjzgb.html\",\n",
    "\"http://squarespace.com/press/2015/1/7/squarespace-announces-a-major-upgrade-to-its-platform-with-new-getty-images-and-google-integrations\",\n",
    "\"https://privatbank.ua/ua/business/otraslevyje-reshenija-dlya-biznesa/resheniya-agrobiznesu/\",\n",
    "\"http://distractify.com/post/related/id/553017ed4a0c4b853fa28e2e/skip/10/limit/10/back/0\",\n",
    "\"http://tunein.com/radio/The-Ian-OConnor-Show-p335837/15480783/ca-pub-1542925551861702/Program\",\n",
    "\"http://thenextweb.com/apps/2011/07/24/the-complete-list-of-top-instagram-apps/carousel/\",\n",
    "\"http://torcache.net/torrent/38C97B7056A1B4E72811C617C1DB6D03B081A533.torrent?title=[kickass.to]the.blacklist.s02e12.the.kenyon.family.x264.dtw\",\n",
    "\"http://distractify.com/post/related/id/554ba22e4a0c4b793e066a77/skip/20/limit/10/back/0\",\n",
    "\"http://extratorrent.cc/torrent_download/4189576/Game+Of+Thrones+-+Il+Trono+Di+Spade+S05e04%5BMux+-+720p+-+H264+-+Ita+Eng+Ac3+-+Sub+Ita+Eng%5D+DLMux+-+GiuseppeTnT.torrent\",\n",
    "\"http://xhamster.com/movies/4567879/you_are_going_to_love_the_way_that_stockings_feel.html\",\n",
    "\"http://perezhilton.com/2015-05-13-student-detention-dress-code-violation-letter-suspension-gender-sexist/?from=blogroll_perezhilton\",\n",
    "\"http://comicbook.com/2015/01/20/chris-evans-and-chris-pratt-exchange-barbs-in-heated-super-bowl-/\",\n",
    "\"https://paytm.com/offer/wp-content/plugins/wc-gallery/includes/js/flexslider/flexslider.css?ver=2.2.0\",\n",
    "\"http://grantland.com/hollywood-prospectus/we-went-there-celebrating-25-years-of-goodfellas-with-bobby-d-ray-paulie-and-lorraine-at-tribeca-film-festival/\",\n",
    "\"http://distractify.com/post/related/id/55479c6a4a0c4bc56b941a7e/skip/10/limit/10/back/0\",\n",
    "\"http://thenextweb.com/apple/2015/05/10/11-things-i-learned-during-two-weeks-with-an-apple-watch/gtm.start\",\n",
    "\"http://icicibank.com/Personal-Banking/cards/debit-card/debit-cards/the-gemstone-collection.page\",\n",
    "\"http://deadspin.com/5746724/is-erin-andrews-reebok-endorsement-deal-journalistically-unethical\",\n",
    "\"http://udn.com/news/story/7341/893933-%E7%8E%8B%E7%A5%96%E5%A3%BD%EF%BC%8F%E9%84%A7%E9%BA%97%E5%90%9B%E3%80%8C%E5%BE%A9%E7%94%9F%E3%80%8D-%E8%B2%BB%E7%8E%89%E6%B8%85%E3%80%8C%E5%BE%A9%E5%87%BA%E3%80%8D\",\n",
    "\"http://bestblackhatforum.com/Forum-Announcements-And-Updates&datecut=0&sortby=lastpost&order=asc\",\n",
    "\"https://quizlet.com/login?redir=https%3A%2F%2Fquizlet.com%2Flogin%3Fredir%3Dhttps%253A%252F%252Fquizlet.com%252Fcreate-set%252Fnew\",\n",
    "\"http://depositphotos.com/60963767/stock-photo-design-team-working-together-while.html\",\n",
    "\"http://pitchfork.com/features/profiles/9646-love-is-strange-the-multitudes-of-unknown-mortal-orchestras-ruban-nielson/\",\n",
    "\"http://emgn.com/entertainment/coldplay-announce-release-date-for-6th-album-ghost-stories/\",\n",
    "\"http://katproxy.com/fast-and-furious-7-2015-hd-ts-xvid-ac3-hq-hive-cm8-t10472303.html\",\n",
    "\"http://elitedaily.com/sports/marcus-mariota-set-become-first-hawaiian-nfl-superstar/1015927/\",\n",
    "\"http://extratorrent.cc/torrent_download/4191159/The+Longest+Yard+%282005%29+720p+WEB-DL+900MB+-+MkvCage.torrent\",\n",
    "\"http://pornsharing.com/handcuffed-prisoner-gets-his-big-black-dick-sucked-by-angelik-duval_v72019\",\n",
    "\"http://thenextweb.com/apps/2011/07/24/the-complete-list-of-top-instagram-apps/webstagram/gtm.start\",\n",
    "\"http://distractify.com/post/related/id/5553b0104a0c4b621246c516/skip/50/limit/10/back/0\",\n",
    "\"http://atwiki.jp/wiki/%E3%82%AA%E3%83%96%E3%83%AA%E3%83%93%E3%82%AA%E3%83%B3%20%E9%A1%94\",\n",
    "\"http://codecanyon.net/item/phpforum-v15-social-forum-script/full_screen_preview/11340982\",\n",
    "\"http://interpark.com/product/MallDisplay.do?_method=Detail&sc.shopNo=0000100000&sc.dispNo=001930&sc.prdNo=26600264&bm1=mid&bm2=hotsale_prd\",\n",
    "\"http://gtbank.com/personalbanking/cards/mastercard/gtbank-dollar-credit-cards/gtbank-world-mastercard\",\n",
    "\"https://medium.com/@theemilyhopkins/another-bad-commencement-address-90758e67ab08?source=latest\",\n",
    "\"http://torcache.net/torrent/F52DF00E79B66A462A1848B6478A15D8EAD88679.torrent?title=[kickass.to]the.walking.dead.seizoen3.afl.10.hdtv.xvid.nl.subs.dmt\",\n",
    "\"http://correios.com.br/english/the-brazil-post/history-and-facts/mailmen-in-brazil/imagens/CarteirosdoBrasil_1.jpg/@@images/652365fb-0395-469a-9812-e75aea0d1562.jpeg\",\n",
    "]\n",
    "\n",
    "with ThreadPoolExecutor() as executor:\n",
    "    executor.map(validate_existence, list_domain)\n",
    "# validate_existence(url)\n"
   ]
  }
 ],
 "metadata": {
  "colab": {
   "collapsed_sections": [],
   "name": "URL Extract feature",
   "provenance": []
  },
  "kernelspec": {
   "display_name": "Python 3.9.5 ('tfm1')",
   "language": "python",
   "name": "python3"
  },
  "language_info": {
   "codemirror_mode": {
    "name": "ipython",
    "version": 3
   },
   "file_extension": ".py",
   "mimetype": "text/x-python",
   "name": "python",
   "nbconvert_exporter": "python",
   "pygments_lexer": "ipython3",
   "version": "3.9.5"
  },
  "vscode": {
   "interpreter": {
    "hash": "1cba91db586b52b723360a58c37b30ad13b9859ad683f5f949cefff0f305c0f3"
   }
  }
 },
 "nbformat": 4,
 "nbformat_minor": 1
}
