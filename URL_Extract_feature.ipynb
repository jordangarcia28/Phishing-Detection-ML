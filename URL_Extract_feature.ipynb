{
 "cells": [
  {
   "cell_type": "markdown",
   "metadata": {
    "id": "hvLyc05OKQdg"
   },
   "source": [
    "# **Requirements**"
   ]
  },
  {
   "cell_type": "code",
   "execution_count": 1,
   "metadata": {
    "id": "murRs-xyD-AM"
   },
   "outputs": [],
   "source": [
    "import pandas as pd\n",
    "import os\n",
    "import ipaddress\n",
    "\n",
    "from urllib.parse import urlparse, urlsplit, parse_qs\n",
    "import whois\n",
    "from datetime import datetime\n",
    "import socket\n",
    "import pydig\n",
    "import certifi\n",
    "import urllib3\n",
    "from cymruwhois import Client\n",
    "import tldextract\n",
    "import dns\n",
    "import dns.name\n",
    "import dns.query\n",
    "import dns.resolver\n",
    "\n",
    "import re\n",
    "import requests\n",
    "from bs4 import BeautifulSoup\n",
    "\n",
    "import validators"
   ]
  },
  {
   "cell_type": "markdown",
   "metadata": {},
   "source": [
    "Import URL List"
   ]
  },
  {
   "cell_type": "markdown",
   "metadata": {},
   "source": [
    "1. Phishing"
   ]
  },
  {
   "cell_type": "code",
   "execution_count": null,
   "metadata": {},
   "outputs": [],
   "source": [
    "phish_data = pd.read_csv(\"Dataset/Phishtank/phishtank_0107.csv\")\n",
    "phish_data.head()"
   ]
  },
  {
   "cell_type": "code",
   "execution_count": null,
   "metadata": {},
   "outputs": [],
   "source": [
    "legit_data = pd.read_csv(\"Dataset/UNB/Benign_list_big_final.csv\")\n",
    "legit_data.columns = ['URLs']\n",
    "legit_data.head()"
   ]
  },
  {
   "cell_type": "code",
   "execution_count": 64,
   "metadata": {},
   "outputs": [
    {
     "data": {
      "text/html": [
       "<div>\n",
       "<style scoped>\n",
       "    .dataframe tbody tr th:only-of-type {\n",
       "        vertical-align: middle;\n",
       "    }\n",
       "\n",
       "    .dataframe tbody tr th {\n",
       "        vertical-align: top;\n",
       "    }\n",
       "\n",
       "    .dataframe thead th {\n",
       "        text-align: right;\n",
       "    }\n",
       "</style>\n",
       "<table border=\"1\" class=\"dataframe\">\n",
       "  <thead>\n",
       "    <tr style=\"text-align: right;\">\n",
       "      <th></th>\n",
       "      <th>qty_dot_url</th>\n",
       "      <th>qty_hyphen_url</th>\n",
       "      <th>qty_underline_url</th>\n",
       "      <th>qty_slash_url</th>\n",
       "      <th>qty_questionmark_url</th>\n",
       "      <th>qty_equal_url</th>\n",
       "      <th>qty_at_url</th>\n",
       "      <th>qty_and_url</th>\n",
       "      <th>qty_exclamation_url</th>\n",
       "      <th>qty_space_url</th>\n",
       "      <th>...</th>\n",
       "      <th>qty_ip_resolved</th>\n",
       "      <th>qty_nameservers</th>\n",
       "      <th>qty_mx_servers</th>\n",
       "      <th>ttl_hostname</th>\n",
       "      <th>tls_ssl_certificate</th>\n",
       "      <th>qty_redirects</th>\n",
       "      <th>url_google_index</th>\n",
       "      <th>domain_google_index</th>\n",
       "      <th>url_shortened</th>\n",
       "      <th>phishing</th>\n",
       "    </tr>\n",
       "  </thead>\n",
       "  <tbody>\n",
       "    <tr>\n",
       "      <th>0</th>\n",
       "      <td>2</td>\n",
       "      <td>0</td>\n",
       "      <td>0</td>\n",
       "      <td>0</td>\n",
       "      <td>0</td>\n",
       "      <td>0</td>\n",
       "      <td>0</td>\n",
       "      <td>0</td>\n",
       "      <td>0</td>\n",
       "      <td>0</td>\n",
       "      <td>...</td>\n",
       "      <td>1</td>\n",
       "      <td>4</td>\n",
       "      <td>2</td>\n",
       "      <td>3598</td>\n",
       "      <td>0</td>\n",
       "      <td>0</td>\n",
       "      <td>0</td>\n",
       "      <td>0</td>\n",
       "      <td>0</td>\n",
       "      <td>0</td>\n",
       "    </tr>\n",
       "    <tr>\n",
       "      <th>1</th>\n",
       "      <td>4</td>\n",
       "      <td>0</td>\n",
       "      <td>0</td>\n",
       "      <td>2</td>\n",
       "      <td>0</td>\n",
       "      <td>0</td>\n",
       "      <td>0</td>\n",
       "      <td>0</td>\n",
       "      <td>0</td>\n",
       "      <td>0</td>\n",
       "      <td>...</td>\n",
       "      <td>1</td>\n",
       "      <td>4</td>\n",
       "      <td>1</td>\n",
       "      <td>3977</td>\n",
       "      <td>1</td>\n",
       "      <td>0</td>\n",
       "      <td>0</td>\n",
       "      <td>0</td>\n",
       "      <td>0</td>\n",
       "      <td>0</td>\n",
       "    </tr>\n",
       "    <tr>\n",
       "      <th>2</th>\n",
       "      <td>1</td>\n",
       "      <td>0</td>\n",
       "      <td>0</td>\n",
       "      <td>1</td>\n",
       "      <td>0</td>\n",
       "      <td>0</td>\n",
       "      <td>0</td>\n",
       "      <td>0</td>\n",
       "      <td>0</td>\n",
       "      <td>0</td>\n",
       "      <td>...</td>\n",
       "      <td>1</td>\n",
       "      <td>2</td>\n",
       "      <td>1</td>\n",
       "      <td>10788</td>\n",
       "      <td>0</td>\n",
       "      <td>0</td>\n",
       "      <td>0</td>\n",
       "      <td>0</td>\n",
       "      <td>0</td>\n",
       "      <td>0</td>\n",
       "    </tr>\n",
       "    <tr>\n",
       "      <th>3</th>\n",
       "      <td>2</td>\n",
       "      <td>0</td>\n",
       "      <td>0</td>\n",
       "      <td>3</td>\n",
       "      <td>0</td>\n",
       "      <td>0</td>\n",
       "      <td>0</td>\n",
       "      <td>0</td>\n",
       "      <td>0</td>\n",
       "      <td>0</td>\n",
       "      <td>...</td>\n",
       "      <td>1</td>\n",
       "      <td>2</td>\n",
       "      <td>1</td>\n",
       "      <td>14339</td>\n",
       "      <td>1</td>\n",
       "      <td>0</td>\n",
       "      <td>0</td>\n",
       "      <td>0</td>\n",
       "      <td>0</td>\n",
       "      <td>1</td>\n",
       "    </tr>\n",
       "    <tr>\n",
       "      <th>4</th>\n",
       "      <td>1</td>\n",
       "      <td>1</td>\n",
       "      <td>0</td>\n",
       "      <td>4</td>\n",
       "      <td>0</td>\n",
       "      <td>0</td>\n",
       "      <td>0</td>\n",
       "      <td>0</td>\n",
       "      <td>0</td>\n",
       "      <td>0</td>\n",
       "      <td>...</td>\n",
       "      <td>1</td>\n",
       "      <td>2</td>\n",
       "      <td>1</td>\n",
       "      <td>389</td>\n",
       "      <td>1</td>\n",
       "      <td>1</td>\n",
       "      <td>0</td>\n",
       "      <td>0</td>\n",
       "      <td>0</td>\n",
       "      <td>1</td>\n",
       "    </tr>\n",
       "  </tbody>\n",
       "</table>\n",
       "<p>5 rows × 112 columns</p>\n",
       "</div>"
      ],
      "text/plain": [
       "   qty_dot_url  qty_hyphen_url  qty_underline_url  qty_slash_url  \\\n",
       "0            2               0                  0              0   \n",
       "1            4               0                  0              2   \n",
       "2            1               0                  0              1   \n",
       "3            2               0                  0              3   \n",
       "4            1               1                  0              4   \n",
       "\n",
       "   qty_questionmark_url  qty_equal_url  qty_at_url  qty_and_url  \\\n",
       "0                     0              0           0            0   \n",
       "1                     0              0           0            0   \n",
       "2                     0              0           0            0   \n",
       "3                     0              0           0            0   \n",
       "4                     0              0           0            0   \n",
       "\n",
       "   qty_exclamation_url  qty_space_url  ...  qty_ip_resolved  qty_nameservers  \\\n",
       "0                    0              0  ...                1                4   \n",
       "1                    0              0  ...                1                4   \n",
       "2                    0              0  ...                1                2   \n",
       "3                    0              0  ...                1                2   \n",
       "4                    0              0  ...                1                2   \n",
       "\n",
       "   qty_mx_servers  ttl_hostname  tls_ssl_certificate  qty_redirects  \\\n",
       "0               2          3598                    0              0   \n",
       "1               1          3977                    1              0   \n",
       "2               1         10788                    0              0   \n",
       "3               1         14339                    1              0   \n",
       "4               1           389                    1              1   \n",
       "\n",
       "   url_google_index  domain_google_index  url_shortened  phishing  \n",
       "0                 0                    0              0         0  \n",
       "1                 0                    0              0         0  \n",
       "2                 0                    0              0         0  \n",
       "3                 0                    0              0         1  \n",
       "4                 0                    0              0         1  \n",
       "\n",
       "[5 rows x 112 columns]"
      ]
     },
     "execution_count": 64,
     "metadata": {},
     "output_type": "execute_result"
    }
   ],
   "source": [
    "grega = pd.read_csv(\"Dataset/Grega/dataset_small.csv\")\n",
    "# grega.columns = ['URLs']\n",
    "grega.head()"
   ]
  },
  {
   "cell_type": "code",
   "execution_count": 397,
   "metadata": {},
   "outputs": [
    {
     "data": {
      "text/plain": [
       "0       https://www.google.com\n",
       "1      https://www.youtube.com\n",
       "2     https://www.facebook.com\n",
       "3        https://www.baidu.com\n",
       "4    https://www.wikipedia.org\n",
       "5       https://www.reddit.com\n",
       "6        https://www.yahoo.com\n",
       "7     https://www.google.co.in\n",
       "8           https://www.qq.com\n",
       "9       https://www.amazon.com\n",
       "Name: url, dtype: object"
      ]
     },
     "execution_count": 397,
     "metadata": {},
     "output_type": "execute_result"
    }
   ],
   "source": [
    "# Benign data from Kaggle\n",
    "\n",
    "benign_kaggle_1 = pd.read_csv(\"Dataset/Kaggle/urldata.csv\")\n",
    "benign_kaggle_1 = benign_kaggle_1[benign_kaggle_1.label == \"benign\"]\n",
    "# benign_kaggle_1 = benign_kaggle_1.sample(n = 1000, random_state =13).reset_index(drop=True)[\"url\"]\n",
    "benign_kaggle_1 = benign_kaggle_1.iloc[:1000,:].reset_index(drop=True)[\"url\"]\n",
    "# benign_kaggle_1 = benign_kaggle_1.iloc[:3,:]\n",
    "\n",
    "# df.iloc[:3,:]\n",
    "# benign_kaggle_1.shape\n",
    "benign_kaggle_1.head(10)"
   ]
  },
  {
   "cell_type": "code",
   "execution_count": 379,
   "metadata": {},
   "outputs": [
    {
     "data": {
      "text/plain": [
       "0       https://www.google.com\n",
       "1      https://www.youtube.com\n",
       "2     https://www.facebook.com\n",
       "3        https://www.baidu.com\n",
       "4    https://www.wikipedia.org\n",
       "Name: url, dtype: object"
      ]
     },
     "execution_count": 379,
     "metadata": {},
     "output_type": "execute_result"
    }
   ],
   "source": [
    "legiturl = benign_kaggle_1.copy()\n",
    "legiturl = legiturl.reset_index(drop=True)\n",
    "legiturl.head()"
   ]
  },
  {
   "cell_type": "code",
   "execution_count": 14,
   "metadata": {},
   "outputs": [],
   "source": [
    "legiturl.to_csv('valid_1.csv', index= False)"
   ]
  },
  {
   "cell_type": "markdown",
   "metadata": {
    "id": "7AB01yXDKXV9"
   },
   "source": [
    "## **Table 1**\n",
    "### **Dataset attributes based on URL.**"
   ]
  },
  {
   "cell_type": "markdown",
   "metadata": {},
   "source": [
    "### *Element*"
   ]
  },
  {
   "cell_type": "code",
   "execution_count": 5,
   "metadata": {},
   "outputs": [],
   "source": [
    "def qty_dot(url):\n",
    "    return url.count('.')"
   ]
  },
  {
   "cell_type": "code",
   "execution_count": 6,
   "metadata": {},
   "outputs": [],
   "source": [
    "def qty_hyphen(url):\n",
    "    return url.count(\"-\")"
   ]
  },
  {
   "cell_type": "code",
   "execution_count": 7,
   "metadata": {},
   "outputs": [],
   "source": [
    "def qty_underline(url):\n",
    "    return url.count('_')"
   ]
  },
  {
   "cell_type": "code",
   "execution_count": 8,
   "metadata": {},
   "outputs": [],
   "source": [
    "def qty_slash(url):\n",
    "    return url.count('/')"
   ]
  },
  {
   "cell_type": "code",
   "execution_count": 9,
   "metadata": {},
   "outputs": [],
   "source": [
    "def qty_questionmark(url):\n",
    "    return url.count('?')"
   ]
  },
  {
   "cell_type": "code",
   "execution_count": 10,
   "metadata": {},
   "outputs": [],
   "source": [
    "def qty_equal(url):\n",
    "    return url.count('=')"
   ]
  },
  {
   "cell_type": "code",
   "execution_count": 11,
   "metadata": {},
   "outputs": [],
   "source": [
    "def qty_at(url):\n",
    "    return url.count('@')"
   ]
  },
  {
   "cell_type": "code",
   "execution_count": 12,
   "metadata": {},
   "outputs": [],
   "source": [
    "def qty_and(url):\n",
    "    return url.count('&')"
   ]
  },
  {
   "cell_type": "code",
   "execution_count": 13,
   "metadata": {},
   "outputs": [],
   "source": [
    "def qty_exclamation(url):\n",
    "    return url.count('!')"
   ]
  },
  {
   "cell_type": "code",
   "execution_count": 14,
   "metadata": {},
   "outputs": [],
   "source": [
    "def qty_space(url):\n",
    "    return url.count(' ')"
   ]
  },
  {
   "cell_type": "code",
   "execution_count": 15,
   "metadata": {},
   "outputs": [],
   "source": [
    "def qty_tilde(url):\n",
    "    return url.count('~')"
   ]
  },
  {
   "cell_type": "code",
   "execution_count": 16,
   "metadata": {},
   "outputs": [],
   "source": [
    "def qty_comma(url):\n",
    "    return url.count(',')"
   ]
  },
  {
   "cell_type": "code",
   "execution_count": 17,
   "metadata": {},
   "outputs": [],
   "source": [
    "def qty_plus(url):\n",
    "    return url.count('+')"
   ]
  },
  {
   "cell_type": "code",
   "execution_count": 18,
   "metadata": {},
   "outputs": [],
   "source": [
    "def qty_asterisk(url):\n",
    "    return url.count('*')"
   ]
  },
  {
   "cell_type": "code",
   "execution_count": 19,
   "metadata": {},
   "outputs": [],
   "source": [
    "def qty_hashtag(url):\n",
    "    return url.count('#')"
   ]
  },
  {
   "cell_type": "code",
   "execution_count": 20,
   "metadata": {},
   "outputs": [],
   "source": [
    "def qty_dollar(url):\n",
    "    return url.count('$')"
   ]
  },
  {
   "cell_type": "code",
   "execution_count": 21,
   "metadata": {},
   "outputs": [],
   "source": [
    "def qty_percent(url):\n",
    "    return url.count('%')"
   ]
  },
  {
   "cell_type": "markdown",
   "metadata": {},
   "source": [
    "### *The rest of table 1*"
   ]
  },
  {
   "cell_type": "code",
   "execution_count": 22,
   "metadata": {},
   "outputs": [],
   "source": [
    "def qty_tld_url(url):\n",
    "    tld_url = tldextract.extract(url).suffix\n",
    "    return len(tld_url)"
   ]
  },
  {
   "cell_type": "code",
   "execution_count": 23,
   "metadata": {},
   "outputs": [],
   "source": [
    "def length_url(url):\n",
    "    return len(url)"
   ]
  },
  {
   "cell_type": "code",
   "execution_count": 24,
   "metadata": {},
   "outputs": [],
   "source": [
    "emailRegex = r'\\b[A-Za-z0-9._%+-]+@[A-Za-z0-9.-]+\\.[A-Z|a-z]{2,}\\b'\n",
    " \n",
    "def email_in_url(url):\n",
    "    return 1 if (re.findall(emailRegex, url)) else 0"
   ]
  },
  {
   "cell_type": "markdown",
   "metadata": {
    "id": "qVCI_vwtK36U"
   },
   "source": [
    "## **Table 2**\n",
    "### **Dataset attributes based on domain URL.**"
   ]
  },
  {
   "cell_type": "code",
   "execution_count": 26,
   "metadata": {
    "id": "9h_8KIzeAO4K"
   },
   "outputs": [],
   "source": [
    "def qty_vowels_domain(url):\n",
    "  vowels = ['a', 'e', 'i', 'o', 'u']\n",
    "  return len([i for i in url if i in vowels])\n",
    "\n",
    "def domain_length(url):\n",
    "  return len(url)\n",
    "\n",
    "def domain_in_ip(url):\n",
    "  ipPattern = re.compile('\\d{1,3}\\.\\d{1,3}\\.\\d{1,3}\\.\\d{1,3}')\n",
    "  try:\n",
    "      mo = ipPattern.search(url).group()\n",
    "      if ipaddress.ip_address(mo):\n",
    "          ip = 1\n",
    "  except Exception:\n",
    "      ip = 0\n",
    "  return ip\n",
    "\n",
    "def server_client_domain(url):\n",
    "  keyword = r\"server|client\"\n",
    "  return 1 if (re.search(keyword,url)) else 0"
   ]
  },
  {
   "cell_type": "markdown",
   "metadata": {
    "id": "qVCI_vwtK36U"
   },
   "source": [
    "## **Table 3**\n",
    "### **Dataset attributes based on URL directory.**"
   ]
  },
  {
   "cell_type": "markdown",
   "metadata": {
    "id": "qVCI_vwtK36U"
   },
   "source": [
    "## **Table 4**\n",
    "### **Dataset attributes based on URL file name.**"
   ]
  },
  {
   "cell_type": "markdown",
   "metadata": {
    "id": "qVCI_vwtK36U"
   },
   "source": [
    "## **Table 5**\n",
    "### **Dataset attributes based on URL parameters.**"
   ]
  },
  {
   "cell_type": "code",
   "execution_count": 27,
   "metadata": {},
   "outputs": [],
   "source": [
    "def tld_present_params(url):\n",
    "    return 1 if tldextract.extract(url).suffix else 0"
   ]
  },
  {
   "cell_type": "code",
   "execution_count": 28,
   "metadata": {},
   "outputs": [],
   "source": [
    "def qty_params(url):\n",
    "    return len(url.split(\"&\")) if \"&\" in url else 1"
   ]
  },
  {
   "cell_type": "markdown",
   "metadata": {
    "id": "qVCI_vwtK36U"
   },
   "source": [
    "## **Table 6**\n",
    "### **Dataset attributes based on resolving URL and external services.**"
   ]
  },
  {
   "cell_type": "markdown",
   "metadata": {
    "id": "qVCI_vwtK36U"
   },
   "source": [
    "### *6.1. Domain lookup time response*"
   ]
  },
  {
   "cell_type": "code",
   "execution_count": 29,
   "metadata": {
    "id": "MoNL-ApXjCx_"
   },
   "outputs": [],
   "source": [
    "def time_response(url):\n",
    "    try:\n",
    "        r = requests.get(url, timeout=2)\n",
    "        r.raise_for_status()\n",
    "        return round(r.elapsed.total_seconds(),7)\n",
    "    except Exception:\n",
    "        return 0\n",
    "\n",
    "# respTime = r.elapsed.total_seconds()\n"
   ]
  },
  {
   "cell_type": "code",
   "execution_count": 30,
   "metadata": {},
   "outputs": [
    {
     "data": {
      "text/plain": [
       "1.865824"
      ]
     },
     "execution_count": 30,
     "metadata": {},
     "output_type": "execute_result"
    }
   ],
   "source": [
    "# FOR TESTING\n",
    "# url = 'https://expdfired.badssl.com'\n",
    "# url = 'https://socs1.binus.ac.id/proposalskripsi/auth/login'\n",
    "url = 'https://www.knowledgehut.com/tutorials/python-tutorial/python-lists-tuples'\n",
    "time_response(url)"
   ]
  },
  {
   "cell_type": "markdown",
   "metadata": {
    "id": "qVCI_vwtK36U"
   },
   "source": [
    "### *6.2. Domain has SPF*"
   ]
  },
  {
   "cell_type": "code",
   "execution_count": 31,
   "metadata": {
    "id": "wF0AoxiJk1-Q"
   },
   "outputs": [],
   "source": [
    "def domain_spf(url):\n",
    "  try:\n",
    "    test_spf = dns.resolver.resolve(url , 'TXT')\n",
    "    for dns_data in test_spf:\n",
    "      if 'spf1' in str(dns_data):\n",
    "        return 1\n",
    "  except Exception:\n",
    "    return 0"
   ]
  },
  {
   "cell_type": "code",
   "execution_count": 32,
   "metadata": {},
   "outputs": [
    {
     "data": {
      "text/plain": [
       "0"
      ]
     },
     "execution_count": 32,
     "metadata": {},
     "output_type": "execute_result"
    }
   ],
   "source": [
    "# FOR TESTING\n",
    "# url = 'https://expdfired.badssl.com'\n",
    "url = 'https://binus.ac.id/'\n",
    "# url = 'https://www.knowledgehut.com/tutorials/python-tutorial/python-lists-tuples'\n",
    "domain_spf(url)"
   ]
  },
  {
   "cell_type": "markdown",
   "metadata": {
    "id": "qVCI_vwtK36U"
   },
   "source": [
    "### *6.3. ASN*"
   ]
  },
  {
   "cell_type": "code",
   "execution_count": 33,
   "metadata": {
    "id": "F7XuLHlMrYGr"
   },
   "outputs": [],
   "source": [
    "def asn_ip(url):\n",
    "    try:\n",
    "        domainUrl = urlparse(url).hostname\n",
    "        ip = socket.gethostbyname(domainUrl)\n",
    "        c = Client()\n",
    "        r = c.lookup(ip)\n",
    "        return r.asn\n",
    "    except Exception:\n",
    "        return 0\n"
   ]
  },
  {
   "cell_type": "markdown",
   "metadata": {
    "id": "qVCI_vwtK36U"
   },
   "source": [
    "### *6.4. Domain activation time*"
   ]
  },
  {
   "cell_type": "code",
   "execution_count": 34,
   "metadata": {},
   "outputs": [],
   "source": [
    "def time_domain_activation(url):\n",
    "  today = datetime.now()\n",
    "\n",
    "  try:\n",
    "    creation_date = whois.whois(urlparse(url).netloc).creation_date\n",
    "  except Exception:\n",
    "    return 0\n",
    "\n",
    "  if isinstance(creation_date,list):\n",
    "    creation_date = creation_date[0]\n",
    "\n",
    "  if isinstance(creation_date,str):\n",
    "    try:\n",
    "      creation_date = datetime.strptime(creation_date,'%Y-%m-%d')\n",
    "      # expiration_date = datetime.strptime(expiration_date,\"%Y-%m-%d\")\n",
    "    except Exception:\n",
    "      return 0\n",
    "  if (creation_date is None) or type(creation_date) is list:\n",
    "    return 0\n",
    "  return abs((creation_date - today).days)"
   ]
  },
  {
   "cell_type": "code",
   "execution_count": 35,
   "metadata": {},
   "outputs": [
    {
     "data": {
      "text/plain": [
       "6800"
      ]
     },
     "execution_count": 35,
     "metadata": {},
     "output_type": "execute_result"
    }
   ],
   "source": [
    "# FOR TESTING\n",
    "url = 'https://stackoverflow.com/questions/6197572/change-statusbar-onmouseover-in-a-div'\n",
    "# url = 'https://securiti.ai/'\n",
    "time_domain_activation(url)\n",
    "# time_domain_expiration(url)"
   ]
  },
  {
   "cell_type": "markdown",
   "metadata": {
    "id": "qVCI_vwtK36U"
   },
   "source": [
    "### *6.5. Domain expiration time*"
   ]
  },
  {
   "cell_type": "code",
   "execution_count": 37,
   "metadata": {},
   "outputs": [],
   "source": [
    "def time_domain_expiration(url):\n",
    "  today = datetime.now()\n",
    "\n",
    "  try:\n",
    "    expiration_date = whois.whois(urlparse(url).netloc).expiration_date\n",
    "  except Exception:\n",
    "    return 0\n",
    "\n",
    "  if isinstance(expiration_date,list):\n",
    "    expiration_date = expiration_date[0]\n",
    "\n",
    "  if isinstance(expiration_date,list):\n",
    "    try:\n",
    "        expiration_date = datetime.strptime(expiration_date,\"%Y-%m-%d\")\n",
    "        return expiration_date\n",
    "    except Exception:\n",
    "      return 0\n",
    "  if (expiration_date is None) or type(expiration_date) is list:\n",
    "    return 0\n",
    "  return abs((today - expiration_date).days)\n"
   ]
  },
  {
   "cell_type": "code",
   "execution_count": 38,
   "metadata": {},
   "outputs": [
    {
     "data": {
      "text/plain": [
       "191"
      ]
     },
     "execution_count": 38,
     "metadata": {},
     "output_type": "execute_result"
    }
   ],
   "source": [
    "# FOR TESTING\n",
    "# url = 'https://stackoverflow.com/questions/6197572/change-statusbar-onmouseover-in-a-div'\n",
    "url = 'https://www.youtube.com'\n",
    "# time_domain_activation(url)\n",
    "time_domain_expiration(url)"
   ]
  },
  {
   "cell_type": "markdown",
   "metadata": {
    "id": "qVCI_vwtK36U"
   },
   "source": [
    "### *6.6. Number of resolved IPs*"
   ]
  },
  {
   "cell_type": "code",
   "execution_count": 39,
   "metadata": {},
   "outputs": [],
   "source": [
    "def qty_ip_resolved(url):\n",
    "    try:\n",
    "        domain = whois.whois(urlparse(url).netloc).domain_name\n",
    "    except Exception:\n",
    "        return 0\n",
    "\n",
    "    if domain is None:\n",
    "        return 0\n",
    "\n",
    "    if isinstance(domain,list):\n",
    "        try:\n",
    "            domain = domain[0]\n",
    "        except Exception:\n",
    "            return 0\n",
    "    try:\n",
    "        ipAddress = socket.gethostbyname_ex(domain)\n",
    "        return len(ipAddress[-1])\n",
    "    except Exception:\n",
    "        return 0"
   ]
  },
  {
   "cell_type": "code",
   "execution_count": 40,
   "metadata": {},
   "outputs": [
    {
     "data": {
      "text/plain": [
       "4"
      ]
     },
     "execution_count": 40,
     "metadata": {},
     "output_type": "execute_result"
    }
   ],
   "source": [
    "# FOR TESTING\n",
    "# url = 'https://socs1.binus.ac.id/proposalskripsi/auth/login'\n",
    "url = 'https://www.knowledgehut.com/tutorials/python-tutorial/python-lists-tuples'\n",
    "\n",
    "\n",
    "qty_ip_resolved(url)"
   ]
  },
  {
   "cell_type": "markdown",
   "metadata": {
    "id": "qVCI_vwtK36U"
   },
   "source": [
    "### *6.7. Number of resolved NS*"
   ]
  },
  {
   "cell_type": "code",
   "execution_count": 41,
   "metadata": {},
   "outputs": [],
   "source": [
    "def qty_nameservers(url):\n",
    "    try:\n",
    "        nameServer = whois.whois(urlparse(url).netloc).name_servers\n",
    "        # nameServer = \n",
    "    except Exception:\n",
    "        return 0\n",
    "\n",
    "    if nameServer is None:\n",
    "        return 0\n",
    "    if isinstance(nameServer,str):\n",
    "        return 1\n",
    "\n",
    "    return len(nameServer)"
   ]
  },
  {
   "cell_type": "code",
   "execution_count": 42,
   "metadata": {},
   "outputs": [
    {
     "data": {
      "text/plain": [
       "4"
      ]
     },
     "execution_count": 42,
     "metadata": {},
     "output_type": "execute_result"
    }
   ],
   "source": [
    "# FOR TESTING\n",
    "# url = 'https://www.knowledgehdut.com/tutorials/python-tutorial/python-lists-tuples'\n",
    "url = 'https://myclass.apps.binus.ac.id'\n",
    "# domain = whois.whois(urlparse(url).netloc).domain_name\n",
    "qty_nameservers(url)"
   ]
  },
  {
   "cell_type": "markdown",
   "metadata": {
    "id": "qVCI_vwtK36U"
   },
   "source": [
    "### *6.8. Number of MX servers*"
   ]
  },
  {
   "cell_type": "code",
   "execution_count": 43,
   "metadata": {},
   "outputs": [],
   "source": [
    "def qty_mx_servers(url):\n",
    "    try:\n",
    "        domain = whois.whois(urlparse(url).netloc).domain_name\n",
    "        try:\n",
    "            return len(dns.resolver.resolve(domain, 'MX'))\n",
    "        except Exception:\n",
    "            return 0\n",
    "    except Exception:\n",
    "        return 0\n"
   ]
  },
  {
   "cell_type": "code",
   "execution_count": 44,
   "metadata": {},
   "outputs": [
    {
     "data": {
      "text/plain": [
       "0"
      ]
     },
     "execution_count": 44,
     "metadata": {},
     "output_type": "execute_result"
    }
   ],
   "source": [
    "# FOR TESTING\n",
    "url = 'https://socs1.binus.ac.id/proposalskripsi/auth/login'\n",
    "# url = 'https://www.knowledgehut.com/tutorials/python-tutorial/python-lists-tuples'\n",
    "qty_mx_servers(url)"
   ]
  },
  {
   "cell_type": "markdown",
   "metadata": {
    "id": "qVCI_vwtK36U"
   },
   "source": [
    "### *6.9. Time-To-Live*"
   ]
  },
  {
   "cell_type": "code",
   "execution_count": 45,
   "metadata": {},
   "outputs": [],
   "source": [
    "def ttl_hostname(url):\n",
    "    my_resolver = dns.resolver.Resolver()\n",
    "    my_resolver.nameservers = ['1.1.1.1']\n",
    "\n",
    "    domain = urlparse(url).netloc\n",
    "    # print (ns2.binus.ac.id.)\n",
    "    try:\n",
    "        ns = get_authoritative_nameserver(domain)\n",
    "        # print(ns)\n",
    "        # answer = my_resolver.query('ns1-05.azure-dns.com.')\n",
    "        # my_resolver.query('ns2.binus.ac.id.').rrset.ttl\n",
    "        return my_resolver.query(ns).rrset.ttl\n",
    "    except Exception:\n",
    "        return 0\n",
    "\n",
    "def get_authoritative_nameserver(domain, log=lambda msg: None):\n",
    "    n = dns.name.from_text(domain)\n",
    "\n",
    "    depth = 2\n",
    "    default = dns.resolver.get_default_resolver()\n",
    "    nameserver = default.nameservers[0]\n",
    "\n",
    "    last = False\n",
    "    while not last:\n",
    "        s = n.split(depth)\n",
    "\n",
    "        last = s[0].to_unicode() == u'@'\n",
    "        sub = s[1]\n",
    "\n",
    "        log('Looking up %s on %s' % (sub, nameserver))\n",
    "        query = dns.message.make_query(sub, dns.rdatatype.NS)\n",
    "        response = dns.query.udp(query, nameserver)\n",
    "\n",
    "        rcode = response.rcode()\n",
    "        if rcode != dns.rcode.NOERROR:\n",
    "            if rcode == dns.rcode.NXDOMAIN:\n",
    "                raise Exception('%s does not exist.' % sub)\n",
    "            else:\n",
    "                raise Exception('Error %s' % dns.rcode.to_text(rcode))\n",
    "\n",
    "        rrset = None\n",
    "        if len(response.authority) > 0:\n",
    "            rrset = response.authority[0]\n",
    "        else:\n",
    "            rrset = response.answer[0]\n",
    "\n",
    "        rr = rrset[0]\n",
    "        if rr.rdtype == dns.rdatatype.SOA:\n",
    "            log('Same server is authoritative for %s' % sub)\n",
    "        else:\n",
    "            authority = rr.target\n",
    "            log('%s is authoritative for %s' % (authority, sub))\n",
    "            nameserver = default.query(authority).rrset[0].to_text()\n",
    "\n",
    "        depth += 1\n",
    "\n",
    "    return authority\n",
    "\n",
    "\n",
    "import sys\n",
    "\n",
    "def log(msg):\n",
    "    print (msg)"
   ]
  },
  {
   "cell_type": "code",
   "execution_count": 49,
   "metadata": {},
   "outputs": [
    {
     "data": {
      "text/plain": [
       "172800"
      ]
     },
     "execution_count": 49,
     "metadata": {},
     "output_type": "execute_result"
    }
   ],
   "source": [
    "# FOR TESTING\n",
    "# url = 'https://socs1.binus.ac.id/proposalskripsi/auth/login'\n",
    "# url = 'https://www.knowledgehut.com/tutorials/python-tutorial/python-lists-tuples'\n",
    "url = 'https://stackoverflow.com/questions/26930572/count-number-of-redirects-in-scrapy'\n",
    "# domain = urlparse(url).netloc\n",
    "\n",
    "ttl_hostname(url)"
   ]
  },
  {
   "cell_type": "markdown",
   "metadata": {
    "id": "qVCI_vwtK36U"
   },
   "source": [
    "### *6.10. Has valid TLS/SSL certificate*"
   ]
  },
  {
   "cell_type": "code",
   "execution_count": 50,
   "metadata": {},
   "outputs": [],
   "source": [
    "def tls_ssl_certificate(url):\n",
    "    try:\n",
    "        r = requests.get(url, timeout=2)\n",
    "        return 1 if r.status_code == 200 else 0\n",
    "    # except (requests.exceptions.SSLError):\n",
    "    #     # print(traceback.format_exc())\n",
    "    #     return 0\n",
    "    except Exception:\n",
    "        return 0\n"
   ]
  },
  {
   "cell_type": "code",
   "execution_count": 51,
   "metadata": {},
   "outputs": [
    {
     "data": {
      "text/plain": [
       "1"
      ]
     },
     "execution_count": 51,
     "metadata": {},
     "output_type": "execute_result"
    }
   ],
   "source": [
    "# FOR TESTING\n",
    "# url = 'https://expdfired.badssl.com'\n",
    "url = 'https://socs1.binus.ac.id/proposalskripsi/auth/login'\n",
    "# url = 'https://www.knowledgehut.com/tutorials/python-tutorial/python-lists-tuples'\n",
    "tls_ssl_certificate(url)"
   ]
  },
  {
   "cell_type": "markdown",
   "metadata": {
    "id": "qVCI_vwtK36U"
   },
   "source": [
    "### *6.11. Number of redirects*"
   ]
  },
  {
   "cell_type": "code",
   "execution_count": 52,
   "metadata": {
    "id": "4f0FPHnfhVfU"
   },
   "outputs": [],
   "source": [
    "def qty_redirects(url):\n",
    "    try:\n",
    "        response = requests.get(url, allow_redirects = True, timeout=2)\n",
    "        # print(response.history)\n",
    "        return sum(1 for _ in response.history)\n",
    "        \n",
    "    except requests.exceptions.SSLError:\n",
    "        return 0\n",
    "    except Exception:\n",
    "        return 0\n",
    "\n"
   ]
  },
  {
   "cell_type": "code",
   "execution_count": 53,
   "metadata": {},
   "outputs": [
    {
     "data": {
      "text/plain": [
       "3"
      ]
     },
     "execution_count": 53,
     "metadata": {},
     "output_type": "execute_result"
    }
   ],
   "source": [
    "# FOR TESTING\n",
    "\n",
    "# url = 'https://socs1.binus.ac.id/proposalskripsi/auth/login'\n",
    "# url = 'https://www.knowledgehut.com/tutorials/python-tutorial/python-lists-tuples'\n",
    "# url = 'https://facebok.com/'\n",
    "url = 'http://httpbin.org/redirect/3'\n",
    "qty_redirects(url)"
   ]
  },
  {
   "cell_type": "markdown",
   "metadata": {
    "id": "qVCI_vwtK36U"
   },
   "source": [
    "### *6.12. Is URL/Domain indexed on Google*"
   ]
  },
  {
   "cell_type": "code",
   "execution_count": 54,
   "metadata": {},
   "outputs": [],
   "source": [
    "def indexed(url):\n",
    "  try:    \n",
    "    google = f\"https://www.google.com/search?q=site:{url}&hl=en\"\n",
    "    response = requests.get(google, cookies={\"CONSENT\": \"YES+1\"}, timeout=2)\n",
    "    soup = BeautifulSoup(response.content, \"html.parser\")\n",
    "    not_indexed = re.compile(\"did not match any documents\")\n",
    "  except Exception:\n",
    "    return 0\n",
    "  return 0 if soup(text=not_indexed) else 1\n",
    "\n",
    "def url_google_index(url):\n",
    "  return indexed(url)\n",
    "\n",
    "def domain_google_index(url):\n",
    "  domainURL = urlparse(url).hostname\n",
    "  return indexed(domainURL)"
   ]
  },
  {
   "cell_type": "code",
   "execution_count": 56,
   "metadata": {},
   "outputs": [
    {
     "data": {
      "text/plain": [
       "1"
      ]
     },
     "execution_count": 56,
     "metadata": {},
     "output_type": "execute_result"
    }
   ],
   "source": [
    "# FOR TESTING\n",
    "\n",
    "url = 'https://socs1.binus.ac.id/Sdxad'\n",
    "# url = 'https://www.knowsdfsdfledgdsfsdfehut.com/tutorials/python-tutorial/python-lists-tuples'\n",
    "# url = 'https://facebook.com/'\n",
    "# url = 'http://httpbin.org/redirect/3'\n",
    "# url_google_index(url)\n",
    "domain_google_index(url)"
   ]
  },
  {
   "cell_type": "markdown",
   "metadata": {
    "id": "qVCI_vwtK36U"
   },
   "source": [
    "### *6.13. Is URL shortened*"
   ]
  },
  {
   "cell_type": "code",
   "execution_count": 57,
   "metadata": {
    "id": "zSx-02KHa_Tr"
   },
   "outputs": [],
   "source": [
    "# Is URL shortened\n",
    "\n",
    "# !pip install urlunshort3\n",
    "# import urlunshort3\n",
    "# is_shortened(url)\n",
    "\n",
    "short_url = re.compile(r\"bit\\.ly|goo\\.gl|shorte\\.st|go2l\\.ink|x\\.co|ow\\.ly|t\\.co|tinyurl|tr\\.im|is\\.gd|cli\\.gs|\" \\\n",
    "            r\"yfrog\\.com|migre\\.me|ff\\.im|tiny\\.cc|url4\\.eu|twit\\.ac|su\\.pr|twurl\\.nl|snipurl\\.com|\" \\\n",
    "            r\"short\\.to|BudURL\\.com|ping\\.fm|post\\.ly|Just\\.as|bkite\\.com|snipr\\.com|fic\\.kr|loopt\\.us|\" \\\n",
    "            r\"doiop\\.com|short\\.ie|kl\\.am|wp\\.me|rubyurl\\.com|om\\.ly|to\\.ly|bit\\.do|t\\.co|lnkd\\.in|db\\.tt|\" \\\n",
    "            r\"qr\\.ae|adf\\.ly|goo\\.gl|bitly\\.com|cur\\.lv|tinyurl\\.com|ow\\.ly|bit\\.ly|ity\\.im|q\\.gs|is\\.gd|\" \\\n",
    "            r\"po\\.st|bc\\.vc|twitthis\\.com|u\\.to|j\\.mp|buzurl\\.com|cutt\\.us|u\\.bb|yourls\\.org|x\\.co|\" \\\n",
    "            r\"prettylinkpro\\.com|scrnch\\.me|filoops\\.info|vzturl\\.com|qr\\.net|1url\\.com|tweez\\.me|v\\.gd|\" \\\n",
    "            r\"tr\\.im|link\\.zip\\.net\")\n",
    "# def url_shortened(url):\n",
    "#     match = re.search(short_url,url)\n",
    "#     url_shortened = 1 if match else 0\n",
    "#     url_shortened\n",
    "\n",
    "def url_shortened(url):\n",
    "    domain = urlparse(url).netloc\n",
    "    return 1 if short_url.match(domain) else 0"
   ]
  },
  {
   "cell_type": "markdown",
   "metadata": {
    "id": "qVCI_vwtK36U"
   },
   "source": [
    "## **Testing**"
   ]
  },
  {
   "cell_type": "code",
   "execution_count": 65,
   "metadata": {},
   "outputs": [],
   "source": [
    "def featureExtract(url):\n",
    "\n",
    "  features = []\n",
    "\n",
    "  features.append(qty_dot(url))\n",
    "  features.append(qty_hyphen(url))\n",
    "  features.append(qty_underline(url))\n",
    "  features.append(qty_slash(url))\n",
    "  features.append(qty_questionmark(url))\n",
    "  features.append(qty_equal(url))\n",
    "  features.append(qty_at(url))\n",
    "  features.append(qty_and(url))\n",
    "  features.append(qty_exclamation(url))\n",
    "  features.append(qty_space(url))\n",
    "  features.append(qty_tilde(url))\n",
    "  features.append(qty_comma(url))\n",
    "  features.append(qty_plus(url))\n",
    "  features.append(qty_asterisk(url))\n",
    "  features.append(qty_hashtag(url))\n",
    "  features.append(qty_dollar(url))\n",
    "  features.append(qty_percent(url))\n",
    "  features.append(qty_tld_url(url))\n",
    "  features.append(length_url(url))\n",
    "\n",
    "  try:\n",
    "    domainUrl = urlparse(url).hostname\n",
    "  except Exception:\n",
    "    domainUrl = 0\n",
    "    \n",
    "  features.append(0 if domainUrl == 0 else qty_dot(domainUrl))\n",
    "  features.append(0 if domainUrl == 0 else qty_hyphen(domainUrl))\n",
    "  features.append(0 if domainUrl == 0 else qty_underline(domainUrl))\n",
    "  # features.append(0 if domainUrl == 0 else qty_slash(domainUrl))\n",
    "  # features.append(0 if domainUrl == 0 else qty_questionmark(domainUrl))\n",
    "  # features.append(0 if domainUrl == 0 else qty_equal(domainUrl))\n",
    "  features.append(0 if domainUrl == 0 else qty_at(domainUrl))\n",
    "  # features.append(0 if domainUrl == 0 else qty_and(domainUrl))\n",
    "  # features.append(0 if domainUrl == 0 else qty_exclamation(domainUrl))\n",
    "  # features.append(0 if domainUrl == 0 else qty_space(domainUrl))\n",
    "  # features.append(0 if domainUrl == 0 else qty_tilde(domainUrl))\n",
    "  # features.append(0 if domainUrl == 0 else qty_comma(domainUrl))\n",
    "  # features.append(0 if domainUrl == 0 else qty_plus(domainUrl))\n",
    "  # features.append(0 if domainUrl == 0 else qty_asterisk(domainUrl))\n",
    "  # features.append(0 if domainUrl == 0 else qty_hashtag(domainUrl))\n",
    "  # features.append(0 if domainUrl == 0 else qty_dollar(domainUrl))\n",
    "  # features.append(0 if domainUrl == 0 else qty_percent(domainUrl))\n",
    "  features.append(0 if domainUrl == 0 else qty_vowels_domain(domainUrl))\n",
    "  features.append(0 if domainUrl == 0 else domain_length(domainUrl))\n",
    "  features.append(0 if domainUrl == 0 else domain_in_ip(domainUrl))\n",
    "  features.append(0 if domainUrl == 0 else server_client_domain(domainUrl))\n",
    "\n",
    "  try:\n",
    "    directoryUrl = os.path.dirname(urlparse(url).path)\n",
    "    if not directoryUrl:\n",
    "      directoryUrl = 0\n",
    "  except Exception:\n",
    "    directoryUrl = 0\n",
    "\n",
    "  features.append(0 if directoryUrl == 0 else qty_dot(directoryUrl))\n",
    "  features.append(0 if directoryUrl == 0 else qty_hyphen(directoryUrl))\n",
    "  features.append(0 if directoryUrl == 0 else qty_underline(directoryUrl))\n",
    "  features.append(0 if directoryUrl == 0 else qty_slash(directoryUrl))\n",
    "  features.append(0 if directoryUrl == 0 else qty_questionmark(directoryUrl))\n",
    "  features.append(0 if directoryUrl == 0 else qty_equal(directoryUrl))\n",
    "  features.append(0 if directoryUrl == 0 else qty_at(directoryUrl))\n",
    "  features.append(0 if directoryUrl == 0 else qty_and(directoryUrl))\n",
    "  features.append(0 if directoryUrl == 0 else qty_exclamation(directoryUrl))\n",
    "  features.append(0 if directoryUrl == 0 else qty_space(directoryUrl))\n",
    "  features.append(0 if directoryUrl == 0 else qty_tilde(directoryUrl))\n",
    "  features.append(0 if directoryUrl == 0 else qty_comma(directoryUrl))\n",
    "  features.append(0 if directoryUrl == 0 else qty_plus(directoryUrl))\n",
    "  features.append(0 if directoryUrl == 0 else qty_asterisk(directoryUrl))\n",
    "  features.append(0 if directoryUrl == 0 else qty_hashtag(directoryUrl))\n",
    "  features.append(0 if directoryUrl == 0 else qty_dollar(directoryUrl))\n",
    "  features.append(0 if directoryUrl == 0 else qty_percent(directoryUrl))\n",
    "  features.append(0 if directoryUrl == 0 else domain_length(directoryUrl))\n",
    "\n",
    "  try:\n",
    "    filenameUrl = os.path.basename(urlparse(url).path)\n",
    "    if not filenameUrl:\n",
    "      filenameUrl = 0\n",
    "  except Exception:\n",
    "    filenameUrl = 0\n",
    "\n",
    "  features.append(0 if filenameUrl == 0 else qty_dot(filenameUrl))\n",
    "  features.append(0 if filenameUrl == 0 else qty_hyphen(filenameUrl))\n",
    "  features.append(0 if filenameUrl == 0 else qty_underline(filenameUrl))\n",
    "  features.append(0 if filenameUrl == 0 else qty_slash(filenameUrl))\n",
    "  features.append(0 if filenameUrl == 0 else qty_questionmark(filenameUrl))\n",
    "  features.append(0 if filenameUrl == 0 else qty_equal(filenameUrl))\n",
    "  features.append(0 if filenameUrl == 0 else qty_at(filenameUrl))\n",
    "  features.append(0 if filenameUrl == 0 else qty_and(filenameUrl))\n",
    "  features.append(0 if filenameUrl == 0 else qty_exclamation(filenameUrl))\n",
    "  features.append(0 if filenameUrl == 0 else qty_space(filenameUrl))\n",
    "  features.append(0 if filenameUrl == 0 else qty_tilde(filenameUrl))\n",
    "  features.append(0 if filenameUrl == 0 else qty_comma(filenameUrl))\n",
    "  features.append(0 if filenameUrl == 0 else qty_plus(filenameUrl))\n",
    "  features.append(0 if filenameUrl == 0 else qty_asterisk(filenameUrl))\n",
    "  features.append(0 if filenameUrl == 0 else qty_hashtag(filenameUrl))\n",
    "  features.append(0 if filenameUrl == 0 else qty_dollar(filenameUrl))\n",
    "  features.append(0 if filenameUrl == 0 else qty_percent(filenameUrl))\n",
    "  features.append(0 if filenameUrl == 0 else domain_length(filenameUrl))\n",
    "\n",
    "  try:\n",
    "    parameterUrl = urlparse(url).query\n",
    "    if not parameterUrl:\n",
    "      parameterUrl = 0\n",
    "  except Exception:\n",
    "    parameterUrl = 0\n",
    "\n",
    "  features.append(0 if parameterUrl == 0 else qty_dot(parameterUrl))\n",
    "  features.append(0 if parameterUrl == 0 else qty_hyphen(parameterUrl))\n",
    "  features.append(0 if parameterUrl == 0 else qty_underline(parameterUrl))\n",
    "  features.append(0 if parameterUrl == 0 else qty_slash(parameterUrl))\n",
    "  features.append(0 if parameterUrl == 0 else qty_questionmark(parameterUrl))\n",
    "  features.append(0 if parameterUrl == 0 else qty_equal(parameterUrl))\n",
    "  features.append(0 if parameterUrl == 0 else qty_at(parameterUrl))\n",
    "  features.append(0 if parameterUrl == 0 else qty_and(parameterUrl))\n",
    "  features.append(0 if parameterUrl == 0 else qty_exclamation(parameterUrl))\n",
    "  features.append(0 if parameterUrl == 0 else qty_space(parameterUrl))\n",
    "  features.append(0 if parameterUrl == 0 else qty_tilde(parameterUrl))\n",
    "  features.append(0 if parameterUrl == 0 else qty_comma(parameterUrl))\n",
    "  features.append(0 if parameterUrl == 0 else qty_plus(parameterUrl))\n",
    "  features.append(0 if parameterUrl == 0 else qty_asterisk(parameterUrl))\n",
    "  features.append(0 if parameterUrl == 0 else qty_hashtag(parameterUrl))\n",
    "  features.append(0 if parameterUrl == 0 else qty_dollar(parameterUrl))\n",
    "  features.append(0 if parameterUrl == 0 else qty_percent(parameterUrl))\n",
    "  features.append(0 if parameterUrl == 0 else domain_length(parameterUrl))\n",
    "  features.append(0 if parameterUrl == 0 else tld_present_params(parameterUrl))\n",
    "  features.append(0 if parameterUrl == 0 else qty_params(parameterUrl))\n",
    "  features.append(email_in_url(url))\n",
    "\n",
    "\n",
    "  features.append(time_response(url))\n",
    "  features.append(domain_spf(url))\n",
    "  features.append(asn_ip(url))\n",
    "  features.append(time_domain_activation(url))\n",
    "  features.append(time_domain_expiration(url))\n",
    "  features.append(qty_ip_resolved(url))\n",
    "  features.append(qty_nameservers(url))\n",
    "  features.append(qty_mx_servers(url))\n",
    "  features.append(ttl_hostname(url))\n",
    "  # features.append(0)\n",
    "  features.append(tls_ssl_certificate(url))\n",
    "  features.append(qty_redirects(url))\n",
    "  features.append(url_google_index(url))\n",
    "  features.append(domain_google_index(url))\n",
    "  features.append(url_shortened(url))\n",
    "  # features.append(0)\n",
    "\n",
    "\n",
    "  \n",
    "\n",
    "\n",
    "\n",
    "  return features\n",
    "\n",
    "# from concurrent.futures import ThreadPoolExecutor\n",
    "\n",
    "\n",
    "# list_domain = ['http://www.mascesceard.mcasord.mltuey.top/ic6oXx7P3s/page1.php',\n",
    "#               'https://scikit-learn.org/stable/modules/generated/sklearn.ensemble.RandomForestClassifier.html'\n",
    "#               ]\n",
    "\n",
    "\n",
    "# with ThreadPoolExecutor() as executor:\n",
    "#     executor.map(featureExtract, list_domain)\n"
   ]
  },
  {
   "cell_type": "code",
   "execution_count": 67,
   "metadata": {},
   "outputs": [
    {
     "data": {
      "text/plain": [
       "[5,\n",
       " 0,\n",
       " 0,\n",
       " 4,\n",
       " 0,\n",
       " 0,\n",
       " 0,\n",
       " 0,\n",
       " 0,\n",
       " 0,\n",
       " 0,\n",
       " 0,\n",
       " 0,\n",
       " 0,\n",
       " 0,\n",
       " 0,\n",
       " 0,\n",
       " 3,\n",
       " 62,\n",
       " 4,\n",
       " 0,\n",
       " 0,\n",
       " 0,\n",
       " 10,\n",
       " 34,\n",
       " 0,\n",
       " 0,\n",
       " 0,\n",
       " 0,\n",
       " 0,\n",
       " 1,\n",
       " 0,\n",
       " 0,\n",
       " 0,\n",
       " 0,\n",
       " 0,\n",
       " 0,\n",
       " 0,\n",
       " 0,\n",
       " 0,\n",
       " 0,\n",
       " 0,\n",
       " 0,\n",
       " 0,\n",
       " 11,\n",
       " 1,\n",
       " 0,\n",
       " 0,\n",
       " 0,\n",
       " 0,\n",
       " 0,\n",
       " 0,\n",
       " 0,\n",
       " 0,\n",
       " 0,\n",
       " 0,\n",
       " 0,\n",
       " 0,\n",
       " 0,\n",
       " 0,\n",
       " 0,\n",
       " 0,\n",
       " 9,\n",
       " 0,\n",
       " 0,\n",
       " 0,\n",
       " 0,\n",
       " 0,\n",
       " 0,\n",
       " 0,\n",
       " 0,\n",
       " 0,\n",
       " 0,\n",
       " 0,\n",
       " 0,\n",
       " 0,\n",
       " 0,\n",
       " 0,\n",
       " 0,\n",
       " 0,\n",
       " 0,\n",
       " 0,\n",
       " 0,\n",
       " 0,\n",
       " 0,\n",
       " 0,\n",
       " 0,\n",
       " 257,\n",
       " 109,\n",
       " 0,\n",
       " 2,\n",
       " 0,\n",
       " 0,\n",
       " 0,\n",
       " 0,\n",
       " 0,\n",
       " 0,\n",
       " 0]"
      ]
     },
     "execution_count": 67,
     "metadata": {},
     "output_type": "execute_result"
    }
   ],
   "source": [
    "# url = \"https://www.geeksforgeeks.org/how-to-combine-two-dataframe-in-python-pandas/\"\n",
    "url = \"http://www.vissvvesie.vvssceoi.kwoneq.top/ic6oXx7P3s/page1.php\"\n",
    "featureExtract(url)"
   ]
  },
  {
   "cell_type": "code",
   "execution_count": null,
   "metadata": {},
   "outputs": [],
   "source": []
  },
  {
   "cell_type": "code",
   "execution_count": 133,
   "metadata": {},
   "outputs": [],
   "source": [
    "regexUrl = re.compile(\n",
    "        r'^(?:http|ftp)s?://' # http:// or https://\n",
    "        r'(?:(?:[A-Z0-9](?:[A-Z0-9-]{0,61}[A-Z0-9])?\\.)+(?:[A-Z]{2,6}\\.?|[A-Z0-9-]{2,}\\.?)|' #domain...\n",
    "        r'localhost|' #localhost...\n",
    "        r'\\d{1,3}\\.\\d{1,3}\\.\\d{1,3}\\.\\d{1,3})' # ...or ip\n",
    "        r'(?::\\d+)?' # optional port\n",
    "        r'(?:/?|[/?]\\S+)$', re.IGNORECASE)\n",
    "\n",
    "# print(re.match(regexUrl, \"http://www.example.com\") is not None) # True\n",
    "# print(re.match(regexUrl, \"example.com\") is not None)   \n",
    "\n",
    "\n",
    "def urlValid(url):\n",
    "    if re.match(regexUrl, url) is not None:\n",
    "        return featureExtract('https://www.knowledgehut.com/tutorials/python-tutorial/python-lists-tuples')\n",
    "\n",
    "        # valid=validators.url(url)\n",
    "        # if valid==True:\n",
    "        #     print(\"Url is valid\")\n",
    "        # else:\n",
    "        #     print(\"Invalid url\")\n",
    "    else:\n",
    "        return 0"
   ]
  },
  {
   "cell_type": "code",
   "execution_count": 134,
   "metadata": {},
   "outputs": [
    {
     "name": "stdout",
     "output_type": "stream",
     "text": [
      "[2, 3, 0, 5, 0, 0, 0, 0, 0, 0, 0, 0, 0, 0, 0, 0, 0, 3, 74, 2, 0, 0, 0, 0, 0, 0, 0, 0, 0, 0, 0, 0, 0, 0, 0, 0, 5, 20, 0, 0, 0, 1, 0, 2, 0, 0, 0, 0, 0, 0, 0, 0, 0, 0, 0, 0, 0, 26, 0, 2, 0, 0, 0, 0, 0, 0, 0, 0, 0, 0, 0, 0, 0, 0, 0, 19, 0, 0, 0, 0, 0, 0, 0, 0, 0, 0, 0, 0, 0, 0, 0, 0, 0, 0, 0, 0, 0, 0.356275, 0, '16509', 4036, 1444, 4, 4, 0, 0, 1, 0, 1, 1, 0]\n"
     ]
    }
   ],
   "source": [
    "# urlValid('https://pand$$$$as@asd.py~da,-ta.org?/doc&!%++****#2,,00@s/user_guide/merging.html')\n",
    "urlValid('https://www.knowledgehut.com/tutorials/python-tutorial/python-lists-tuples')\n",
    "# urlValid('https://pand$$$$as@asd.py~da,-t a.org?/doc&!%++****#2,,00@s/user_guide/merging.html')\n",
    "# urlValid('https://www.example.com/some_path?some_key=some_valuesdfs&asdasd=asd.com')"
   ]
  },
  {
   "cell_type": "code",
   "execution_count": null,
   "metadata": {},
   "outputs": [],
   "source": [
    "len(urlValid('https://www.knowledgehut.com/tutorials/python-tutorial/python-lists-tuples'))"
   ]
  },
  {
   "cell_type": "markdown",
   "metadata": {},
   "source": [
    "generate dataset"
   ]
  },
  {
   "cell_type": "code",
   "execution_count": 337,
   "metadata": {},
   "outputs": [],
   "source": [
    "#Extracting the feautres & storing them in a list\n",
    "benign_features = []\n",
    "# phishing = 0\n",
    "# url_url = []"
   ]
  },
  {
   "cell_type": "code",
   "execution_count": 345,
   "metadata": {},
   "outputs": [
    {
     "ename": "KeyboardInterrupt",
     "evalue": "",
     "output_type": "error",
     "traceback": [
      "\u001b[0;31m---------------------------------------------------------------------------\u001b[0m",
      "\u001b[0;31mKeyboardInterrupt\u001b[0m                         Traceback (most recent call last)",
      "\u001b[1;32m/Users/jordan/Documents/PhishingDetection/Thesis_PhishingDetection/URL_Extract_feature.ipynb Cell 88\u001b[0m in \u001b[0;36m<cell line: 1>\u001b[0;34m()\u001b[0m\n\u001b[1;32m      <a href='vscode-notebook-cell:/Users/jordan/Documents/PhishingDetection/Thesis_PhishingDetection/URL_Extract_feature.ipynb#ch0000083?line=0'>1</a>\u001b[0m \u001b[39mfor\u001b[39;00m i \u001b[39min\u001b[39;00m \u001b[39mrange\u001b[39m(\u001b[39m30\u001b[39m):\n\u001b[1;32m      <a href='vscode-notebook-cell:/Users/jordan/Documents/PhishingDetection/Thesis_PhishingDetection/URL_Extract_feature.ipynb#ch0000083?line=1'>2</a>\u001b[0m   url \u001b[39m=\u001b[39m benign_kaggle_1[i\u001b[39m+\u001b[39m\u001b[39m70\u001b[39m]\n\u001b[0;32m----> <a href='vscode-notebook-cell:/Users/jordan/Documents/PhishingDetection/Thesis_PhishingDetection/URL_Extract_feature.ipynb#ch0000083?line=2'>3</a>\u001b[0m   benign_features\u001b[39m.\u001b[39mappend(featureExtract(url))\n",
      "\u001b[1;32m/Users/jordan/Documents/PhishingDetection/Thesis_PhishingDetection/URL_Extract_feature.ipynb Cell 88\u001b[0m in \u001b[0;36mfeatureExtract\u001b[0;34m(url)\u001b[0m\n\u001b[1;32m    <a href='vscode-notebook-cell:/Users/jordan/Documents/PhishingDetection/Thesis_PhishingDetection/URL_Extract_feature.ipynb#ch0000083?line=142'>143</a>\u001b[0m features\u001b[39m.\u001b[39mappend(\u001b[39m0\u001b[39m)\n\u001b[1;32m    <a href='vscode-notebook-cell:/Users/jordan/Documents/PhishingDetection/Thesis_PhishingDetection/URL_Extract_feature.ipynb#ch0000083?line=143'>144</a>\u001b[0m features\u001b[39m.\u001b[39mappend(tls_ssl_certificate(url))\n\u001b[0;32m--> <a href='vscode-notebook-cell:/Users/jordan/Documents/PhishingDetection/Thesis_PhishingDetection/URL_Extract_feature.ipynb#ch0000083?line=144'>145</a>\u001b[0m features\u001b[39m.\u001b[39mappend(qty_redirects(url))\n\u001b[1;32m    <a href='vscode-notebook-cell:/Users/jordan/Documents/PhishingDetection/Thesis_PhishingDetection/URL_Extract_feature.ipynb#ch0000083?line=145'>146</a>\u001b[0m features\u001b[39m.\u001b[39mappend(url_google_index(url))\n\u001b[1;32m    <a href='vscode-notebook-cell:/Users/jordan/Documents/PhishingDetection/Thesis_PhishingDetection/URL_Extract_feature.ipynb#ch0000083?line=146'>147</a>\u001b[0m features\u001b[39m.\u001b[39mappend(domain_google_index(url))\n",
      "\u001b[1;32m/Users/jordan/Documents/PhishingDetection/Thesis_PhishingDetection/URL_Extract_feature.ipynb Cell 88\u001b[0m in \u001b[0;36mqty_redirects\u001b[0;34m(url)\u001b[0m\n\u001b[1;32m      <a href='vscode-notebook-cell:/Users/jordan/Documents/PhishingDetection/Thesis_PhishingDetection/URL_Extract_feature.ipynb#ch0000083?line=0'>1</a>\u001b[0m \u001b[39mdef\u001b[39;00m \u001b[39mqty_redirects\u001b[39m(url):\n\u001b[1;32m      <a href='vscode-notebook-cell:/Users/jordan/Documents/PhishingDetection/Thesis_PhishingDetection/URL_Extract_feature.ipynb#ch0000083?line=1'>2</a>\u001b[0m     \u001b[39mtry\u001b[39;00m:\n\u001b[0;32m----> <a href='vscode-notebook-cell:/Users/jordan/Documents/PhishingDetection/Thesis_PhishingDetection/URL_Extract_feature.ipynb#ch0000083?line=2'>3</a>\u001b[0m         response \u001b[39m=\u001b[39m requests\u001b[39m.\u001b[39;49mget(url, allow_redirects \u001b[39m=\u001b[39;49m \u001b[39mTrue\u001b[39;49;00m)\n\u001b[1;32m      <a href='vscode-notebook-cell:/Users/jordan/Documents/PhishingDetection/Thesis_PhishingDetection/URL_Extract_feature.ipynb#ch0000083?line=3'>4</a>\u001b[0m         \u001b[39m# print(response.history)\u001b[39;00m\n\u001b[1;32m      <a href='vscode-notebook-cell:/Users/jordan/Documents/PhishingDetection/Thesis_PhishingDetection/URL_Extract_feature.ipynb#ch0000083?line=4'>5</a>\u001b[0m         \u001b[39mreturn\u001b[39;00m \u001b[39msum\u001b[39m(\u001b[39m1\u001b[39m \u001b[39mfor\u001b[39;00m _ \u001b[39min\u001b[39;00m response\u001b[39m.\u001b[39mhistory)\n",
      "File \u001b[0;32m~/miniforge3/envs/tfm1/lib/python3.9/site-packages/requests/api.py:75\u001b[0m, in \u001b[0;36mget\u001b[0;34m(url, params, **kwargs)\u001b[0m\n\u001b[1;32m     64\u001b[0m \u001b[39mdef\u001b[39;00m \u001b[39mget\u001b[39m(url, params\u001b[39m=\u001b[39m\u001b[39mNone\u001b[39;00m, \u001b[39m*\u001b[39m\u001b[39m*\u001b[39mkwargs):\n\u001b[1;32m     65\u001b[0m     \u001b[39mr\u001b[39m\u001b[39m\"\"\"Sends a GET request.\u001b[39;00m\n\u001b[1;32m     66\u001b[0m \n\u001b[1;32m     67\u001b[0m \u001b[39m    :param url: URL for the new :class:`Request` object.\u001b[39;00m\n\u001b[0;32m   (...)\u001b[0m\n\u001b[1;32m     72\u001b[0m \u001b[39m    :rtype: requests.Response\u001b[39;00m\n\u001b[1;32m     73\u001b[0m \u001b[39m    \"\"\"\u001b[39;00m\n\u001b[0;32m---> 75\u001b[0m     \u001b[39mreturn\u001b[39;00m request(\u001b[39m'\u001b[39;49m\u001b[39mget\u001b[39;49m\u001b[39m'\u001b[39;49m, url, params\u001b[39m=\u001b[39;49mparams, \u001b[39m*\u001b[39;49m\u001b[39m*\u001b[39;49mkwargs)\n",
      "File \u001b[0;32m~/miniforge3/envs/tfm1/lib/python3.9/site-packages/requests/api.py:61\u001b[0m, in \u001b[0;36mrequest\u001b[0;34m(method, url, **kwargs)\u001b[0m\n\u001b[1;32m     57\u001b[0m \u001b[39m# By using the 'with' statement we are sure the session is closed, thus we\u001b[39;00m\n\u001b[1;32m     58\u001b[0m \u001b[39m# avoid leaving sockets open which can trigger a ResourceWarning in some\u001b[39;00m\n\u001b[1;32m     59\u001b[0m \u001b[39m# cases, and look like a memory leak in others.\u001b[39;00m\n\u001b[1;32m     60\u001b[0m \u001b[39mwith\u001b[39;00m sessions\u001b[39m.\u001b[39mSession() \u001b[39mas\u001b[39;00m session:\n\u001b[0;32m---> 61\u001b[0m     \u001b[39mreturn\u001b[39;00m session\u001b[39m.\u001b[39;49mrequest(method\u001b[39m=\u001b[39;49mmethod, url\u001b[39m=\u001b[39;49murl, \u001b[39m*\u001b[39;49m\u001b[39m*\u001b[39;49mkwargs)\n",
      "File \u001b[0;32m~/miniforge3/envs/tfm1/lib/python3.9/site-packages/requests/sessions.py:529\u001b[0m, in \u001b[0;36mSession.request\u001b[0;34m(self, method, url, params, data, headers, cookies, files, auth, timeout, allow_redirects, proxies, hooks, stream, verify, cert, json)\u001b[0m\n\u001b[1;32m    524\u001b[0m send_kwargs \u001b[39m=\u001b[39m {\n\u001b[1;32m    525\u001b[0m     \u001b[39m'\u001b[39m\u001b[39mtimeout\u001b[39m\u001b[39m'\u001b[39m: timeout,\n\u001b[1;32m    526\u001b[0m     \u001b[39m'\u001b[39m\u001b[39mallow_redirects\u001b[39m\u001b[39m'\u001b[39m: allow_redirects,\n\u001b[1;32m    527\u001b[0m }\n\u001b[1;32m    528\u001b[0m send_kwargs\u001b[39m.\u001b[39mupdate(settings)\n\u001b[0;32m--> 529\u001b[0m resp \u001b[39m=\u001b[39m \u001b[39mself\u001b[39;49m\u001b[39m.\u001b[39;49msend(prep, \u001b[39m*\u001b[39;49m\u001b[39m*\u001b[39;49msend_kwargs)\n\u001b[1;32m    531\u001b[0m \u001b[39mreturn\u001b[39;00m resp\n",
      "File \u001b[0;32m~/miniforge3/envs/tfm1/lib/python3.9/site-packages/requests/sessions.py:645\u001b[0m, in \u001b[0;36mSession.send\u001b[0;34m(self, request, **kwargs)\u001b[0m\n\u001b[1;32m    642\u001b[0m start \u001b[39m=\u001b[39m preferred_clock()\n\u001b[1;32m    644\u001b[0m \u001b[39m# Send the request\u001b[39;00m\n\u001b[0;32m--> 645\u001b[0m r \u001b[39m=\u001b[39m adapter\u001b[39m.\u001b[39;49msend(request, \u001b[39m*\u001b[39;49m\u001b[39m*\u001b[39;49mkwargs)\n\u001b[1;32m    647\u001b[0m \u001b[39m# Total elapsed time of the request (approximately)\u001b[39;00m\n\u001b[1;32m    648\u001b[0m elapsed \u001b[39m=\u001b[39m preferred_clock() \u001b[39m-\u001b[39m start\n",
      "File \u001b[0;32m~/miniforge3/envs/tfm1/lib/python3.9/site-packages/requests/adapters.py:440\u001b[0m, in \u001b[0;36mHTTPAdapter.send\u001b[0;34m(self, request, stream, timeout, verify, cert, proxies)\u001b[0m\n\u001b[1;32m    438\u001b[0m \u001b[39mtry\u001b[39;00m:\n\u001b[1;32m    439\u001b[0m     \u001b[39mif\u001b[39;00m \u001b[39mnot\u001b[39;00m chunked:\n\u001b[0;32m--> 440\u001b[0m         resp \u001b[39m=\u001b[39m conn\u001b[39m.\u001b[39;49murlopen(\n\u001b[1;32m    441\u001b[0m             method\u001b[39m=\u001b[39;49mrequest\u001b[39m.\u001b[39;49mmethod,\n\u001b[1;32m    442\u001b[0m             url\u001b[39m=\u001b[39;49murl,\n\u001b[1;32m    443\u001b[0m             body\u001b[39m=\u001b[39;49mrequest\u001b[39m.\u001b[39;49mbody,\n\u001b[1;32m    444\u001b[0m             headers\u001b[39m=\u001b[39;49mrequest\u001b[39m.\u001b[39;49mheaders,\n\u001b[1;32m    445\u001b[0m             redirect\u001b[39m=\u001b[39;49m\u001b[39mFalse\u001b[39;49;00m,\n\u001b[1;32m    446\u001b[0m             assert_same_host\u001b[39m=\u001b[39;49m\u001b[39mFalse\u001b[39;49;00m,\n\u001b[1;32m    447\u001b[0m             preload_content\u001b[39m=\u001b[39;49m\u001b[39mFalse\u001b[39;49;00m,\n\u001b[1;32m    448\u001b[0m             decode_content\u001b[39m=\u001b[39;49m\u001b[39mFalse\u001b[39;49;00m,\n\u001b[1;32m    449\u001b[0m             retries\u001b[39m=\u001b[39;49m\u001b[39mself\u001b[39;49m\u001b[39m.\u001b[39;49mmax_retries,\n\u001b[1;32m    450\u001b[0m             timeout\u001b[39m=\u001b[39;49mtimeout\n\u001b[1;32m    451\u001b[0m         )\n\u001b[1;32m    453\u001b[0m     \u001b[39m# Send the request.\u001b[39;00m\n\u001b[1;32m    454\u001b[0m     \u001b[39melse\u001b[39;00m:\n\u001b[1;32m    455\u001b[0m         \u001b[39mif\u001b[39;00m \u001b[39mhasattr\u001b[39m(conn, \u001b[39m'\u001b[39m\u001b[39mproxy_pool\u001b[39m\u001b[39m'\u001b[39m):\n",
      "File \u001b[0;32m~/miniforge3/envs/tfm1/lib/python3.9/site-packages/urllib3/connectionpool.py:703\u001b[0m, in \u001b[0;36mHTTPConnectionPool.urlopen\u001b[0;34m(self, method, url, body, headers, retries, redirect, assert_same_host, timeout, pool_timeout, release_conn, chunked, body_pos, **response_kw)\u001b[0m\n\u001b[1;32m    700\u001b[0m     \u001b[39mself\u001b[39m\u001b[39m.\u001b[39m_prepare_proxy(conn)\n\u001b[1;32m    702\u001b[0m \u001b[39m# Make the request on the httplib connection object.\u001b[39;00m\n\u001b[0;32m--> 703\u001b[0m httplib_response \u001b[39m=\u001b[39m \u001b[39mself\u001b[39;49m\u001b[39m.\u001b[39;49m_make_request(\n\u001b[1;32m    704\u001b[0m     conn,\n\u001b[1;32m    705\u001b[0m     method,\n\u001b[1;32m    706\u001b[0m     url,\n\u001b[1;32m    707\u001b[0m     timeout\u001b[39m=\u001b[39;49mtimeout_obj,\n\u001b[1;32m    708\u001b[0m     body\u001b[39m=\u001b[39;49mbody,\n\u001b[1;32m    709\u001b[0m     headers\u001b[39m=\u001b[39;49mheaders,\n\u001b[1;32m    710\u001b[0m     chunked\u001b[39m=\u001b[39;49mchunked,\n\u001b[1;32m    711\u001b[0m )\n\u001b[1;32m    713\u001b[0m \u001b[39m# If we're going to release the connection in ``finally:``, then\u001b[39;00m\n\u001b[1;32m    714\u001b[0m \u001b[39m# the response doesn't need to know about the connection. Otherwise\u001b[39;00m\n\u001b[1;32m    715\u001b[0m \u001b[39m# it will also try to release it and we'll have a double-release\u001b[39;00m\n\u001b[1;32m    716\u001b[0m \u001b[39m# mess.\u001b[39;00m\n\u001b[1;32m    717\u001b[0m response_conn \u001b[39m=\u001b[39m conn \u001b[39mif\u001b[39;00m \u001b[39mnot\u001b[39;00m release_conn \u001b[39melse\u001b[39;00m \u001b[39mNone\u001b[39;00m\n",
      "File \u001b[0;32m~/miniforge3/envs/tfm1/lib/python3.9/site-packages/urllib3/connectionpool.py:449\u001b[0m, in \u001b[0;36mHTTPConnectionPool._make_request\u001b[0;34m(self, conn, method, url, timeout, chunked, **httplib_request_kw)\u001b[0m\n\u001b[1;32m    444\u001b[0m             httplib_response \u001b[39m=\u001b[39m conn\u001b[39m.\u001b[39mgetresponse()\n\u001b[1;32m    445\u001b[0m         \u001b[39mexcept\u001b[39;00m \u001b[39mBaseException\u001b[39;00m \u001b[39mas\u001b[39;00m e:\n\u001b[1;32m    446\u001b[0m             \u001b[39m# Remove the TypeError from the exception chain in\u001b[39;00m\n\u001b[1;32m    447\u001b[0m             \u001b[39m# Python 3 (including for exceptions like SystemExit).\u001b[39;00m\n\u001b[1;32m    448\u001b[0m             \u001b[39m# Otherwise it looks like a bug in the code.\u001b[39;00m\n\u001b[0;32m--> 449\u001b[0m             six\u001b[39m.\u001b[39;49mraise_from(e, \u001b[39mNone\u001b[39;49;00m)\n\u001b[1;32m    450\u001b[0m \u001b[39mexcept\u001b[39;00m (SocketTimeout, BaseSSLError, SocketError) \u001b[39mas\u001b[39;00m e:\n\u001b[1;32m    451\u001b[0m     \u001b[39mself\u001b[39m\u001b[39m.\u001b[39m_raise_timeout(err\u001b[39m=\u001b[39me, url\u001b[39m=\u001b[39murl, timeout_value\u001b[39m=\u001b[39mread_timeout)\n",
      "File \u001b[0;32m<string>:3\u001b[0m, in \u001b[0;36mraise_from\u001b[0;34m(value, from_value)\u001b[0m\n",
      "File \u001b[0;32m~/miniforge3/envs/tfm1/lib/python3.9/site-packages/urllib3/connectionpool.py:444\u001b[0m, in \u001b[0;36mHTTPConnectionPool._make_request\u001b[0;34m(self, conn, method, url, timeout, chunked, **httplib_request_kw)\u001b[0m\n\u001b[1;32m    441\u001b[0m \u001b[39mexcept\u001b[39;00m \u001b[39mTypeError\u001b[39;00m:\n\u001b[1;32m    442\u001b[0m     \u001b[39m# Python 3\u001b[39;00m\n\u001b[1;32m    443\u001b[0m     \u001b[39mtry\u001b[39;00m:\n\u001b[0;32m--> 444\u001b[0m         httplib_response \u001b[39m=\u001b[39m conn\u001b[39m.\u001b[39;49mgetresponse()\n\u001b[1;32m    445\u001b[0m     \u001b[39mexcept\u001b[39;00m \u001b[39mBaseException\u001b[39;00m \u001b[39mas\u001b[39;00m e:\n\u001b[1;32m    446\u001b[0m         \u001b[39m# Remove the TypeError from the exception chain in\u001b[39;00m\n\u001b[1;32m    447\u001b[0m         \u001b[39m# Python 3 (including for exceptions like SystemExit).\u001b[39;00m\n\u001b[1;32m    448\u001b[0m         \u001b[39m# Otherwise it looks like a bug in the code.\u001b[39;00m\n\u001b[1;32m    449\u001b[0m         six\u001b[39m.\u001b[39mraise_from(e, \u001b[39mNone\u001b[39;00m)\n",
      "File \u001b[0;32m~/miniforge3/envs/tfm1/lib/python3.9/http/client.py:1345\u001b[0m, in \u001b[0;36mHTTPConnection.getresponse\u001b[0;34m(self)\u001b[0m\n\u001b[1;32m   1343\u001b[0m \u001b[39mtry\u001b[39;00m:\n\u001b[1;32m   1344\u001b[0m     \u001b[39mtry\u001b[39;00m:\n\u001b[0;32m-> 1345\u001b[0m         response\u001b[39m.\u001b[39;49mbegin()\n\u001b[1;32m   1346\u001b[0m     \u001b[39mexcept\u001b[39;00m \u001b[39mConnectionError\u001b[39;00m:\n\u001b[1;32m   1347\u001b[0m         \u001b[39mself\u001b[39m\u001b[39m.\u001b[39mclose()\n",
      "File \u001b[0;32m~/miniforge3/envs/tfm1/lib/python3.9/http/client.py:307\u001b[0m, in \u001b[0;36mHTTPResponse.begin\u001b[0;34m(self)\u001b[0m\n\u001b[1;32m    305\u001b[0m \u001b[39m# read until we get a non-100 response\u001b[39;00m\n\u001b[1;32m    306\u001b[0m \u001b[39mwhile\u001b[39;00m \u001b[39mTrue\u001b[39;00m:\n\u001b[0;32m--> 307\u001b[0m     version, status, reason \u001b[39m=\u001b[39m \u001b[39mself\u001b[39;49m\u001b[39m.\u001b[39;49m_read_status()\n\u001b[1;32m    308\u001b[0m     \u001b[39mif\u001b[39;00m status \u001b[39m!=\u001b[39m CONTINUE:\n\u001b[1;32m    309\u001b[0m         \u001b[39mbreak\u001b[39;00m\n",
      "File \u001b[0;32m~/miniforge3/envs/tfm1/lib/python3.9/http/client.py:268\u001b[0m, in \u001b[0;36mHTTPResponse._read_status\u001b[0;34m(self)\u001b[0m\n\u001b[1;32m    267\u001b[0m \u001b[39mdef\u001b[39;00m \u001b[39m_read_status\u001b[39m(\u001b[39mself\u001b[39m):\n\u001b[0;32m--> 268\u001b[0m     line \u001b[39m=\u001b[39m \u001b[39mstr\u001b[39m(\u001b[39mself\u001b[39;49m\u001b[39m.\u001b[39;49mfp\u001b[39m.\u001b[39;49mreadline(_MAXLINE \u001b[39m+\u001b[39;49m \u001b[39m1\u001b[39;49m), \u001b[39m\"\u001b[39m\u001b[39miso-8859-1\u001b[39m\u001b[39m\"\u001b[39m)\n\u001b[1;32m    269\u001b[0m     \u001b[39mif\u001b[39;00m \u001b[39mlen\u001b[39m(line) \u001b[39m>\u001b[39m _MAXLINE:\n\u001b[1;32m    270\u001b[0m         \u001b[39mraise\u001b[39;00m LineTooLong(\u001b[39m\"\u001b[39m\u001b[39mstatus line\u001b[39m\u001b[39m\"\u001b[39m)\n",
      "File \u001b[0;32m~/miniforge3/envs/tfm1/lib/python3.9/socket.py:704\u001b[0m, in \u001b[0;36mSocketIO.readinto\u001b[0;34m(self, b)\u001b[0m\n\u001b[1;32m    702\u001b[0m \u001b[39mwhile\u001b[39;00m \u001b[39mTrue\u001b[39;00m:\n\u001b[1;32m    703\u001b[0m     \u001b[39mtry\u001b[39;00m:\n\u001b[0;32m--> 704\u001b[0m         \u001b[39mreturn\u001b[39;00m \u001b[39mself\u001b[39;49m\u001b[39m.\u001b[39;49m_sock\u001b[39m.\u001b[39;49mrecv_into(b)\n\u001b[1;32m    705\u001b[0m     \u001b[39mexcept\u001b[39;00m timeout:\n\u001b[1;32m    706\u001b[0m         \u001b[39mself\u001b[39m\u001b[39m.\u001b[39m_timeout_occurred \u001b[39m=\u001b[39m \u001b[39mTrue\u001b[39;00m\n",
      "File \u001b[0;32m~/miniforge3/envs/tfm1/lib/python3.9/ssl.py:1241\u001b[0m, in \u001b[0;36mSSLSocket.recv_into\u001b[0;34m(self, buffer, nbytes, flags)\u001b[0m\n\u001b[1;32m   1237\u001b[0m     \u001b[39mif\u001b[39;00m flags \u001b[39m!=\u001b[39m \u001b[39m0\u001b[39m:\n\u001b[1;32m   1238\u001b[0m         \u001b[39mraise\u001b[39;00m \u001b[39mValueError\u001b[39;00m(\n\u001b[1;32m   1239\u001b[0m           \u001b[39m\"\u001b[39m\u001b[39mnon-zero flags not allowed in calls to recv_into() on \u001b[39m\u001b[39m%s\u001b[39;00m\u001b[39m\"\u001b[39m \u001b[39m%\u001b[39m\n\u001b[1;32m   1240\u001b[0m           \u001b[39mself\u001b[39m\u001b[39m.\u001b[39m\u001b[39m__class__\u001b[39m)\n\u001b[0;32m-> 1241\u001b[0m     \u001b[39mreturn\u001b[39;00m \u001b[39mself\u001b[39;49m\u001b[39m.\u001b[39;49mread(nbytes, buffer)\n\u001b[1;32m   1242\u001b[0m \u001b[39melse\u001b[39;00m:\n\u001b[1;32m   1243\u001b[0m     \u001b[39mreturn\u001b[39;00m \u001b[39msuper\u001b[39m()\u001b[39m.\u001b[39mrecv_into(buffer, nbytes, flags)\n",
      "File \u001b[0;32m~/miniforge3/envs/tfm1/lib/python3.9/ssl.py:1099\u001b[0m, in \u001b[0;36mSSLSocket.read\u001b[0;34m(self, len, buffer)\u001b[0m\n\u001b[1;32m   1097\u001b[0m \u001b[39mtry\u001b[39;00m:\n\u001b[1;32m   1098\u001b[0m     \u001b[39mif\u001b[39;00m buffer \u001b[39mis\u001b[39;00m \u001b[39mnot\u001b[39;00m \u001b[39mNone\u001b[39;00m:\n\u001b[0;32m-> 1099\u001b[0m         \u001b[39mreturn\u001b[39;00m \u001b[39mself\u001b[39;49m\u001b[39m.\u001b[39;49m_sslobj\u001b[39m.\u001b[39;49mread(\u001b[39mlen\u001b[39;49m, buffer)\n\u001b[1;32m   1100\u001b[0m     \u001b[39melse\u001b[39;00m:\n\u001b[1;32m   1101\u001b[0m         \u001b[39mreturn\u001b[39;00m \u001b[39mself\u001b[39m\u001b[39m.\u001b[39m_sslobj\u001b[39m.\u001b[39mread(\u001b[39mlen\u001b[39m)\n",
      "\u001b[0;31mKeyboardInterrupt\u001b[0m: "
     ]
    }
   ],
   "source": [
    "\n",
    "\n",
    "for i in range(30):\n",
    "  url = benign_kaggle_1[i+70]\n",
    "  benign_features.append(featureExtract(url))\n",
    "\n",
    "\n",
    "# for i in range(1):\n",
    "#   url = benign_kaggle_1[i+29]\n",
    "#   url_url.append(featureExtract(url))\n",
    "\n",
    "\n",
    "# for i in range(10):\n",
    "#   url = benign_kaggle_1[i+5]\n",
    "#   url_url.append(url)\n"
   ]
  },
  {
   "cell_type": "code",
   "execution_count": 260,
   "metadata": {},
   "outputs": [
    {
     "data": {
      "text/html": [
       "<div>\n",
       "<style scoped>\n",
       "    .dataframe tbody tr th:only-of-type {\n",
       "        vertical-align: middle;\n",
       "    }\n",
       "\n",
       "    .dataframe tbody tr th {\n",
       "        vertical-align: top;\n",
       "    }\n",
       "\n",
       "    .dataframe thead th {\n",
       "        text-align: right;\n",
       "    }\n",
       "</style>\n",
       "<table border=\"1\" class=\"dataframe\">\n",
       "  <thead>\n",
       "    <tr style=\"text-align: right;\">\n",
       "      <th></th>\n",
       "      <th>0</th>\n",
       "      <th>1</th>\n",
       "      <th>2</th>\n",
       "      <th>3</th>\n",
       "      <th>4</th>\n",
       "      <th>5</th>\n",
       "      <th>6</th>\n",
       "      <th>7</th>\n",
       "      <th>8</th>\n",
       "      <th>9</th>\n",
       "      <th>...</th>\n",
       "      <th>102</th>\n",
       "      <th>103</th>\n",
       "      <th>104</th>\n",
       "      <th>105</th>\n",
       "      <th>106</th>\n",
       "      <th>107</th>\n",
       "      <th>108</th>\n",
       "      <th>109</th>\n",
       "      <th>110</th>\n",
       "      <th>111</th>\n",
       "    </tr>\n",
       "  </thead>\n",
       "  <tbody>\n",
       "    <tr>\n",
       "      <th>0</th>\n",
       "      <td>2</td>\n",
       "      <td>0</td>\n",
       "      <td>0</td>\n",
       "      <td>2</td>\n",
       "      <td>0</td>\n",
       "      <td>0</td>\n",
       "      <td>0</td>\n",
       "      <td>0</td>\n",
       "      <td>0</td>\n",
       "      <td>0</td>\n",
       "      <td>...</td>\n",
       "      <td>4</td>\n",
       "      <td>3</td>\n",
       "      <td>0</td>\n",
       "      <td>0</td>\n",
       "      <td>1</td>\n",
       "      <td>1</td>\n",
       "      <td>1</td>\n",
       "      <td>1</td>\n",
       "      <td>0</td>\n",
       "      <td>0</td>\n",
       "    </tr>\n",
       "  </tbody>\n",
       "</table>\n",
       "<p>1 rows × 112 columns</p>\n",
       "</div>"
      ],
      "text/plain": [
       "   0    1    2    3    4    5    6    7    8    9    ...  102  103  104  105  \\\n",
       "0    2    0    0    2    0    0    0    0    0    0  ...    4    3    0    0   \n",
       "\n",
       "   106  107  108  109  110  111  \n",
       "0    1    1    1    1    0    0  \n",
       "\n",
       "[1 rows x 112 columns]"
      ]
     },
     "execution_count": 260,
     "metadata": {},
     "output_type": "execute_result"
    }
   ],
   "source": [
    "url_url = pd.DataFrame(url_url)\n",
    "url_url.shape\n",
    "url_url.head()"
   ]
  },
  {
   "cell_type": "code",
   "execution_count": 174,
   "metadata": {},
   "outputs": [],
   "source": [
    "feature_names = ['qty_dot_url',\n",
    "                    'qty_hyphen_url',\n",
    "                    'qty_underline_url',\n",
    "                    'qty_slash_url',\n",
    "                    'qty_questionmark_url',\n",
    "                    'qty_equal_url',\n",
    "                    'qty_at_url',\n",
    "                    'qty_and_url',\n",
    "                    'qty_exclamation_url',\n",
    "                    'qty_space_url',\n",
    "                    'qty_tilde_url',\n",
    "                    'qty_comma_url',\n",
    "                    'qty_plus_url',\n",
    "                    'qty_asterisk_url',\n",
    "                    'qty_hashtag_url',\n",
    "                    'qty_dollar_url',\n",
    "                    'qty_percent_url',\n",
    "                    'qty_tld_url',\n",
    "                    'length_url',\n",
    "                    'qty_dot_domain',\n",
    "                    'qty_hyphen_domain',\n",
    "                    'qty_underline_domain',\n",
    "                    'qty_slash_domain',\n",
    "                    'qty_questionmark_domain',\n",
    "                    'qty_equal_domain',\n",
    "                    'qty_at_domain',\n",
    "                    'qty_and_domain',\n",
    "                    'qty_exclamation_domain',\n",
    "                    'qty_space_domain',\n",
    "                    'qty_tilde_domain',\n",
    "                    'qty_comma_domain',\n",
    "                    'qty_plus_domain',\n",
    "                    'qty_asterisk_domain',\n",
    "                    'qty_hashtag_domain',\n",
    "                    'qty_dollar_domain',\n",
    "                    'qty_percent_domain',\n",
    "                    'qty_vowels_domain',\n",
    "                    'domain_length',\n",
    "                    'domain_in_ip',\n",
    "                    'server_client_domain',\n",
    "                    'qty_dot_directory',\n",
    "                    'qty_hyphen_directory',\n",
    "                    'qty_underline_directory',\n",
    "                    'qty_slash_directory',\n",
    "                    'qty_questionmark_directory',\n",
    "                    'qty_equal_directory',\n",
    "                    'qty_at_directory',\n",
    "                    'qty_and_directory',\n",
    "                    'qty_exclamation_directory',\n",
    "                    'qty_space_directory',\n",
    "                    'qty_tilde_directory',\n",
    "                    'qty_comma_directory',\n",
    "                    'qty_plus_directory',\n",
    "                    'qty_asterisk_directory',\n",
    "                    'qty_hashtag_directory',\n",
    "                    'qty_dollar_directory',\n",
    "                    'qty_percent_directory',\n",
    "                    'directory_length',\n",
    "                    'qty_dot_file',\n",
    "                    'qty_hyphen_file',\n",
    "                    'qty_underline_file',\n",
    "                    'qty_slash_file',\n",
    "                    'qty_questionmark_file',\n",
    "                    'qty_equal_file',\n",
    "                    'qty_at_file',\n",
    "                    'qty_and_file',\n",
    "                    'qty_exclamation_file',\n",
    "                    'qty_space_file',\n",
    "                    'qty_tilde_file',\n",
    "                    'qty_comma_file',\n",
    "                    'qty_plus_file',\n",
    "                    'qty_asterisk_file',\n",
    "                    'qty_hashtag_file',\n",
    "                    'qty_dollar_file',\n",
    "                    'qty_percent_file',\n",
    "                    'file_length',\n",
    "                    'qty_dot_params',\n",
    "                    'qty_hyphen_params',\n",
    "                    'qty_underline_params',\n",
    "                    'qty_slash_params',\n",
    "                    'qty_questionmark_params',\n",
    "                    'qty_equal_params',\n",
    "                    'qty_at_params',\n",
    "                    'qty_and_params',\n",
    "                    'qty_exclamation_params',\n",
    "                    'qty_space_params',\n",
    "                    'qty_tilde_params',\n",
    "                    'qty_comma_params',\n",
    "                    'qty_plus_params',\n",
    "                    'qty_asterisk_params',\n",
    "                    'qty_hashtag_params',\n",
    "                    'qty_dollar_params',\n",
    "                    'qty_percent_params',\n",
    "                    'params_length',\n",
    "                    'tld_present_params',\n",
    "                    'qty_params',\n",
    "                    'email_in_url',\n",
    "                    'time_response',\n",
    "                    'domain_spf',\n",
    "                    'asn_ip',\n",
    "                    'time_domain_activation',\n",
    "                    'time_domain_expiration',\n",
    "                    'qty_ip_resolved',\n",
    "                    'qty_nameservers',\n",
    "                    'qty_mx_servers',\n",
    "                    'ttl_hostname',\n",
    "                    'tls_ssl_certificate',\n",
    "                    'qty_redirects',\n",
    "                    'url_google_index',\n",
    "                    'domain_google_index',\n",
    "                    'url_shortened',\n",
    "                    'phishing']\n",
    "\n"
   ]
  },
  {
   "cell_type": "code",
   "execution_count": 343,
   "metadata": {},
   "outputs": [],
   "source": [
    "legitimate = pd.DataFrame(benign_features, columns= feature_names)\n",
    "# legitimate = pd.DataFrame(benign_features)\n",
    "# benign_features\n",
    "# legitimate.head(20)\n",
    "\n",
    "\n",
    "# benign_features.head()"
   ]
  },
  {
   "cell_type": "code",
   "execution_count": 344,
   "metadata": {},
   "outputs": [
    {
     "data": {
      "text/plain": [
       "(70, 112)"
      ]
     },
     "execution_count": 344,
     "metadata": {},
     "output_type": "execute_result"
    }
   ],
   "source": [
    "legitimate.shape"
   ]
  },
  {
   "cell_type": "code",
   "execution_count": 162,
   "metadata": {},
   "outputs": [],
   "source": [
    "# dictionary of lists  \n",
    "    \n",
    "# saving the dataframe \n",
    "legitimate.to_csv('GFG.csv') "
   ]
  },
  {
   "cell_type": "code",
   "execution_count": null,
   "metadata": {},
   "outputs": [],
   "source": []
  },
  {
   "cell_type": "code",
   "execution_count": 407,
   "metadata": {},
   "outputs": [],
   "source": [
    "from requests.packages.urllib3.exceptions import InsecureRequestWarning"
   ]
  },
  {
   "cell_type": "code",
   "execution_count": 408,
   "metadata": {},
   "outputs": [],
   "source": [
    "requests.packages.urllib3.disable_warnings(InsecureRequestWarning)"
   ]
  },
  {
   "cell_type": "code",
   "execution_count": 404,
   "metadata": {},
   "outputs": [],
   "source": [
    "def url_checker(url, index):\n",
    "\tindex = index + 500\n",
    "\ttry:\n",
    "\t\t#Get Url\n",
    "\t\tget = requests.get(url, timeout=5, allow_redirects=3, verify=False)\n",
    "\t\tif get.status_code == 200:\n",
    "\t\t\treturn(f\"{url}: is reachable\")\n",
    "\t\telse:\n",
    "\t\t\tprint(f\"{url, index}: is Not reachable, status_code: {get.status_code}\")\n",
    "\t\t\treturn 0\n",
    "\n",
    "\n",
    "\t# except Exception as e:\n",
    "    #     # print URL with Errs\n",
    "\t# \traise SystemExit(f\"{url}: is Not reachable \\nErr: {e}\") from e\n",
    "\texcept requests.exceptions.ConnectionError:\n",
    "\t\t# brokenlinksflag = 1\n",
    "\t\t# brokenlinks = url[index] + ' ConnectionResetError, ' + brokenlinks\n",
    "\t\t# print(brokenlinks)\n",
    "\t\tprint(f\"{url, index}: is Not reachable\")\n",
    "\t\t# return 0\n",
    "\texcept requests.exceptions.Timeout:\n",
    "  \t\tprint(f\"{url, index}: timeout\")\n",
    "\texcept Exception:\n",
    "  \t\tprint(f\"{url, index}: fuck\")\n",
    "\t"
   ]
  },
  {
   "cell_type": "code",
   "execution_count": 409,
   "metadata": {},
   "outputs": [
    {
     "name": "stdout",
     "output_type": "stream",
     "text": [
      "('https://www.naver.jp', 503): is Not reachable\n",
      "('https://www.webmd.com', 505): is Not reachable, status_code: 403\n",
      "('https://www.appledaily.com', 506): is Not reachable, status_code: 503\n",
      "('https://www.suning.com', 526): timeout\n",
      "('https://www.hdzog.com', 532): is Not reachable\n",
      "('https://www.ria.ru', 540): is Not reachable\n",
      "('https://www.wsj.com', 542): is Not reachable, status_code: 403\n",
      "('https://www.sex.com', 543): is Not reachable\n",
      "('https://www.sahibinden.com', 544): timeout\n",
      "('https://www.blog.jp', 548): is Not reachable, status_code: 404\n",
      "('https://www.vporn.com', 550): is Not reachable\n",
      "('https://www.shaparak.ir', 552): is Not reachable\n",
      "('https://www.upwork.com', 555): is Not reachable, status_code: 403\n",
      "('https://www.jianshu.com', 561): is Not reachable, status_code: 405\n",
      "('https://www.gdax.com', 563): is Not reachable\n",
      "('https://www.primosearch.com', 568): is Not reachable\n",
      "('https://www.shiltirs.com', 569): is Not reachable\n",
      "('https://www.drom.ru', 570): is Not reachable\n",
      "('https://www.wattpad.com', 571): is Not reachable, status_code: 403\n",
      "('https://www.linkshrink.net', 572): is Not reachable, status_code: 503\n",
      "('https://www.tube8.com', 574): is Not reachable\n",
      "('https://www.wiley.com', 577): is Not reachable, status_code: 403\n",
      "('https://www.hm.com', 580): is Not reachable, status_code: 403\n",
      "('https://www.investing.com', 582): is Not reachable, status_code: 403\n",
      "('https://www.yourporn.sexy', 585): is Not reachable\n",
      "('https://www.piet2eix3l.com', 586): is Not reachable\n",
      "('https://www.umblr.com', 598): is Not reachable\n",
      "('https://www.bet365.com', 601): is Not reachable\n",
      "('https://www.inquirer.net', 611): is Not reachable, status_code: 403\n",
      "('https://www.fwbntw.com', 618): is Not reachable\n",
      "('https://www.rarbg.is', 619): is Not reachable\n",
      "('https://www.java.com', 621): timeout\n",
      "('https://www.debate.com.mx', 623): is Not reachable, status_code: 403\n",
      "('https://www.animeflv.net', 625): is Not reachable, status_code: 403\n",
      "('https://www.torrentz2.eu', 627): is Not reachable\n",
      "('https://www.nmisr.com', 628): is Not reachable, status_code: 403\n",
      "('https://www.olx.com.br', 630): is Not reachable, status_code: 403\n",
      "('https://www.adhoc2.net', 634): is Not reachable\n",
      "('https://www.xx1.me', 638): is Not reachable\n",
      "('https://www.reallifecam.com', 642): is Not reachable\n",
      "('https://www.nocookie.net', 643): is Not reachable, status_code: 404\n",
      "('https://www.drive2.ru', 644): is Not reachable, status_code: 402\n",
      "('https://www.cdiscount.com', 648): is Not reachable, status_code: 403\n",
      "('https://www.nextlnk2.com', 650): is Not reachable\n",
      "('https://www.caliente.mx', 652): is Not reachable\n",
      "('https://www.comcast.net', 654): is Not reachable, status_code: 403\n",
      "('https://www.digitalprivacyalert.org', 658): is Not reachable\n",
      "('https://www.expedia.com', 668): is Not reachable, status_code: 403\n",
      "('https://www.givemesport.com', 670): is Not reachable, status_code: 403\n",
      "('https://www.jsmentry.com', 671): is Not reachable\n",
      "('https://www.gogoanime.io', 672): is Not reachable\n",
      "('https://www.gamer.com.tw', 673): is Not reachable, status_code: 503\n",
      "('https://www.epicgames.com', 674): is Not reachable\n",
      "('https://www.intactoffers.club', 678): is Not reachable\n",
      "('https://www.hotels.com', 683): is Not reachable, status_code: 403\n",
      "('https://www.quizlet.com', 685): is Not reachable, status_code: 403\n",
      "('https://www.thehill.com', 686): is Not reachable, status_code: 429\n",
      "('https://www.op.gg', 687): is Not reachable, status_code: 403\n",
      "('https://www.macys.com', 690): is Not reachable, status_code: 302\n",
      "('https://www.kizlarsoruyor.com', 692): is Not reachable, status_code: 403\n",
      "('https://www.yandex.ua', 696): is Not reachable\n",
      "('https://www.hashflare.io', 698): is Not reachable, status_code: 404\n",
      "('https://www.kickstarter.com', 699): is Not reachable, status_code: 403\n",
      "('https://www.knowyourmeme.com', 700): is Not reachable, status_code: 403\n",
      "('https://www.zone-telechargement1.com', 705): is Not reachable\n",
      "('https://www.eyny.com', 708): is Not reachable\n",
      "('https://www.eanswers.com', 713): fuck\n",
      "('https://www.etherscan.io', 715): is Not reachable, status_code: 403\n",
      "('https://www.verizonwireless.com', 716): fuck\n",
      "('https://www.lenovo.com', 717): is Not reachable, status_code: 403\n",
      "('https://www.doorblog.jp', 722): is Not reachable, status_code: 404\n",
      "('https://www.www.gov.uk', 725): is Not reachable\n",
      "('https://www.myfreecams.com', 732): is Not reachable\n",
      "('https://www.infusionsoft.com', 734): is Not reachable, status_code: 403\n",
      "('https://www.hespress.com', 735): is Not reachable, status_code: 403\n",
      "('https://www.offergold.online', 740): is Not reachable\n",
      "('https://www.el-nacional.com', 741): is Not reachable, status_code: 403\n",
      "('https://www.kijiji.ca', 742): timeout\n",
      "('https://www.yenisafak.com', 747): is Not reachable, status_code: 422\n",
      "('https://www.jw.org', 748): timeout\n",
      "('https://www.adexchangecloud.com', 751): is Not reachable, status_code: 403\n",
      "('https://www.0123movies.com', 754): is Not reachable\n",
      "('https://www.artstation.com', 759): is Not reachable, status_code: 403\n",
      "('https://www.autodesk.com', 760): is Not reachable, status_code: 403\n",
      "('https://www.fbsbx.com', 761): is Not reachable, status_code: 404\n",
      "('https://www.hatenablog.com', 765): is Not reachable, status_code: 404\n",
      "('https://www.zara.com', 766): is Not reachable, status_code: 403\n",
      "('https://www.coingecko.com', 768): is Not reachable, status_code: 503\n",
      "('https://www.yaplakal.com', 771): is Not reachable, status_code: 403\n",
      "('https://www.flirt4free.com', 775): is Not reachable\n",
      "('https://www.ecosia.org', 777): is Not reachable, status_code: 503\n",
      "('https://www.eksisozluk.com', 779): is Not reachable, status_code: 525\n",
      "('https://www.cinecalidad.to', 783): is Not reachable\n",
      "('https://www.douban.com', 789): is Not reachable, status_code: 418\n",
      "('https://www.deviantart.net', 793): is Not reachable\n",
      "('https://www.motherless.com', 795): is Not reachable\n",
      "('https://www.mirror.co.uk', 801): is Not reachable, status_code: 403\n",
      "('https://www.ssl-images-amazon.com', 808): is Not reachable\n",
      "('https://www.youjizz.com', 810): is Not reachable\n",
      "('https://www.mobile01.com', 812): is Not reachable, status_code: 403\n",
      "('https://www.goo.gl', 814): is Not reachable, status_code: 404\n",
      "('https://www.realtor.com', 815): is Not reachable, status_code: 403\n",
      "('https://www.videoyoum7.com', 817): timeout\n",
      "('https://www.bhphotovideo.com', 823): is Not reachable, status_code: 503\n",
      "('https://www.putlockers.fm', 828): is Not reachable\n",
      "('https://www.usnews.com', 830): timeout\n",
      "('https://www.banesconline.com', 832): is Not reachable, status_code: 403\n",
      "('https://www.cam4.com', 833): is Not reachable\n",
      "('https://www.elbalad.news', 834): is Not reachable, status_code: 403\n",
      "('https://www.fanfiction.net', 839): is Not reachable, status_code: 403\n",
      "('https://www.prpops.com', 840): is Not reachable\n",
      "('https://www.zaful.com', 845): is Not reachable, status_code: 403\n",
      "('https://www.gstatic.com', 846): is Not reachable, status_code: 404\n",
      "('https://www.mobile.de', 847): is Not reachable, status_code: 403\n",
      "('https://www.mathrubhumi.com', 852): timeout\n",
      "('https://www.yy08037.com', 854): is Not reachable\n",
      "('https://www.costco.com', 855): is Not reachable, status_code: 403\n",
      "('https://www.gotporn.com', 857): is Not reachable\n",
      "('https://www.calcch.com', 863): is Not reachable\n",
      "('https://www.socialblade.com', 865): is Not reachable, status_code: 403\n",
      "('https://www.gazetaexpress.com', 866): is Not reachable, status_code: 403\n",
      "('https://www.segmentfault.com', 867): is Not reachable\n",
      "('https://www.xtube.com', 870): is Not reachable\n",
      "('https://www.namu.wiki', 872): is Not reachable, status_code: 403\n",
      "('https://www.freejobalert.com', 881): is Not reachable, status_code: 503\n",
      "('https://www.latimes.com', 885): is Not reachable, status_code: 403\n",
      "('https://www.jiameng.com', 892): is Not reachable\n",
      "('https://www.protect-your-privacy.net', 895): is Not reachable\n",
      "('https://www.americanas.com.br', 896): is Not reachable, status_code: 403\n",
      "('https://www.yy08047.com', 902): is Not reachable\n",
      "('https://www.agoda.com', 907): is Not reachable, status_code: 429\n",
      "('https://www.delta.com', 916): fuck\n",
      "('https://www.td.com', 919): is Not reachable, status_code: 403\n",
      "('https://www.chaoshi.tmall.com', 921): is Not reachable\n",
      "('https://www.selectedvideos.club', 922): is Not reachable\n",
      "('https://www.cimaclub.com', 923): is Not reachable, status_code: 403\n",
      "('https://www.kraken.com', 925): is Not reachable, status_code: 503\n",
      "('https://www.blibli.com', 926): timeout\n",
      "('https://www.lowes.com', 927): timeout\n",
      "('https://www.secureserver.net', 928): is Not reachable, status_code: 404\n",
      "('https://www.ticketmaster.com', 929): is Not reachable, status_code: 403\n",
      "('https://www.mileroticos.com', 934): is Not reachable\n",
      "('https://www.sputniknews.com', 936): is Not reachable\n",
      "('https://www.myntra.com', 937): timeout\n",
      "('https://www.reimageplus.com', 939): is Not reachable\n",
      "('https://www.mercari.com', 949): is Not reachable, status_code: 403\n",
      "('https://www.prnt.sc', 976): is Not reachable, status_code: 520\n",
      "('https://www.food.tmall.com', 977): is Not reachable, status_code: 502\n",
      "('https://www.shink.me', 978): is Not reachable\n",
      "('https://www.pornpics.com', 981): is Not reachable\n",
      "('https://www.streamable.com', 985): is Not reachable\n",
      "('https://www.plex.tv', 986): is Not reachable, status_code: 403\n",
      "('https://www.vidzi.tv', 992): is Not reachable\n",
      "('https://www.makemytrip.com', 994): timeout\n",
      "('https://www.yespornplease.com', 999): is Not reachable\n"
     ]
    }
   ],
   "source": [
    "for i in range(500):\n",
    "  url = benign_kaggle_1[i+500]\n",
    "#   benign_features.append(featureExtract(url))\n",
    "  url_checker(url, i)"
   ]
  },
  {
   "cell_type": "code",
   "execution_count": null,
   "metadata": {},
   "outputs": [],
   "source": []
  },
  {
   "cell_type": "code",
   "execution_count": null,
   "metadata": {},
   "outputs": [],
   "source": []
  },
  {
   "cell_type": "code",
   "execution_count": null,
   "metadata": {},
   "outputs": [],
   "source": []
  },
  {
   "cell_type": "code",
   "execution_count": null,
   "metadata": {},
   "outputs": [],
   "source": [
    "def whoisDomain(url):\n",
    "    try:\n",
    "        domain = whois.whois(urlparse(url).netloc)\n",
    "\n",
    "    except Exception:\n",
    "        return 0\n",
    "\n",
    "    if domain is None:\n",
    "        return 0\n",
    "\n",
    "    if isinstance(domain,list):\n",
    "        try:\n",
    "            domain = domain[0]\n",
    "        except Exception:\n",
    "            return 0\n",
    "    return domain"
   ]
  },
  {
   "cell_type": "code",
   "execution_count": null,
   "metadata": {},
   "outputs": [],
   "source": [
    "def city(url):\n",
    "    return domain.address"
   ]
  },
  {
   "cell_type": "code",
   "execution_count": null,
   "metadata": {},
   "outputs": [],
   "source": [
    "def WhoisExp(url):\n",
    "    try:\n",
    "        expiration_date = whois.whois(urlparse(url).netloc).expiration_date\n",
    "    except Exception:\n",
    "        return 0\n",
    "\n",
    "    try:\n",
    "        return expiration_date.strftime(\"%m/%d/%Y, %H:%M:%S\")\n",
    "    except Exception:\n",
    "        return 0\n",
    "    "
   ]
  },
  {
   "cell_type": "code",
   "execution_count": null,
   "metadata": {},
   "outputs": [],
   "source": [
    "url = \"https://stackoverflow.com/questions/72910205/there-is-a-way-to-publish-and-consume-message-from-django-to-react\"\n",
    "exp(url)"
   ]
  },
  {
   "cell_type": "code",
   "execution_count": null,
   "metadata": {},
   "outputs": [],
   "source": [
    "url = \"https://stackoverflow.com/questions/72910205/there-is-a-way-to-publish-and-consume-message-from-django-to-react\"\n",
    "whoisDomain(url)\n"
   ]
  },
  {
   "cell_type": "code",
   "execution_count": null,
   "metadata": {},
   "outputs": [],
   "source": [
    "del dict_whois['creation_date']\n"
   ]
  },
  {
   "cell_type": "code",
   "execution_count": null,
   "metadata": {},
   "outputs": [],
   "source": [
    "dict_whois.status[0]"
   ]
  },
  {
   "cell_type": "code",
   "execution_count": null,
   "metadata": {},
   "outputs": [],
   "source": [
    "import json "
   ]
  },
  {
   "cell_type": "code",
   "execution_count": null,
   "metadata": {},
   "outputs": [],
   "source": [
    "json_object = json.dumps(dict_whois, indent = 10) \n",
    "print(json_object)"
   ]
  },
  {
   "cell_type": "code",
   "execution_count": null,
   "metadata": {},
   "outputs": [],
   "source": []
  },
  {
   "cell_type": "markdown",
   "metadata": {},
   "source": [
    "testing for features"
   ]
  },
  {
   "cell_type": "code",
   "execution_count": null,
   "metadata": {},
   "outputs": [],
   "source": [
    "# import sys\n",
    "# import time\n",
    "# from PyQt4.QtCore import *\n",
    "# from PyQt4.QtGui import *\n",
    "# from PyQt4.QtWebKit import *\n",
    "\n",
    "# class Screenshot(QWebView):\n",
    "#     def __init__(self):\n",
    "#         self.app = QApplication(sys.argv)\n",
    "#         QWebView.__init__(self)\n",
    "#         self._loaded = False\n",
    "#         self.loadFinished.connect(self._loadFinished)\n",
    "\n",
    "#     def capture(self, url, output_file):\n",
    "#         self.load(QUrl(url))\n",
    "#         self.wait_load()\n",
    "#         # set to webpage size\n",
    "#         frame = self.page().mainFrame()\n",
    "#         self.page().setViewportSize(frame.contentsSize())\n",
    "#         # render image\n",
    "#         image = QImage(self.page().viewportSize(), QImage.Format_ARGB32)\n",
    "#         painter = QPainter(image)\n",
    "#         frame.render(painter)\n",
    "#         painter.end()\n",
    "#         print ('saving', output_file)\n",
    "#         image.save(output_file)\n",
    "\n",
    "#     def wait_load(self, delay=0):\n",
    "#         # process app events until page loaded\n",
    "#         while not self._loaded:\n",
    "#             self.app.processEvents()\n",
    "#             time.sleep(delay)\n",
    "#         self._loaded = False\n",
    "\n",
    "#     def _loadFinished(self, result):\n",
    "#         self._loaded = True\n",
    "\n",
    "# s = Screenshot()\n",
    "# s.capture('http://webscraping.com', 'website.png')\n",
    "# s.capture('http://webscraping.com/blog', 'blog.png')"
   ]
  },
  {
   "cell_type": "code",
   "execution_count": null,
   "metadata": {},
   "outputs": [],
   "source": []
  },
  {
   "cell_type": "code",
   "execution_count": null,
   "metadata": {},
   "outputs": [],
   "source": [
    "\n",
    "from selenium import webdriver\n",
    "\n",
    "image_name = f\"screenshot_{str(datetime.now())}\"\n",
    "options = webdriver.ChromeOptions()\n",
    "options.add_argument('--ignore-certificate-errors')\n",
    "options.add_argument(\"--test-type\")\n",
    "# options.add_argument(\"--headless\")\n",
    "# options.binary_location = \"/usr/bin/chromium\"\n",
    "driver = webdriver.Chrome(options=options)\n",
    "\n",
    "driver.get('http://www.gogle.com')\n",
    "driver.save_screenshot(f\"screenshot/{image_name}.png\")\n",
    "\n",
    "driver.close()\n",
    "\n"
   ]
  },
  {
   "cell_type": "code",
   "execution_count": null,
   "metadata": {},
   "outputs": [],
   "source": [
    "os.path.basename(\"screenshot/screenshot_2022-07-02 21:52:19.901500.png\")"
   ]
  },
  {
   "cell_type": "code",
   "execution_count": null,
   "metadata": {},
   "outputs": [],
   "source": []
  },
  {
   "cell_type": "code",
   "execution_count": 70,
   "metadata": {},
   "outputs": [],
   "source": [
    "def report_url(url, email):\n",
    "    r = requests.post('https://report.netcraft.com/api/v2/report/urls', json={\n",
    "        \"email\": email,\n",
    "        \"urls\": [url],\n",
    "    })\n",
    "    message = r.json()\n",
    "    return (message)\n",
    "\n"
   ]
  },
  {
   "cell_type": "code",
   "execution_count": 71,
   "metadata": {},
   "outputs": [
    {
     "data": {
      "text/plain": [
       "{'details': [{'input': 'URL : http://www.vissvvesie.vvssceoi.jjtgpt.top/ic6oXx7P3s/page1.php',\n",
       "   'message': 'Does not match url format',\n",
       "   'path': '/body/urls/0'}],\n",
       " 'error': 'Bad Request',\n",
       " 'status': 400}"
      ]
     },
     "execution_count": 71,
     "metadata": {},
     "output_type": "execute_result"
    }
   ],
   "source": [
    "report_url(\"URL : http://www.vissvvesie.vvssceoi.jjtgpt.top/ic6oXx7P3s/page1.php\", \"asdaasd@gmail.com\")"
   ]
  },
  {
   "cell_type": "code",
   "execution_count": null,
   "metadata": {},
   "outputs": [],
   "source": [
    "url = \"https://megaparseonalse.com/female-escorts/11887\"\n",
    "email = \"wiehong@gmail.com\"\n",
    "report_status4 = report_url(url, email)\n",
    "report_status4"
   ]
  },
  {
   "cell_type": "code",
   "execution_count": null,
   "metadata": {},
   "outputs": [],
   "source": [
    "type(report_status4)"
   ]
  },
  {
   "cell_type": "code",
   "execution_count": null,
   "metadata": {},
   "outputs": [],
   "source": [
    "if re.search(\"Successfully\", report_status4['message']):\n",
    "    print(1)\n",
    "else:\n",
    "  print(0)\n"
   ]
  },
  {
   "cell_type": "code",
   "execution_count": null,
   "metadata": {},
   "outputs": [],
   "source": [
    "report_status2"
   ]
  },
  {
   "cell_type": "code",
   "execution_count": null,
   "metadata": {},
   "outputs": [],
   "source": [
    "report_status"
   ]
  },
  {
   "cell_type": "code",
   "execution_count": null,
   "metadata": {},
   "outputs": [],
   "source": [
    "txt = \"The rain in Spain\"\n",
    "x = re.search(\"ai\", txt)\n",
    "\n",
    "if x:\n",
    "  print(\"YES! We have a match!\")\n",
    "else:\n",
    "  print(\"No match\")\n",
    "\n",
    "# print(x)\n"
   ]
  },
  {
   "cell_type": "code",
   "execution_count": null,
   "metadata": {},
   "outputs": [],
   "source": []
  },
  {
   "cell_type": "code",
   "execution_count": null,
   "metadata": {},
   "outputs": [],
   "source": [
    "from random import randint, randrange\n",
    "\n",
    "# randint(100, 999)     # randint is inclusive at both ends\n",
    "randrange(10000, 99999)  # randrange is exclusive at the stop\n"
   ]
  },
  {
   "cell_type": "code",
   "execution_count": null,
   "metadata": {},
   "outputs": [],
   "source": [
    "import random\n",
    "id = randrange(10000000, 99999999)"
   ]
  },
  {
   "cell_type": "code",
   "execution_count": null,
   "metadata": {},
   "outputs": [],
   "source": [
    "from concurrent.futures import ThreadPoolExecutor\n",
    "import requests\n",
    "from requests.exceptions import ConnectionError\n",
    "\n",
    "def validate_existence(domain):\n",
    "    try:\n",
    "        response = requests.get(domain, timeout=10)\n",
    "    except ConnectionError:\n",
    "        print(f'Domain {domain} [---]')\n",
    "        # print(f'[---]')\n",
    "\n",
    "\n",
    "# url = 'https://securiti.ai/privaci/universal-consent-preference-management/'\n",
    "# url = 'http://www.mascsdesceard.mcasord.mltuey.top/ic6oXx7P3s/page1.php'\n",
    "# url = 'http://diply.com/ilovemydog/puppies-are-little-troublemakers-in-a-cute-cloak/119633'\n",
    "list_domain = [\"http://graphicriver.net/search?date=this-month&length_max=&length_min=&price_max=&price_min=&rating_min=&sales=&sort=sales&term=&view=list\",\n",
    "\"http://ecnavi.jp/redirect/?url=http://www.cross-a.net/x.php?id=1845_3212_22061_26563&m=1004&pid=%user_id%\",\n",
    "\"https://hubpages.com/signin?explain=follow+Hubs&url=%2Fhub%2FComfort-Theories-of-Religion\",\n",
    "\"http://extratorrent.cc/torrent/4190536/AOMEI+Backupper+Technician+%2B+Server+Edition+2.8.0+%2B+Patch+%2B+Key+%2B+100%25+Working.html\",\n",
    "\"http://icicibank.com/Personal-Banking/offers/offer-detail.page?id=offer-ezeego-domestic-airtravel-20141407112611060\",\n",
    "\"http://nypost.com/2015/05/07/us-indifference-leaves-saudis-partnering-with-terrorists/\",\n",
    "\"http://kienthuc.net.vn/diem-thi/diem-chuan-dh-cong-nghe-giao-thong-van-tai-nam-2014-482407.html\",\n",
    "\"http://thenextweb.com/in/2015/04/16/india-wants-a-neutral-web-and-facebooks-internet-org-cant-be-a-part-of-it/gtm.js\",\n",
    "\"http://tobogo.net/cdsb/board.php?board=greet&bm=view&no=5716&category=&auth=&page=1&search=&keyword=&recom=\",\n",
    "\"http://akhbarelyom.com/news/newdetails/411395/1/%D9%85%D8%AD%D8%A7%D9%81%D8%B8-%D8%A7%D9%84%D8%A8%D8%AD%D9%8A%D8%B1.html\",\n",
    "\"http://tunein.com/radio/Carolina-Mudcats-at-Myrtle-Beach-Pelicans-May-13-2015-p729095/15480783/ca-pub-1542925551861702/ProgramTopBanner\",\n",
    "\"https://tune.pk/video/6046458/canelo-vs-kirkland-highlights-hbo-world-championship-boxing\",\n",
    "\"http://sfglobe.com/2015/05/01/six-baltimore-police-officers-charged-in-freddie-grays-death/?src=home_feed\",\n",
    "\"http://mic.com/articles/107372/49-tremendous-things-florida-men-accomplished-this-year\",\n",
    "\"http://thenextweb.com/apps/2015/05/07/flickr-launches-redesigned-mobile-apps-encourages-you-to-upload-your-entire-camera-roll/gtm.js\",\n",
    "\"http://couchtuner.eu.com/2013/05/anger-management-s2-e17-charlie-lets-kate-take-charge.html\",\n",
    "\"http://olx.in/hi/item/nokia-5800-express-music-perfect-working-condition-body-average-cond-IDTIzUp.html\",\n",
    "\"http://venturebeat.com/2015/05/08/yelp-sale-rumor-reminds-us-that-social-is-terrible-as-a-business-even-if-it-did-change-the-web/\",\n",
    "\"http://allegro.pl/listing/listing.php?id=122233&order=m&string=%7Bstring%7D&bmatch=seng-ps-mp-p-sm-isqm-2-e-0402\",\n",
    "\"http://allegro.pl/listing/listing.php?id=20782&order=m&p=2&string=%7Bstring%7D&bmatch=seng-v10-p-sm-isqm-2-o-0113\",\n",
    "\"http://tinnhanh360.net/-ong-tay-de-thuong-ban-do-choi-dao-ha-noi-gay-ngac-nhien-thich-thu.html\",\n",
    "\"http://metro.co.uk/2014/08/15/big-brother-2014-shock-twist-ashleigh-coyle-comes-second-4834723/\",\n",
    "\"http://atwiki.jp/wiki/%EF%BC%AD%EF%BC%B5%EF%BC%A7%EF%BC%A5%EF%BC%AE%20%E6%82%9F%E7%A9%BA\",\n",
    "\"http://emgn.com/tv/schnauzer-passes-out-with-excitement-when-he-is-reunited-with-his-human-after-2-years/\",\n",
    "\"http://nguyentandung.org/bo-truong-nguyen-bac-son-se-manh-tay-ngan-chan-tin-nhan-rac.html\",\n",
    "\"http://motthegioi.vn/tai-chinh-bat-dong-san/tu-17-nguoi-mua-nha-dat-phai-cong-them-hang-loat-chi-phi-187472.html\",\n",
    "\"http://spankbang.com/4ze1/video/brunette+with+big+boobs+fucked+in+a+cellar+public+agent\",\n",
    "\"http://torcache.net/torrent/FECDCFB88429EDAE6184E26D63EDD5A1AB2B1736.torrent?title=[kickass.to]bro.s.before.ho.s.2013.720p.brrip.nl.gesproken.dutchreleaseteam\",\n",
    "\"http://mic.com/articles/117370/baltimore-reveals-why-we-need-our-musicians-now-more-than-ever\",\n",
    "\"http://thenextweb.com/dd/2014/04/08/ux-designers-side-drawer-navigation-costing-half-user-engagement/feed/gtm.start\",\n",
    "\"http://emgn.com/movies/person-of-interest-what-to-expect-from-season-4-release-date/\",\n",
    "\"http://depositphotos.com/login.html?url=%2F34608623%2Fstock-illustration-vector-abstract-3d-road-infographics.html\",\n",
    "\"http://serverfault.com/questions/52370/what-is-the-order-group-policy-settings-are-applied\",\n",
    "\"http://kakaku.com/kaden/portable-dvd-player/ranking_2026/pricedown/div-gpt-ad-k/header_text\",\n",
    "\"http://indianexpress.com/article/world/asia/pak-officer-gave-up-osama-kayani-isi-chief-helped-us/\",\n",
    "\"http://nypost.com/2015/05/13/brooklyn-man-kills-cheating-girlfriends-lover-then-self/?share=email\",\n",
    "\"http://distractify.com/post/related/id/5543af854a0c4b511d7c70a2/skip/30/limit/10/back/0\",\n",
    "\"http://sourceforge.net/directory/communications/add_facet_filter?facet=os&constraint=Mac\",\n",
    "\"http://babal.net/books/view/960/%D8%AE%D9%8A%D8%A7%D9%86%D8%A9-%D8%A7%D9%84%D9%85%D8%AB%D9%82%D9%81%D9%8A%D9%86\",\n",
    "\"http://serverfault.com/questions/690852/use-powershell-to-start-a-gui-program-on-a-remote-machine\",\n",
    "\"http://cookpad.com/login?rt=%2Fcategory%2Frecommend%2F590%3Frt%3D%252Fcategory%252F590\",\n",
    "\"http://plarium.com/en/strategy-games/stormfall-age-of-war/news/withdraw-to-the-catacombs/\",\n",
    "\"http://pikabu.ru/tag/%D1%81%D1%82%D0%B0%D0%B2%D1%80%D0%BE%D0%BF%D0%BE%D0%BB%D1%8C/hot\",\n",
    "\"http://grantland.com/hollywood-prospectus/2015-oscar-nomination-predictions-best-director-best-picture/\",\n",
    "\"http://allegro.pl/listing/user/listing.php?us_id=25662671&order=p&string=B-110+HIT&search_scope=userItems-25662671&bmatch=s0-default-0113&sh_dwh_token=d0b6dd74a8394345128e20d296cb1c5e\",\n",
    "\"http://nguyentandung.org/bai-do-xe-ngam-trong-cong-vien-thong-nhat-thu-hoi-von-cach-nao.html\",\n",
    "\"http://allegro.pl/listing/listing.php?bmatch=seng-v6-p-sm-isqm-2-ce-0113&id=175&order=m&string=%7Bstring%7D\",\n",
    "\"http://europa.eu/about-eu/agencies/regulatory_agencies_bodies/policy_agencies/eurofound/index_en.htm\",\n",
    "\"http://extratorrent.cc/torrent/4190380/VA-Unusual_Techno_One_LP-WEB-2015-CBR_INT.html\",\n",
    "\"http://persianblog.ir/tags/42604/8/%d8%b3%d9%87%d8%b1%d8%a7%d8%a8_%d8%b3%d9%be%d9%87%d8%b1%db%8c/\",\n",
    "\"http://distractify.com/post/related/id/5537c6314a0c4b89316cdbdf/skip/20/limit/10/back/0\",\n",
    "\"http://kenh14.vn/star/lo-dien-ban-trai-hot-boy-cua-van-mai-huong-20140716121655295.chn\",\n",
    "\"https://twitter.com/share?url=http%3A%2F%2Fhubpages.com%2Fhub%2FWhats-the-difference-between-self-esteem-and-confidence&text=Definitions+of+Confidence+%26+Self+Esteem+-+What%27s+the+Difference%3F\",\n",
    "\"http://nesn.com/2015/04/draftkings-giancarlo-stanton-mookie-betts-in-tom-carons-fantasy-lineup/\",\n",
    "\"http://fishki.net/1526766-kapello-zajavil-o-bezumii-prezidenta-rfs.html?mode=recent\",\n",
    "\"http://syosetu.com/searchuser/search/index.php?name1st=%E3%82%80&all=1&all2=1&all3=1&all4=1&p=10\",\n",
    "\"http://akhbarelyom.com/news/newdetails/411497/1/%D9%85%D8%B5%D8%B1-%D8%A7%D9%84%D8%B9%D8%B7%D8%A7%D8%A1-%D8%AA.html\",\n",
    "\"http://allegro.pl/triumph-stringi-precious-essence-string-granat-40-i5035632976.html\",\n",
    "\"http://getpocket.com/signup?mode=socialmode&route=http://getpocket.com/p/pocket-topics/fitness\",\n",
    "\"http://mylust.com/videos/235751/sexy-hentai-chick-gets-her-huge-succulent-tits-squeezed/\",\n",
    "\"http://censor.net.ua/photo_news/335629/v_tsentre_donetska_ural_boevikov_dnr_razdavil_jiguli_2_pogibshih_narod_ne_protestuet_foto\",\n",
    "\"http://pornsharing.com/latina-girl-chloe-amour-and-busty-blonde-step-mom-julia-ann-get-face-fucked_v78082\",\n",
    "\"http://genius.com/4810956/Ol-dirty-bastard-never-before-seen-ol-dirty-bastard-raw-and-uncut-interview/But-its-just-hey-the-kids-love-dirty-you-know-what-i-mean-every-time-they-see-dirty-they-smile-you-know-what-i-mean\",\n",
    "\"http://sourceforge.net/directory/communications/add_facet_filter?facet=language&constraint=PL%2FSQL\",\n",
    "\"http://codecanyon.net/item/bitdrop-file-hosting-with-short-url-link/full_screen_preview/426023\",\n",
    "\"http://qz.com/404309/photos-silicon-valley-fashion-week-kicks-off-with-drone-models/\",\n",
    "\"http://kenh14.vn/2-tek/ban-jailbreak-he-dieu-hanh-ios-613-toi-ios-615-chinh-thuc-trinh-lang-2013122404361169.chn\",\n",
    "\"http://uproxx.com/movies/2015/04/paul-bettany-gives-us-a-glimpse-of-vision-in-action-in-avengers-age-of-ultron/\",\n",
    "\"http://babal.net/women/view/80/%D8%AF%D9%84%D9%91%D9%84%D9%8A-%D9%86%D9%81%D8%B3%D9%83-%D8%A3%D9%8A%D8%AA%D9%87%D8%A7-%D8%A7%D9%84%D8%A3%D9%85-%D9%85%D8%B9-%D9%87%D8%B0%D9%87-%D8%A7%D9%84%D9%86%D8%B5%D8%A7%D8%A6%D8%AD\",\n",
    "\"http://mic.com/articles/116370/avengers-stars-sexist-jokes-illustrate-a-major-problem-with-the-comic-book-industry\",\n",
    "\"http://torcache.net/torrent/0FF0E2F39CD5AB403EE03F8E1B69127D0476D976.torrent?title=[kickass.to]komban.2015.hq.real.dvdscr.xvid.1cd.700mb.tamil\",\n",
    "\"https://paytm.com/blog/paytm-offer-for-app-users-get-upto-rs-50-cash-back/?share=email\",\n",
    "\"http://motthegioi.vn/suckhoe/nu-cuoi-y-hoc/nu-cuoi-suc-khoe-nhung-li-do-nen-yeu-chang-trai-bung-bu-188294.html\",\n",
    "\"http://torcache.net/torrent/047D47DFF4DC5CD9BEA6D0F4C57D68F2F2D71205.torrent?title=[kickass.to]night.at.the.museum.secret.of.the.tomb.2014.1080p.brrip.x264.yify\",\n",
    "\"http://thenextweb.com/asia/2014/09/26/myanmars-mobile-revolution-kicks-telenor-prepares-launch-service/gtm.start\",\n",
    "\"http://extratorrent.cc/torrent/4189616/Jedi+Mind.Tricks.The.Thief.and.the.Fallen.2015.mp3.vbr.NOiR.html\",\n",
    "\"http://genius.com/2990084/Us-general-services-administration-gsa-mentor-protege-program-subpart-51970/Incentives-for-prime-contractors\",\n",
    "\"http://thenextweb.com/apps/2012/04/19/500px-launches-android-app-and-overhauls-its-ipad-version-too/\",\n",
    "\"http://kienthuc.net.vn/tin-tuc-tuyen-sinh/ty-le-choi-cua-dai-hoc-fpt-nam-2014-487408.html\",\n",
    "\"http://sourceforge.net/directory/development/add_facet_filter?facet=license&constraint=OSI-Approved+Open+Source+%3A%3A+PHP+License\",\n",
    "\"http://nypost.com/2015/01/28/tepper-loses-fight-to-restructure-caesars-in-delaware/\",\n",
    "\"http://ap.org/Content/Press-Release/2013/NFL-celebrates-season-with-NFL-Honors-Super-Bowl-Eve\",\n",
    "\"http://indianexpress.com/article/cities/ludhiana/32-year-old-commits-suicide-at-in-laws-place-in-ludhiana/\",\n",
    "\"http://extratorrent.cc/torrent_download/4191066/Chappie.2015.720p.WEB-DL.AAC2.0.H.264-PLAYNOW.torrent\",\n",
    "\"http://correios.com.br/english/the-brazil-post/education-and-culture/cultural-centers/cultural-center-of-rio-de-janeiro\",\n",
    "\"http://web.de/magazine/sport/fussball/champions-league/fc-bayern-muenchen-fc-barcelona/fc-bayern-muenchen-fc-barcelona-enrique-fuerchtet-freund-guardiola-30633596\",\n",
    "\"http://noticias.uol.com.br/saude/album/2015/03/17/dengue-pelo-brasil.htm?abrefoto=63\",\n",
    "\"http://bdnews24.com/economy/2015/05/05/world-bank-to-give-bangladesh-200-million-loan-to-cut-poverty\",\n",
    "\"http://kenh14.vn/tv-show/viet-huong-gao-thet-to-chong-leng-pheng-trai-tre-20150208121726226.chn\",\n",
    "\"http://codecanyon.net/item/photofans-your-social-network-to-share-photos/full_screen_preview/6308014\",\n",
    "\"http://tunein.com/radio/Carolina-Mudcats-at-Myrtle-Beach-Pelicans-May-13-2015-p729095/\",\n",
    "\"http://nguyentandung.org/vi-sao-nguyen-tong-bien-tap-bao-nguoi-cao-tuoi-bi-khoi-to.html\",\n",
    "\"http://kickass.to/microsoft-office-professional-plus-2013-64-bit-english-rareabyss-t10091322.html\",\n",
    "\"http://weathernews.jp/smart/sora_mission/0/glance.html?missionid=1431484304.67676&fm=sw&fmdotop=2\",\n",
    "\"http://atwiki.jp/wiki/%E8%A9%A6%E9%A8%93%E4%B8%AD%20%E9%9C%87%E7%81%BD%E5%AF%BE%E5%BF%9C\",\n",
    "\"http://plarium.com/en/strategy-games/sparta-war-of-empires/mmo-masters/offensive-positions\",\n",
    "\"https://chaturbate.com/tipping/spy_on_private_show_tokens_per_minute/ingridblondy94/\",\n",
    "\"http://babal.net/news/view/42903/%D8%AD%D8%A8%D8%B3-%D9%85%D8%AD%D8%A7%D9%81%D8%B8-%D8%A7%D9%84%D8%A3%D9%82%D8%B5%D8%B1-%D8%A7%D9%84%D8%B3%D8%A7%D8%A8%D9%82-%D8%B9%D8%A7%D9%85%D9%8A%D9%86-%D9%88%D8%AA%D8%BA%D8%B1%D9%8A%D9%85%D9%87-10-%D8%A2%D9%84%D8%A7%D9%81-%D8%AC%D9%86%D9%8A%D9%87-%D9%84%D8%B9%D8%AF%D9%85-%D8%AA%D9%86%D9%81%D9%8A%D8%B0%D9%87-%D8%AD%D9%83%D9%85%D8%A7-%D9%82%D8%B6%D8%A7%D8%A6%D9%8A%D8%A7\",\n",
    "\"http://sberbank.ru/portalserver/sb-portal-ru/ru/person/paymentsandremittances/remittance/in/beznal_rus/beznal_snal_rus\",\n",
    "\"http://torcache.net/torrent/3671994FE2E23CC3E914E74EB63E5A85AA184B4B.torrent?title=[kickass.to]focus.2015.720p.hq.ac3.dd5.1.externe.eng.nl.subs.tbs\",\n",
    "\"http://torcache.net/torrent/110A54D90A4F523BF7051AAD5ADE8F5E72FC3ED2.torrent?title=[kickass.to]hentai.3d.milky.maid.may.2015\",\n",
    "\"http://pikabu.ru/tag/%D0%90%D1%80%D0%B5%D0%BD%D0%B4%D0%B0%20%D0%B6%D0%B8%D0%BB%D1%8C%D1%8F/hot\",\n",
    "\"http://mirtesen.ru/url?e=simple_click&blog_post_id=43032218893&url=http%3A%2F%2Fnarodnayamedicyna.ru%2Fblog%2F43032218893%2Fsudorogi\",\n",
    "\"http://mirtesen.ru/url?e=simple_click&blog_post_id=43294960453&url=http%3A%2F%2Fs30469371943.mirtesen.ru%2Fblog%2F43294960453%2FAh-leto%21\",\n",
    "\"http://distractify.com/post/related/id/54b985434a0c4b136ee6813d/skip/20/limit/10/back/0\",\n",
    "\"http://jalopnik.com/5958144/gourmet-food-trucks-feed-storm-battered-and-starved-coney-island-residents\",\n",
    "\"http://techcrunch.com/2015/01/11/from-a-rebuilt-60s-motel-in-vegas-orderwithme-tackles-big-e-commerce-challenges/\",\n",
    "\"https://twitter.com/home?status=%E3%83%8C%E3%81%91%E3%82%8B%EF%BC%81%E3%80%90%E3%82%A2%E3%83%8B%E3%83%A1%E3%80%91+http%3A%2F%2Fero-video.net%2Ft%2FfnLTNjuNx6qWFt13+%E3%82%A2%E3%83%AB%E3%83%90%E3%82%A4%E3%83%88%E3%81%AE%E5%85%88%E8%BC%A9%E3%81%AE%E5%A5%B3%E3%81%AE%E3%82%B3%E3%81%A8%E3%82%A8%E3%83%83%E3%83%81%E3%80%80%E7%90%B4%E5%B9%B3%E3%81%95%E3%82%86+%23ero+%23douga+%23agesage\",\n",
    "\"http://torcache.net/torrent/9CFDD892CDA9F5EEA5DB98A955E4E1382262E670.torrent?title=[kickass.to]arrow.s03e04.hdtv.x264.lol.eztv\",\n",
    "\"http://thenextweb.com/insider/2014/10/29/unbabel-integrates-mailchimp-offer-translation-service-promotional-emails/gtm.start/\",\n",
    "\"http://arstechnica.com/science/2015/05/carbon-emissions-put-sixteen-percent-of-species-at-risk-of-extinction/\",\n",
    "\"http://tunein.com/radio/Economics-of-Political-Memoir---Marketplace-May-13-2015-p729173/15480783/ca-pub-1542925551861702/Program\",\n",
    "\"http://torrentdn.com/bbs/s.php?bo_table=torrent_mid&wr_id=57742&k=%EC%99%95%EC%A2%8C&page=1\",\n",
    "\"http://searchengineland.com/twitters-full-google-search-integration-is-coming-in-may-219941\",\n",
    "\"http://nesn.com/2014/07/veteran-leaders-return-to-field-for-day-1-of-patriots-training-camp-video/\",\n",
    "\"https://paytm.com/blog/pep-up-this-summer-season-with-paytms-first-ever-fashion-fest/\",\n",
    "\"http://torcache.net/torrent/523EF7169F14C884FC2AD988451BBB6A4E0BD5F4.torrent?title=[kickass.to]project.almanac.2014.720p.brrip.x264.yify\",\n",
    "\"http://metro.co.uk/2015/04/01/zayn-malik-loses-50000-twitter-follows-in-wake-of-one-direction-departure-but-dont-worry-hes-still-popular-5131044/\",\n",
    "\"http://censor.net.ua/jokes/all/page/1/hero/0/category/138/interval/5/author/0/sortby/date\",\n",
    "\"http://depositphotos.com/login.html?url=%2F25901805%2Fstock-photo-breakfast-with-coffee-orange-juice.html\",\n",
    "\"http://thenextweb.com/eu/2015/05/09/meet-the-man-who-left-nasa-to-join-a-european-startup/gtm.start\",\n",
    "\"http://putlocker.is/watch-night-at-the-museum-secret-of-the-tomb-online-free-putlocker.html\",\n",
    "\"http://tunein.com/radio/Radio-Fredericton-905-s12073/15480783/ca-pub-1542925551861702/StationLeader\",\n",
    "\"http://lifehacker.com/5910717/plan-your-free-online-education-at-lifehacker-u-summer-semester-2012\",\n",
    "\"http://extratorrent.cc/torrent/4189607/The+Sleepwalker.2014.LiMiTED.DVDRip.x264.LPD.html\",\n",
    "\"http://mylust.com/videos/64031/chinese-orgy-with-sexy-and-skinny-asian-babe-in-her-bedroom/\",\n",
    "\"http://buzzfil.net/m/show-art/voici-16-voisins-qui-ont-pique-une-crise-de-nerfs-9.html\",\n",
    "\"http://censor.net.ua/video_news/334975/ochered_za_pensieyi_v_okkupirovannom_luganske_ty_so_zvukom_zapishi_s_matyukami_video\",\n",
    "\"http://ap.org/Content/Press-Release/2014/The-personal-news-cycle-how-Americans-get-their-news\",\n",
    "\"http://akhbarelyom.com/news/newdetails/411484/1/%D9%85%D8%B5%D8%B1%D9%8A%D8%AA%D8%A7%D9%86-%D9%81%D9%82%D8%B7-.html\",\n",
    "\"http://sourceforge.net/directory/communications/add_facet_filter?facet=os&constraint=Modern+%28Vendor-Supported%29+Desktop+Operating+Systems+%3A%3A+OpenBSD\",\n",
    "\"http://kakaku.com/kaden/label-writer/ranking_2076/pricedown/div-gpt-ad-k/header_text\",\n",
    "\"http://jezebel.com/jameis-winston-files-lawsuit-against-woman-who-accused-1703312090/+miamirohan\",\n",
    "\"http://grantland.com/hollywood-prospectus/mad-men-power-rankings-episode-710-the-forecast/\",\n",
    "\"https://www.gov.uk/government/world/uk-delegation-to-organization-for-security-and-co-operation-in-europe\",\n",
    "\"http://emgn.com/entertainment/youll-be-left-speechless-at-the-wartime-bravery-of-these-22-animal-heroes/\",\n",
    "\"http://bdnews24.com/politics/2015/05/02/dire-consequences-unless-city-polls-cancelled-bnp-s-hannan-shah\",\n",
    "\"http://web.de/magazine/unterhaltung/adel/royal-baby-2/wohnt-prinzessin-charlotte-elizabeth-diana-30619870\",\n",
    "\"http://extratorrent.cc/torrent/4189415/Snow%2C+Heather-Sweet+Deception+-+epub+-+zeke23.html\",\n",
    "\"http://torcache.net/torrent/4EFE4986FC8B15951469CF6AC82FE102E8C9007A.torrent?title=[kickass.to]if.i.stay.2014.720p.brrip.x264.yify\",\n",
    "\"https://twitter.com/share?url=http%3A%2F%2Fhubpages.com%2Fhub%2FEMT-Electrical-Conduit-Pipe-Bending-the-Math-Behind-a-Conduit-Bending-Guide&text=Formulas+and+Multipliers+For+Bending+Conduit+or+Electrical+Pipe\",\n",
    "\"http://seekingalpha.com/article/2471615-mexico-economy-to-move-with-energy-reforms-part-1\",\n",
    "\"http://web.tv/liveCategory/6/language/1/index/changeLanguage/newshared/searchAutoComplete\",\n",
    "\"http://indianexpress.com/article/sports/football/chelsea-go-past-leicester-city-3-1-eye-premier-league-title/\",\n",
    "\"http://web.de/magazine/sport/fussball/champions-league/wunder-fc-schalke-04-real-madrid-champions-league-17321480\",\n",
    "\"http://olx.co.id/i2/elektronik-gadget/komputer/keyboard-mouse/elektronik-gadget/komputer/keyboard-mouse\",\n",
    "\"http://mylust.com/videos/171589/my-lewd-chinese-wife-is-really-into-having-sex-in-missionary-position/\",\n",
    "\"http://babal.net/books/view/397/%D9%82%D8%A7%D9%86%D9%88%D9%86-%D8%BA%D8%B1%D9%81-%D8%A7%D9%84%D8%B5%D9%86%D8%A7%D8%B9%D8%A9-%D8%A7%D9%84%D8%A7%D8%B1%D8%AF%D9%86%D9%8A\",\n",
    "\"http://techcrunch.com/2014/03/18/hurry-this-is-your-last-chance-to-get-tickets-to-tonights-washington-d-c-meetup/\",\n",
    "\"http://distractify.com/post/related/id/54b985434a0c4b136ee6813d/skip/30/limit/10/back/0\",\n",
    "\"http://kakaku.com/daily-goods/antimold-agent/ranking_7633/pricedown/div-gpt-ad-k/header_text\",\n",
    "\"http://metro.co.uk/2015/04/30/harry-styles-spotted-minding-his-own-busines-son-los-angeles-bus-5174286/\",\n",
    "\"http://kienthuc.net.vn/tin-tuc-tuyen-sinh/ung-vien-du-hoc-theo-de-an-599-cp-huong-hoc-phi-400-trieunam-486551.html\",\n",
    "\"http://web.de/magazine/reise/blog/gundel-woite/feucht-froehlicher-zwischenfall-donegal-30566558\",\n",
    "\"http://thenextweb.com/insider/2012/10/30/as-prezi-amasses-more-than-15-million-users-it-promotes-the-idea-economy-and-moves-into-the-enterprise/gtm.js\",\n",
    "\"https://www.gov.uk/government/policies/economic-development-in-coastal-and-seaside-areas\",\n",
    "\"http://olx.ua/uk/list/q-%D0%B1%D0%B0%D0%BB%D0%B5%D1%82%D0%BA%D0%B8/bIE64RPKp0urlDE3vSbHw8dRLeUY1kOFK2_KOEmw9UT.A7\",\n",
    "\"http://olx.pl/uslugi-firmy/kategorie/JOcK7gzdoyrcIT2176iLzhCz8UoPOGcT6Y1ax8FNTPf.l7\",\n",
    "\"http://babal.net/photos/54/%D8%AE%D9%84%D9%81%D9%8A%D8%A7%D8%AA-%D9%88%D9%8A%D9%86%D8%AF%D9%88%D8%B2\",\n",
    "\"http://correios.com.br/Para-governo/governo-municipal/solucoes-gratuitas-de-apoio-e-gestao/sigep-web\",\n",
    "\"https://myspace.com/article/2015/4/27/family-amy-winehouse-says-amy-documentary-misleading\",\n",
    "\"http://indianexpress.com/article/good-news/covered-in-tar-street-dog-rescued-in-three-hours/\",\n",
    "\"http://web.de/magazine/gesundheit/blog/ulli-goebl/7-nahrungsmittel-stimmung-energielevel-jahr-heben-30335162\",\n",
    "\"http://olx.in/hi/item/nokia-lumia-520-with-3-back-covers-and-data-cable-and-box-IDWjzgb.html\",\n",
    "\"http://squarespace.com/press/2015/1/7/squarespace-announces-a-major-upgrade-to-its-platform-with-new-getty-images-and-google-integrations\",\n",
    "\"https://privatbank.ua/ua/business/otraslevyje-reshenija-dlya-biznesa/resheniya-agrobiznesu/\",\n",
    "\"http://distractify.com/post/related/id/553017ed4a0c4b853fa28e2e/skip/10/limit/10/back/0\",\n",
    "\"http://tunein.com/radio/The-Ian-OConnor-Show-p335837/15480783/ca-pub-1542925551861702/Program\",\n",
    "\"http://thenextweb.com/apps/2011/07/24/the-complete-list-of-top-instagram-apps/carousel/\",\n",
    "\"http://torcache.net/torrent/38C97B7056A1B4E72811C617C1DB6D03B081A533.torrent?title=[kickass.to]the.blacklist.s02e12.the.kenyon.family.x264.dtw\",\n",
    "\"http://distractify.com/post/related/id/554ba22e4a0c4b793e066a77/skip/20/limit/10/back/0\",\n",
    "\"http://extratorrent.cc/torrent_download/4189576/Game+Of+Thrones+-+Il+Trono+Di+Spade+S05e04%5BMux+-+720p+-+H264+-+Ita+Eng+Ac3+-+Sub+Ita+Eng%5D+DLMux+-+GiuseppeTnT.torrent\",\n",
    "\"http://xhamster.com/movies/4567879/you_are_going_to_love_the_way_that_stockings_feel.html\",\n",
    "\"http://perezhilton.com/2015-05-13-student-detention-dress-code-violation-letter-suspension-gender-sexist/?from=blogroll_perezhilton\",\n",
    "\"http://comicbook.com/2015/01/20/chris-evans-and-chris-pratt-exchange-barbs-in-heated-super-bowl-/\",\n",
    "\"https://paytm.com/offer/wp-content/plugins/wc-gallery/includes/js/flexslider/flexslider.css?ver=2.2.0\",\n",
    "\"http://grantland.com/hollywood-prospectus/we-went-there-celebrating-25-years-of-goodfellas-with-bobby-d-ray-paulie-and-lorraine-at-tribeca-film-festival/\",\n",
    "\"http://distractify.com/post/related/id/55479c6a4a0c4bc56b941a7e/skip/10/limit/10/back/0\",\n",
    "\"http://thenextweb.com/apple/2015/05/10/11-things-i-learned-during-two-weeks-with-an-apple-watch/gtm.start\",\n",
    "\"http://icicibank.com/Personal-Banking/cards/debit-card/debit-cards/the-gemstone-collection.page\",\n",
    "\"http://deadspin.com/5746724/is-erin-andrews-reebok-endorsement-deal-journalistically-unethical\",\n",
    "\"http://udn.com/news/story/7341/893933-%E7%8E%8B%E7%A5%96%E5%A3%BD%EF%BC%8F%E9%84%A7%E9%BA%97%E5%90%9B%E3%80%8C%E5%BE%A9%E7%94%9F%E3%80%8D-%E8%B2%BB%E7%8E%89%E6%B8%85%E3%80%8C%E5%BE%A9%E5%87%BA%E3%80%8D\",\n",
    "\"http://bestblackhatforum.com/Forum-Announcements-And-Updates&datecut=0&sortby=lastpost&order=asc\",\n",
    "\"https://quizlet.com/login?redir=https%3A%2F%2Fquizlet.com%2Flogin%3Fredir%3Dhttps%253A%252F%252Fquizlet.com%252Fcreate-set%252Fnew\",\n",
    "\"http://depositphotos.com/60963767/stock-photo-design-team-working-together-while.html\",\n",
    "\"http://pitchfork.com/features/profiles/9646-love-is-strange-the-multitudes-of-unknown-mortal-orchestras-ruban-nielson/\",\n",
    "\"http://emgn.com/entertainment/coldplay-announce-release-date-for-6th-album-ghost-stories/\",\n",
    "\"http://katproxy.com/fast-and-furious-7-2015-hd-ts-xvid-ac3-hq-hive-cm8-t10472303.html\",\n",
    "\"http://elitedaily.com/sports/marcus-mariota-set-become-first-hawaiian-nfl-superstar/1015927/\",\n",
    "\"http://extratorrent.cc/torrent_download/4191159/The+Longest+Yard+%282005%29+720p+WEB-DL+900MB+-+MkvCage.torrent\",\n",
    "\"http://pornsharing.com/handcuffed-prisoner-gets-his-big-black-dick-sucked-by-angelik-duval_v72019\",\n",
    "\"http://thenextweb.com/apps/2011/07/24/the-complete-list-of-top-instagram-apps/webstagram/gtm.start\",\n",
    "\"http://distractify.com/post/related/id/5553b0104a0c4b621246c516/skip/50/limit/10/back/0\",\n",
    "\"http://atwiki.jp/wiki/%E3%82%AA%E3%83%96%E3%83%AA%E3%83%93%E3%82%AA%E3%83%B3%20%E9%A1%94\",\n",
    "\"http://codecanyon.net/item/phpforum-v15-social-forum-script/full_screen_preview/11340982\",\n",
    "\"http://interpark.com/product/MallDisplay.do?_method=Detail&sc.shopNo=0000100000&sc.dispNo=001930&sc.prdNo=26600264&bm1=mid&bm2=hotsale_prd\",\n",
    "\"http://gtbank.com/personalbanking/cards/mastercard/gtbank-dollar-credit-cards/gtbank-world-mastercard\",\n",
    "\"https://medium.com/@theemilyhopkins/another-bad-commencement-address-90758e67ab08?source=latest\",\n",
    "\"http://torcache.net/torrent/F52DF00E79B66A462A1848B6478A15D8EAD88679.torrent?title=[kickass.to]the.walking.dead.seizoen3.afl.10.hdtv.xvid.nl.subs.dmt\",\n",
    "\"http://correios.com.br/english/the-brazil-post/history-and-facts/mailmen-in-brazil/imagens/CarteirosdoBrasil_1.jpg/@@images/652365fb-0395-469a-9812-e75aea0d1562.jpeg\",\n",
    "]\n",
    "\n",
    "with ThreadPoolExecutor() as executor:\n",
    "    executor.map(validate_existence, list_domain)\n",
    "# validate_existence(url)\n"
   ]
  }
 ],
 "metadata": {
  "colab": {
   "collapsed_sections": [],
   "name": "URL Extract feature",
   "provenance": []
  },
  "kernelspec": {
   "display_name": "Python 3.9.5 ('tfm1')",
   "language": "python",
   "name": "python3"
  },
  "language_info": {
   "codemirror_mode": {
    "name": "ipython",
    "version": 3
   },
   "file_extension": ".py",
   "mimetype": "text/x-python",
   "name": "python",
   "nbconvert_exporter": "python",
   "pygments_lexer": "ipython3",
   "version": "3.9.5"
  },
  "vscode": {
   "interpreter": {
    "hash": "1cba91db586b52b723360a58c37b30ad13b9859ad683f5f949cefff0f305c0f3"
   }
  }
 },
 "nbformat": 4,
 "nbformat_minor": 1
}
