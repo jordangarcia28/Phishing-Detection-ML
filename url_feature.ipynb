{
 "cells": [
  {
   "cell_type": "markdown",
   "metadata": {},
   "source": [
    "## 1. Collect benign and phishing url\n"
   ]
  },
  {
   "cell_type": "code",
   "execution_count": 6,
   "metadata": {},
   "outputs": [],
   "source": [
    "import pandas as pd\n",
    "import matplotlib.pyplot as plt\n",
    "import numpy as np\n",
    "import os\n",
    "\n"
   ]
  },
  {
   "cell_type": "markdown",
   "metadata": {},
   "source": [
    "### 1.1. Phishing URL\n",
    "\n",
    "1. Phishtank\n",
    "2. Phishing Database\n",
    "3. University of New Brunswick\n",
    "\n",
    "    "
   ]
  },
  {
   "cell_type": "code",
   "execution_count": 7,
   "metadata": {},
   "outputs": [
    {
     "data": {
      "text/html": [
       "<div>\n",
       "<style scoped>\n",
       "    .dataframe tbody tr th:only-of-type {\n",
       "        vertical-align: middle;\n",
       "    }\n",
       "\n",
       "    .dataframe tbody tr th {\n",
       "        vertical-align: top;\n",
       "    }\n",
       "\n",
       "    .dataframe thead th {\n",
       "        text-align: right;\n",
       "    }\n",
       "</style>\n",
       "<table border=\"1\" class=\"dataframe\">\n",
       "  <thead>\n",
       "    <tr style=\"text-align: right;\">\n",
       "      <th></th>\n",
       "      <th>qty_dot_url</th>\n",
       "      <th>qty_hyphen_url</th>\n",
       "      <th>qty_underline_url</th>\n",
       "      <th>qty_slash_url</th>\n",
       "      <th>qty_questionmark_url</th>\n",
       "      <th>qty_equal_url</th>\n",
       "      <th>qty_at_url</th>\n",
       "      <th>qty_and_url</th>\n",
       "      <th>qty_exclamation_url</th>\n",
       "      <th>qty_space_url</th>\n",
       "      <th>qty_tilde_url</th>\n",
       "      <th>qty_comma_url</th>\n",
       "      <th>qty_plus_url</th>\n",
       "      <th>qty_asterisk_url</th>\n",
       "      <th>qty_hashtag_url</th>\n",
       "      <th>qty_dollar_url</th>\n",
       "      <th>qty_percent_url</th>\n",
       "      <th>qty_tld_url</th>\n",
       "      <th>length_url</th>\n",
       "      <th>time_response</th>\n",
       "      <th>domain_spf</th>\n",
       "      <th>asn_ip</th>\n",
       "      <th>time_domain_activation</th>\n",
       "      <th>time_domain_expiration</th>\n",
       "      <th>qty_ip_resolved</th>\n",
       "      <th>qty_nameservers</th>\n",
       "      <th>qty_mx_servers</th>\n",
       "      <th>ttl_hostname</th>\n",
       "      <th>tls_ssl_certificate</th>\n",
       "      <th>qty_redirects</th>\n",
       "      <th>url_google_index</th>\n",
       "      <th>domain_google_index</th>\n",
       "      <th>url_shortened</th>\n",
       "      <th>phishing</th>\n",
       "    </tr>\n",
       "  </thead>\n",
       "  <tbody>\n",
       "    <tr>\n",
       "      <th>0</th>\n",
       "      <td>2</td>\n",
       "      <td>0</td>\n",
       "      <td>0</td>\n",
       "      <td>0</td>\n",
       "      <td>0</td>\n",
       "      <td>0</td>\n",
       "      <td>0</td>\n",
       "      <td>0</td>\n",
       "      <td>0</td>\n",
       "      <td>0</td>\n",
       "      <td>0</td>\n",
       "      <td>0</td>\n",
       "      <td>0</td>\n",
       "      <td>0</td>\n",
       "      <td>0</td>\n",
       "      <td>0</td>\n",
       "      <td>0</td>\n",
       "      <td>1</td>\n",
       "      <td>14</td>\n",
       "      <td>0.334573</td>\n",
       "      <td>0</td>\n",
       "      <td>8560</td>\n",
       "      <td>4927</td>\n",
       "      <td>185</td>\n",
       "      <td>1</td>\n",
       "      <td>4</td>\n",
       "      <td>2</td>\n",
       "      <td>3598</td>\n",
       "      <td>0</td>\n",
       "      <td>0</td>\n",
       "      <td>0</td>\n",
       "      <td>0</td>\n",
       "      <td>0</td>\n",
       "      <td>0</td>\n",
       "    </tr>\n",
       "    <tr>\n",
       "      <th>1</th>\n",
       "      <td>4</td>\n",
       "      <td>0</td>\n",
       "      <td>0</td>\n",
       "      <td>2</td>\n",
       "      <td>0</td>\n",
       "      <td>0</td>\n",
       "      <td>0</td>\n",
       "      <td>0</td>\n",
       "      <td>0</td>\n",
       "      <td>0</td>\n",
       "      <td>0</td>\n",
       "      <td>0</td>\n",
       "      <td>0</td>\n",
       "      <td>0</td>\n",
       "      <td>0</td>\n",
       "      <td>0</td>\n",
       "      <td>0</td>\n",
       "      <td>1</td>\n",
       "      <td>38</td>\n",
       "      <td>1.326223</td>\n",
       "      <td>-1</td>\n",
       "      <td>263283</td>\n",
       "      <td>8217</td>\n",
       "      <td>-1</td>\n",
       "      <td>1</td>\n",
       "      <td>4</td>\n",
       "      <td>1</td>\n",
       "      <td>3977</td>\n",
       "      <td>1</td>\n",
       "      <td>0</td>\n",
       "      <td>0</td>\n",
       "      <td>0</td>\n",
       "      <td>0</td>\n",
       "      <td>0</td>\n",
       "    </tr>\n",
       "    <tr>\n",
       "      <th>2</th>\n",
       "      <td>1</td>\n",
       "      <td>0</td>\n",
       "      <td>0</td>\n",
       "      <td>1</td>\n",
       "      <td>0</td>\n",
       "      <td>0</td>\n",
       "      <td>0</td>\n",
       "      <td>0</td>\n",
       "      <td>0</td>\n",
       "      <td>0</td>\n",
       "      <td>0</td>\n",
       "      <td>0</td>\n",
       "      <td>0</td>\n",
       "      <td>0</td>\n",
       "      <td>0</td>\n",
       "      <td>0</td>\n",
       "      <td>0</td>\n",
       "      <td>1</td>\n",
       "      <td>24</td>\n",
       "      <td>3.969207</td>\n",
       "      <td>1</td>\n",
       "      <td>26496</td>\n",
       "      <td>258</td>\n",
       "      <td>106</td>\n",
       "      <td>1</td>\n",
       "      <td>2</td>\n",
       "      <td>1</td>\n",
       "      <td>10788</td>\n",
       "      <td>0</td>\n",
       "      <td>0</td>\n",
       "      <td>0</td>\n",
       "      <td>0</td>\n",
       "      <td>0</td>\n",
       "      <td>0</td>\n",
       "    </tr>\n",
       "    <tr>\n",
       "      <th>3</th>\n",
       "      <td>2</td>\n",
       "      <td>0</td>\n",
       "      <td>0</td>\n",
       "      <td>3</td>\n",
       "      <td>0</td>\n",
       "      <td>0</td>\n",
       "      <td>0</td>\n",
       "      <td>0</td>\n",
       "      <td>0</td>\n",
       "      <td>0</td>\n",
       "      <td>0</td>\n",
       "      <td>0</td>\n",
       "      <td>0</td>\n",
       "      <td>0</td>\n",
       "      <td>0</td>\n",
       "      <td>0</td>\n",
       "      <td>0</td>\n",
       "      <td>1</td>\n",
       "      <td>38</td>\n",
       "      <td>0.495212</td>\n",
       "      <td>1</td>\n",
       "      <td>20013</td>\n",
       "      <td>2602</td>\n",
       "      <td>319</td>\n",
       "      <td>1</td>\n",
       "      <td>2</td>\n",
       "      <td>1</td>\n",
       "      <td>14339</td>\n",
       "      <td>1</td>\n",
       "      <td>0</td>\n",
       "      <td>0</td>\n",
       "      <td>0</td>\n",
       "      <td>0</td>\n",
       "      <td>1</td>\n",
       "    </tr>\n",
       "    <tr>\n",
       "      <th>4</th>\n",
       "      <td>1</td>\n",
       "      <td>1</td>\n",
       "      <td>0</td>\n",
       "      <td>4</td>\n",
       "      <td>0</td>\n",
       "      <td>0</td>\n",
       "      <td>0</td>\n",
       "      <td>0</td>\n",
       "      <td>0</td>\n",
       "      <td>0</td>\n",
       "      <td>0</td>\n",
       "      <td>0</td>\n",
       "      <td>0</td>\n",
       "      <td>0</td>\n",
       "      <td>0</td>\n",
       "      <td>0</td>\n",
       "      <td>0</td>\n",
       "      <td>1</td>\n",
       "      <td>46</td>\n",
       "      <td>0.177876</td>\n",
       "      <td>-1</td>\n",
       "      <td>41828</td>\n",
       "      <td>-1</td>\n",
       "      <td>-1</td>\n",
       "      <td>1</td>\n",
       "      <td>2</td>\n",
       "      <td>1</td>\n",
       "      <td>389</td>\n",
       "      <td>1</td>\n",
       "      <td>1</td>\n",
       "      <td>0</td>\n",
       "      <td>0</td>\n",
       "      <td>0</td>\n",
       "      <td>1</td>\n",
       "    </tr>\n",
       "  </tbody>\n",
       "</table>\n",
       "</div>"
      ],
      "text/plain": [
       "   qty_dot_url  qty_hyphen_url  qty_underline_url  qty_slash_url  \\\n",
       "0            2               0                  0              0   \n",
       "1            4               0                  0              2   \n",
       "2            1               0                  0              1   \n",
       "3            2               0                  0              3   \n",
       "4            1               1                  0              4   \n",
       "\n",
       "   qty_questionmark_url  qty_equal_url  qty_at_url  qty_and_url  \\\n",
       "0                     0              0           0            0   \n",
       "1                     0              0           0            0   \n",
       "2                     0              0           0            0   \n",
       "3                     0              0           0            0   \n",
       "4                     0              0           0            0   \n",
       "\n",
       "   qty_exclamation_url  qty_space_url  qty_tilde_url  qty_comma_url  \\\n",
       "0                    0              0              0              0   \n",
       "1                    0              0              0              0   \n",
       "2                    0              0              0              0   \n",
       "3                    0              0              0              0   \n",
       "4                    0              0              0              0   \n",
       "\n",
       "   qty_plus_url  qty_asterisk_url  qty_hashtag_url  qty_dollar_url  \\\n",
       "0             0                 0                0               0   \n",
       "1             0                 0                0               0   \n",
       "2             0                 0                0               0   \n",
       "3             0                 0                0               0   \n",
       "4             0                 0                0               0   \n",
       "\n",
       "   qty_percent_url  qty_tld_url  length_url  time_response  domain_spf  \\\n",
       "0                0            1          14       0.334573           0   \n",
       "1                0            1          38       1.326223          -1   \n",
       "2                0            1          24       3.969207           1   \n",
       "3                0            1          38       0.495212           1   \n",
       "4                0            1          46       0.177876          -1   \n",
       "\n",
       "   asn_ip  time_domain_activation  time_domain_expiration  qty_ip_resolved  \\\n",
       "0    8560                    4927                     185                1   \n",
       "1  263283                    8217                      -1                1   \n",
       "2   26496                     258                     106                1   \n",
       "3   20013                    2602                     319                1   \n",
       "4   41828                      -1                      -1                1   \n",
       "\n",
       "   qty_nameservers  qty_mx_servers  ttl_hostname  tls_ssl_certificate  \\\n",
       "0                4               2          3598                    0   \n",
       "1                4               1          3977                    1   \n",
       "2                2               1         10788                    0   \n",
       "3                2               1         14339                    1   \n",
       "4                2               1           389                    1   \n",
       "\n",
       "   qty_redirects  url_google_index  domain_google_index  url_shortened  \\\n",
       "0              0                 0                    0              0   \n",
       "1              0                 0                    0              0   \n",
       "2              0                 0                    0              0   \n",
       "3              0                 0                    0              0   \n",
       "4              1                 0                    0              0   \n",
       "\n",
       "   phishing  \n",
       "0         0  \n",
       "1         0  \n",
       "2         0  \n",
       "3         1  \n",
       "4         1  "
      ]
     },
     "execution_count": 7,
     "metadata": {},
     "output_type": "execute_result"
    }
   ],
   "source": [
    "pd.set_option('display.max_columns', None)\n",
    "\n",
    "grega = pd.read_csv(\"Dataset/Grega/dataset_small.csv\")\n",
    "# grega.iloc[:, [17]].head()\n",
    "# grega.columns.tolist()\n",
    "\n",
    "\n",
    "# Drop column of index using DataFrame.iloc[] and drop() methods.\n",
    "grega2 = grega.drop(grega.iloc[:, 19:97],axis = 1)\n",
    "# grega2.set_option('display.max_columns', None)\n",
    "grega2.head()                 \n",
    "# grega.shape\n",
    "# grega2.to_csv('finalDataset.csv', index=False)"
   ]
  },
  {
   "cell_type": "code",
   "execution_count": 8,
   "metadata": {},
   "outputs": [
    {
     "data": {
      "text/html": [
       "<div>\n",
       "<style scoped>\n",
       "    .dataframe tbody tr th:only-of-type {\n",
       "        vertical-align: middle;\n",
       "    }\n",
       "\n",
       "    .dataframe tbody tr th {\n",
       "        vertical-align: top;\n",
       "    }\n",
       "\n",
       "    .dataframe thead th {\n",
       "        text-align: right;\n",
       "    }\n",
       "</style>\n",
       "<table border=\"1\" class=\"dataframe\">\n",
       "  <thead>\n",
       "    <tr style=\"text-align: right;\">\n",
       "      <th></th>\n",
       "      <th>ttl_hostname</th>\n",
       "      <th>phishing</th>\n",
       "    </tr>\n",
       "  </thead>\n",
       "  <tbody>\n",
       "    <tr>\n",
       "      <th>0</th>\n",
       "      <td>3598</td>\n",
       "      <td>0</td>\n",
       "    </tr>\n",
       "    <tr>\n",
       "      <th>1</th>\n",
       "      <td>3977</td>\n",
       "      <td>0</td>\n",
       "    </tr>\n",
       "    <tr>\n",
       "      <th>2</th>\n",
       "      <td>10788</td>\n",
       "      <td>0</td>\n",
       "    </tr>\n",
       "    <tr>\n",
       "      <th>3</th>\n",
       "      <td>14339</td>\n",
       "      <td>1</td>\n",
       "    </tr>\n",
       "    <tr>\n",
       "      <th>4</th>\n",
       "      <td>389</td>\n",
       "      <td>1</td>\n",
       "    </tr>\n",
       "    <tr>\n",
       "      <th>...</th>\n",
       "      <td>...</td>\n",
       "      <td>...</td>\n",
       "    </tr>\n",
       "    <tr>\n",
       "      <th>58640</th>\n",
       "      <td>563</td>\n",
       "      <td>1</td>\n",
       "    </tr>\n",
       "    <tr>\n",
       "      <th>58641</th>\n",
       "      <td>122</td>\n",
       "      <td>0</td>\n",
       "    </tr>\n",
       "    <tr>\n",
       "      <th>58642</th>\n",
       "      <td>1122</td>\n",
       "      <td>1</td>\n",
       "    </tr>\n",
       "    <tr>\n",
       "      <th>58643</th>\n",
       "      <td>299</td>\n",
       "      <td>0</td>\n",
       "    </tr>\n",
       "    <tr>\n",
       "      <th>58644</th>\n",
       "      <td>3361</td>\n",
       "      <td>0</td>\n",
       "    </tr>\n",
       "  </tbody>\n",
       "</table>\n",
       "<p>58645 rows × 2 columns</p>\n",
       "</div>"
      ],
      "text/plain": [
       "       ttl_hostname  phishing\n",
       "0              3598         0\n",
       "1              3977         0\n",
       "2             10788         0\n",
       "3             14339         1\n",
       "4               389         1\n",
       "...             ...       ...\n",
       "58640           563         1\n",
       "58641           122         0\n",
       "58642          1122         1\n",
       "58643           299         0\n",
       "58644          3361         0\n",
       "\n",
       "[58645 rows x 2 columns]"
      ]
     },
     "execution_count": 8,
     "metadata": {},
     "output_type": "execute_result"
    }
   ],
   "source": [
    "\n",
    "# grega.iloc[:, [17]].head()\n",
    "# grega.columns.tolist()\n",
    "\n",
    "\n",
    "# Drop column of index using DataFrame.iloc[] and drop() methods.\n",
    "grega3 = grega[['ttl_hostname', 'phishing']]\n",
    "\n",
    "grega3               \n",
    "\n",
    "# grega3.to_csv('sampleDataset.csv', index=False)"
   ]
  },
  {
   "cell_type": "code",
   "execution_count": 9,
   "metadata": {},
   "outputs": [
    {
     "data": {
      "text/plain": [
       "(16390,)"
      ]
     },
     "execution_count": 9,
     "metadata": {},
     "output_type": "execute_result"
    }
   ],
   "source": [
    "# Phishing data from Phishtank\n",
    "# https://www.phishtank.com/developer_info.php\n",
    "\n",
    "phishtank_1 = pd.read_csv(\"Dataset/Phishtank/verified_online.csv\", on_bad_lines='skip')\n",
    "phishtank_2 = pd.read_csv(\"Dataset/Phishtank/verified_online2.csv\", on_bad_lines='skip')\n",
    "\n",
    "phishtank_total = [phishtank_1, phishtank_2]\n",
    "phishtank_total = pd.concat(phishtank_total)\n",
    "\n",
    "phishtank_total.drop_duplicates(subset=['phish_id'])\n",
    "phishtank_total = phishtank_total[phishtank_total.verified == \"yes\"]\n",
    "phishtank_total = phishtank_total[phishtank_total.online == \"yes\"]\n",
    "\n",
    "phishtank_total = phishtank_total[\"url\"]\n",
    "phishtank_total.shape\n",
    "# phishtank_total.head()\n"
   ]
  },
  {
   "cell_type": "code",
   "execution_count": 10,
   "metadata": {},
   "outputs": [],
   "source": [
    "# Phishing data from Phishing Database\n",
    "# https://github.com/mitchellkrogza/Phishing.Database\n",
    "\n",
    "phish_DB = pd.read_csv(\"Dataset/PhishingDB/list-active\", on_bad_lines='skip')\n",
    "phish_DB = phish_DB[\"url\"]\n",
    "# phish_DB.head()\n",
    "# phish_DB.shape"
   ]
  },
  {
   "cell_type": "code",
   "execution_count": 11,
   "metadata": {},
   "outputs": [
    {
     "data": {
      "text/plain": [
       "(9965,)"
      ]
     },
     "execution_count": 11,
     "metadata": {},
     "output_type": "execute_result"
    }
   ],
   "source": [
    "# Phishing data from University of New Brunswick\n",
    "# https://www.unb.ca/cic/datasets/url-2016.html\n",
    "\n",
    "phish_UNB = pd.read_csv(\"Dataset/UNB/phishing_dataset.csv\", on_bad_lines='skip')\n",
    "phish_UNB = phish_UNB[\"url\"]\n",
    "phish_UNB.shape"
   ]
  },
  {
   "cell_type": "code",
   "execution_count": 12,
   "metadata": {},
   "outputs": [],
   "source": [
    "# Combine all phishing data\n",
    "\n",
    "phishtank_total_sample = phishtank_total.sample(n = 9000, random_state =23).reset_index(drop=True)\n",
    "phish_DB_sample = phish_DB.sample(n = 9000, random_state =74).reset_index(drop=True)\n",
    "phish_UNB_sample = phish_UNB.sample(n = 9000, random_state =57).reset_index(drop=True)\n",
    "\n",
    "# phish_UNB.head()\n",
    "\n",
    "\n",
    "phishing_url = [phishtank_total_sample, phish_DB_sample, phish_UNB_sample]\n",
    "phishing_url = pd.concat(phishing_url)\n",
    "# phishing_url.drop_duplicates\n",
    "\n",
    "# phishtank_total_sample.head()"
   ]
  },
  {
   "cell_type": "markdown",
   "metadata": {},
   "source": [
    "### 1.2. Benign URL\n",
    "\n",
    "1. University of New Brunswick\n",
    "    "
   ]
  },
  {
   "cell_type": "code",
   "execution_count": null,
   "metadata": {},
   "outputs": [],
   "source": [
    "# Benign data from University of New Brunswick\n",
    "# https://www.unb.ca/cic/datasets/url-2016.html\n",
    "\n",
    "benign_UNB = pd.read_csv(\"Dataset/UNB/Benign.csv\", on_bad_lines='skip')\n",
    "# benign_UNB.head()\n",
    "benign_UNB.shape[0]"
   ]
  },
  {
   "cell_type": "code",
   "execution_count": null,
   "metadata": {},
   "outputs": [],
   "source": [
    "# Sampling benign url\n",
    "\n",
    "benign_url = benign_UNB.sample(n = 27000, random_state =17).reset_index(drop=True)[\"url\"]\n",
    "benign_url.head()"
   ]
  },
  {
   "cell_type": "markdown",
   "metadata": {},
   "source": [
    "## 2. Extract URL"
   ]
  },
  {
   "cell_type": "markdown",
   "metadata": {},
   "source": [
    "**2.1. Address Bar based Feature**"
   ]
  },
  {
   "cell_type": "code",
   "execution_count": 13,
   "metadata": {},
   "outputs": [],
   "source": [
    "from urllib.parse import urlparse,urlencode, urlsplit\n",
    "import urllib.request\n",
    "import ipaddress\n",
    "import re"
   ]
  },
  {
   "cell_type": "code",
   "execution_count": 14,
   "metadata": {},
   "outputs": [],
   "source": [
    "# 2.1.1. Check if IP in URL\n",
    "def ipInDomain(url):\n",
    "  if not re.match(r'http(s?)\\:', url):\n",
    "    url = f'http://{url}'\n",
    "  \n",
    "  domain = urlsplit(url).netloc\n",
    "  if domain.startswith('www.'):\n",
    "      domain = domain[4:]\n",
    "\n",
    "  ipPattern = re.compile('\\d{1,3}\\.\\d{1,3}\\.\\d{1,3}\\.\\d{1,3}')\n",
    "  try:\n",
    "      mo = ipPattern.search(url)\n",
    "      mo.group()\n",
    "      if ipaddress.ip_address(mo.group()):\n",
    "          ip = -1\n",
    "  except Exception:\n",
    "      ip = 1\n",
    "  return ip"
   ]
  },
  {
   "cell_type": "code",
   "execution_count": 16,
   "metadata": {},
   "outputs": [],
   "source": [
    "# !pip install tldextract\n",
    "import tldextract"
   ]
  },
  {
   "cell_type": "code",
   "execution_count": 17,
   "metadata": {},
   "outputs": [],
   "source": [
    "def qty_dot_url(url):\n",
    "    return url.count('.')"
   ]
  },
  {
   "cell_type": "code",
   "execution_count": 18,
   "metadata": {},
   "outputs": [],
   "source": [
    "  def qty_hyphen_url(url):\n",
    "    return url.count(\"-\")\n"
   ]
  },
  {
   "cell_type": "code",
   "execution_count": 19,
   "metadata": {},
   "outputs": [],
   "source": [
    "def getLength(url):\n",
    "    return len(url)"
   ]
  },
  {
   "cell_type": "code",
   "execution_count": 20,
   "metadata": {},
   "outputs": [],
   "source": [
    "def qty_at_url(url):\n",
    "    return url.count(\"@\")"
   ]
  },
  {
   "cell_type": "code",
   "execution_count": 21,
   "metadata": {},
   "outputs": [
    {
     "data": {
      "text/plain": [
       "[3, 1, 57, 2]"
      ]
     },
     "execution_count": 21,
     "metadata": {},
     "output_type": "execute_result"
    }
   ],
   "source": [
    "#Function to extract features\n",
    "# There are 15 features extracted from the dataset\n",
    "def featureExtract(url, label):\n",
    "\n",
    "  features = [qty_dot_url(url)]\n",
    "\n",
    "  features.append(qty_hyphen_url(url))\n",
    "  features.append(getLength(url))\n",
    "  features.append(qty_at_url(url))\n",
    "\n",
    "\n",
    "  return features\n",
    "\n",
    "featureExtract('https://pandas.pyd@a-ta.org/doc@s/user_guide/merging.html', 1)\n",
    "# featureExtract('ht.t', 1)"
   ]
  },
  {
   "cell_type": "code",
   "execution_count": null,
   "metadata": {},
   "outputs": [],
   "source": [
    "# 2.1.2. Check the length of the URL\n",
    "def getLength(url):\n",
    "  if len(url) < 54:\n",
    "    return 1\n",
    "  elif len(url) <= 75:\n",
    "    return 0\n",
    "  else:\n",
    "    return -1"
   ]
  },
  {
   "cell_type": "code",
   "execution_count": null,
   "metadata": {},
   "outputs": [],
   "source": [
    "# 2.1.2. Check the length of the URL\n",
    "def getLength(url):\n",
    "    return len(url)"
   ]
  },
  {
   "cell_type": "code",
   "execution_count": null,
   "metadata": {},
   "outputs": [],
   "source": [
    "# 2.1.3 Check if using shortening services in the URL\n",
    "\n",
    "#listing shortening services\n",
    "shortening_services = r\"bit\\.ly|goo\\.gl|shorte\\.st|go2l\\.ink|x\\.co|ow\\.ly|t\\.co|tinyurl|tr\\.im|is\\.gd|cli\\.gs|\" \\\n",
    "                    r\"yfrog\\.com|migre\\.me|ff\\.im|tiny\\.cc|url4\\.eu|twit\\.ac|su\\.pr|twurl\\.nl|snipurl\\.com|\" \\\n",
    "                    r\"short\\.to|BudURL\\.com|ping\\.fm|post\\.ly|Just\\.as|bkite\\.com|snipr\\.com|fic\\.kr|loopt\\.us|\" \\\n",
    "                    r\"doiop\\.com|short\\.ie|kl\\.am|wp\\.me|rubyurl\\.com|om\\.ly|to\\.ly|bit\\.do|t\\.co|lnkd\\.in|db\\.tt|\" \\\n",
    "                    r\"qr\\.ae|adf\\.ly|goo\\.gl|bitly\\.com|cur\\.lv|tinyurl\\.com|ow\\.ly|bit\\.ly|ity\\.im|q\\.gs|is\\.gd|\" \\\n",
    "                    r\"po\\.st|bc\\.vc|twitthis\\.com|u\\.to|j\\.mp|buzurl\\.com|cutt\\.us|u\\.bb|yourls\\.org|x\\.co|\" \\\n",
    "                    r\"prettylinkpro\\.com|scrnch\\.me|filoops\\.info|vzturl\\.com|qr\\.net|1url\\.com|tweez\\.me|v\\.gd|\" \\\n",
    "                    r\"tr\\.im|link\\.zip\\.net\"\n",
    "\n",
    "\n",
    "def shortService(url):\n",
    "    return -1 if (match := re.search(shortening_services,url)) else 1\n",
    "\n"
   ]
  },
  {
   "cell_type": "code",
   "execution_count": null,
   "metadata": {},
   "outputs": [],
   "source": [
    "# 2.1.4. Check @ in URL\n",
    "def atInDomain(url):\n",
    "  return -1 if \"@\" in url else 1"
   ]
  },
  {
   "cell_type": "code",
   "execution_count": null,
   "metadata": {},
   "outputs": [],
   "source": [
    "# 2.1.5. Check for redirection '//' in the url \n",
    "def redirection(url):\n",
    "  pos = url.rfind('//')\n",
    "  return -1 if pos > 6 and pos >= 7 else 1"
   ]
  },
  {
   "cell_type": "code",
   "execution_count": null,
   "metadata": {},
   "outputs": [],
   "source": [
    "# 2.1.6. Check for hyphen '-' in the domain \n",
    "def hyphen(url):\n",
    "  domainUrl = urlparse(url).netloc\n",
    "  return -1 if \"-\" in domainUrl else 1"
   ]
  },
  {
   "cell_type": "code",
   "execution_count": null,
   "metadata": {},
   "outputs": [],
   "source": [
    "# 2.1.7. Check multiple subdomain in the domain \n",
    "def subdomain(url):\n",
    "  if not re.match(r'http(s?)\\:', url):\n",
    "    url = f'http://{url}'\n",
    "\n",
    "  \n",
    "  domain = urlsplit(url).netloc\n",
    "  if domain.startswith('www.'):\n",
    "      domain = domain[4:]\n",
    "\n",
    "  s = urlparse(domain).path.split('.')\n",
    "  depth = 0\n",
    "  for j in range(len(s)):\n",
    "      if len(s[j]) != 0:\n",
    "          depth = depth+1 \n",
    "\n",
    "  if depth <= 3:\n",
    "    return 1\n",
    "  elif depth <= 4:\n",
    "    return 0\n",
    "  else:\n",
    "    return -1\n"
   ]
  },
  {
   "cell_type": "code",
   "execution_count": null,
   "metadata": {},
   "outputs": [],
   "source": [
    "# 2.1.8. Check if http/https  in the Domain \n",
    "def httpDomain(url):\n",
    "  domain = urlparse(url).netloc\n",
    "  return -1 if 'http' in domain else 1"
   ]
  },
  {
   "cell_type": "markdown",
   "metadata": {},
   "source": [
    "**2.2. HTML and JavaScript based Features**"
   ]
  },
  {
   "cell_type": "code",
   "execution_count": null,
   "metadata": {},
   "outputs": [],
   "source": [
    "import requests"
   ]
  },
  {
   "cell_type": "code",
   "execution_count": null,
   "metadata": {},
   "outputs": [],
   "source": [
    "# 2.2.1. Check the number of forwardings  \n",
    "def forwarding(response):\n",
    "  if not response or len(response.history) <= 1:\n",
    "    return 1\n",
    "  elif len(response.history) < 4:\n",
    "    return 0\n",
    "  else:\n",
    "    return -1"
   ]
  },
  {
   "cell_type": "code",
   "execution_count": null,
   "metadata": {},
   "outputs": [],
   "source": [
    "# 2.2.2. Check status bar customization\n",
    "def mouseOver(response): \n",
    "  if response != \"\" and re.findall(\"<script.+onmouseover.+</script>\",\n",
    "                                   response.text) or response == \"\":\n",
    "    return -1\n",
    "  else:\n",
    "    return 1"
   ]
  },
  {
   "cell_type": "code",
   "execution_count": null,
   "metadata": {},
   "outputs": [],
   "source": [
    "# 2.2.3. Check status of right click \n",
    "def rightClick(response):\n",
    "  if response != \"\" and re.findall(r\"event.preventDefault()\", response.text):\n",
    "    return -1\n",
    "  else:\n",
    "    return 1"
   ]
  },
  {
   "cell_type": "code",
   "execution_count": null,
   "metadata": {},
   "outputs": [],
   "source": [
    "# 2.2.4. IFrame Redirection\n",
    "def iframe(response):\n",
    "  if response != \"\" and re.findall(r\"<iframe.+frameborder=\\\"0\\\"\", response.text):\n",
    "    return -1\n",
    "  else:\n",
    "    return 1"
   ]
  },
  {
   "cell_type": "markdown",
   "metadata": {},
   "source": [
    "**2.3. Domain based Features**"
   ]
  },
  {
   "cell_type": "code",
   "execution_count": null,
   "metadata": {},
   "outputs": [],
   "source": [
    "from bs4 import BeautifulSoup\n",
    "import whois\n",
    "import urllib\n",
    "from datetime import datetime\n"
   ]
  },
  {
   "cell_type": "code",
   "execution_count": null,
   "metadata": {},
   "outputs": [],
   "source": [
    "# 2.3.1. DNS Record availability (DNS_Record)\n",
    "# url = 'http://jgarciatest01.000webhostapp.com/'\n",
    "# whois.whois(urlparse(url).netloc)"
   ]
  },
  {
   "cell_type": "code",
   "execution_count": null,
   "metadata": {},
   "outputs": [],
   "source": [
    "# 2.3.2. Web traffic (Web_Traffic)\n",
    "def web_traffic(url):\n",
    "  try:\n",
    "    #Filling the whitespaces in the URL if any\n",
    "    url = urllib.parse.quote(url)\n",
    "    rank = BeautifulSoup(\n",
    "        urllib.request.urlopen(\n",
    "            f\"http://data.alexa.com/data?cli=10&dat=s&url={url}\").read(),\n",
    "        \"xml\").find(\"REACH\")['RANK']\n",
    "    rank = int(rank)\n",
    "\n",
    "  except:\n",
    "        return -1\n",
    "  # return rank\n",
    "  return 1 if rank <=100000 else 0"
   ]
  },
  {
   "cell_type": "code",
   "execution_count": null,
   "metadata": {},
   "outputs": [],
   "source": [
    "# 2.3.3. Domain Age\n",
    "def domainAge(domain_name):\n",
    "  today = datetime.now()\n",
    "  creation_date = domain_name.creation_date\n",
    "\n",
    "  if isinstance(creation_date,str):\n",
    "    try:\n",
    "      creation_date = datetime.strptime(creation_date,'%Y-%m-%d')\n",
    "      # expiration_date = datetime.strptime(expiration_date,\"%Y-%m-%d\")\n",
    "    except Exception:\n",
    "      return 1\n",
    "  if (creation_date is None) or type(creation_date) is list:\n",
    "    return -1\n",
    "  ageofdomain = abs((creation_date- today).days)\n",
    "  return -1 if ageofdomain < 180 else 1"
   ]
  },
  {
   "cell_type": "code",
   "execution_count": null,
   "metadata": {},
   "outputs": [],
   "source": [
    "#Function to extract features\n",
    "# There are 15 features extracted from the dataset\n",
    "def featureExtract(url, label):\n",
    "\n",
    "  features = []\n",
    "\n",
    "  #Address bar based features (8)\n",
    "\n",
    "  features.append(ipInDomain(url))\n",
    "  features.append(getLength(url))\n",
    "  features.append(shortService(url))\n",
    "\n",
    "  features.append(atInDomain(url))\n",
    "  features.append(redirection(url))\n",
    "  features.append(hyphen(url))\n",
    "\n",
    "  features.append(subdomain(url))\n",
    "  features.append(httpDomain(url))\n",
    "\n",
    "  # HTML & Javascript based features (4)\n",
    "  try:\n",
    "    response = requests.get(url)\n",
    "  except Exception:\n",
    "    response = \"\"\n",
    "\n",
    "  features.append(forwarding(response))\n",
    "  features.append(mouseOver(response))\n",
    "  features.append(rightClick(response))\n",
    "  features.append(iframe(response))\n",
    "\n",
    "\n",
    "  #Domain based features (2)\n",
    "  dns = 1\n",
    "  try:\n",
    "    domain_name = whois.whois(urlparse(url).netloc)\n",
    "  except Exception:\n",
    "    dns = -1\n",
    "\n",
    "  features.append(dns)\n",
    "  features.append(web_traffic(url))\n",
    "  if dns!=-1:\n",
    "    features.append(domainAge(domain_name))\n",
    "  else:\n",
    "    features.append(-1)\n",
    "  features.append(label)\n",
    "\n",
    "\n",
    "  return features\n",
    "\n",
    "featureExtract('https://pandas.pydata.org/docs/user_guide/merging.html', 1)"
   ]
  },
  {
   "cell_type": "markdown",
   "metadata": {},
   "source": [
    "## 3. Build Dataset"
   ]
  },
  {
   "cell_type": "code",
   "execution_count": null,
   "metadata": {},
   "outputs": [],
   "source": [
    "#Extracting the feautres & storing them in a list\n",
    "benign_features = []\n",
    "label = 1\n",
    "\n",
    "for i in range(50):\n",
    "  url = benign_url[i]\n",
    "  benign_features.append(featureExtract(url,label))\n",
    "\n"
   ]
  },
  {
   "cell_type": "code",
   "execution_count": null,
   "metadata": {},
   "outputs": [],
   "source": [
    "feature_names = ['ipInDomain', 'url_length', 'url_shorteting','atInDomain', \n",
    "                    'redirection', 'hyphen', 'multisubdomain', 'httpInDomain',\n",
    "                    'forwarding', 'mouseOver', 'rightClick', 'iframe',\n",
    "                    'dns', 'web_traffic','domainAge', 'Label']\n",
    "\n",
    "legitimate = pd.DataFrame(benign_features, columns= feature_names)\n",
    "legitimate.shape"
   ]
  },
  {
   "cell_type": "code",
   "execution_count": null,
   "metadata": {},
   "outputs": [],
   "source": []
  }
 ],
 "metadata": {
  "interpreter": {
   "hash": "1cba91db586b52b723360a58c37b30ad13b9859ad683f5f949cefff0f305c0f3"
  },
  "kernelspec": {
   "display_name": "Python 3.9.5 ('tfm1')",
   "language": "python",
   "name": "python3"
  },
  "language_info": {
   "codemirror_mode": {
    "name": "ipython",
    "version": 3
   },
   "file_extension": ".py",
   "mimetype": "text/x-python",
   "name": "python",
   "nbconvert_exporter": "python",
   "pygments_lexer": "ipython3",
   "version": "3.9.5"
  },
  "orig_nbformat": 4
 },
 "nbformat": 4,
 "nbformat_minor": 2
}
