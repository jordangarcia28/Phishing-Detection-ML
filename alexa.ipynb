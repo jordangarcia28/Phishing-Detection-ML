{
 "cells": [
  {
   "cell_type": "code",
   "execution_count": 11,
   "metadata": {},
   "outputs": [
    {
     "name": "stdout",
     "output_type": "stream",
     "text": [
      "Website Missing\n"
     ]
    }
   ],
   "source": [
    "# import the required modules\n",
    "import requests\n",
    "from bs4 import BeautifulSoup\n",
    "\n",
    "# Function will get all the ranks of the website\n",
    "# by searching the keyword in google and returns\n",
    "# a string of ranks or Website Missing if the website\n",
    "# doesn't occur in the given number of search queries.\n",
    "def find_rank(keyword, website, search_query):\n",
    "\n",
    "\t# Initialise the required variables\n",
    "\trank, rank_list = 1, \"\"\n",
    "\n",
    "\t# Base search url of google\n",
    "\turl = \"https://www.google.com/search?q=\"\n",
    "\n",
    "\t# Replaces whitespace with \"+\" in keyword\n",
    "\tkeyword = keyword.replace(\" \", \"+\")\n",
    "\n",
    "\t# Base url is updated with the keyword to be\n",
    "\t# searched in given number of search results.\n",
    "\turl = url + keyword + \"&num=\" + str(search_query)\n",
    "\n",
    "\t# requests.get(url) returns a response that is saved\n",
    "\t# in a response object called page.\n",
    "\tpage = requests.get(url)\n",
    "\n",
    "\t# page.text gives us access to the web data in text\n",
    "\t# format, we pass it as an argument to BeautifulSoup\n",
    "\t# along with the html.parser which will create a\n",
    "\t# parsed tree in soup.\n",
    "\tsoup = BeautifulSoup(page.text, 'html.parser')\n",
    "\n",
    "\t# soup.find_all finds the div, all having the same\n",
    "\t# class \"ZINbbc xpd O9g5cc uUPGi\" that is stored\n",
    "\t# in result_div\n",
    "\tresult_div = soup.find_all(\n",
    "\t\t'div', attrs={'class': 'ZINbbc xpd O9g5cc uUPGi'})\n",
    "\n",
    "\t# Iterate result_div and check for the given website\n",
    "\t# inside <a> tag adding the rank to the\n",
    "\t# rank_list if found.\n",
    "\tfor div in result_div:\n",
    "\t\ttry:\n",
    "\n",
    "\t\t# Finds <a> tag and checks if the url is present,\n",
    "\t\t# if present then check with the provided\n",
    "\t\t# website in main()\n",
    "\t\t\tlink = div.find(\"a\", href=True)\n",
    "\t\t\tif link['href'][7:7+len(website)] == website:\n",
    "\t\t\t\trank_list += str(rank)+\",\"\n",
    "\t\t\trank += 1\n",
    "\t\texcept:\n",
    "\t\t\tpass\n",
    "\treturn (rank_list, \"Website Missing\")[rank_list == \"\"]\n",
    "\n",
    "# Main Function\n",
    "if __name__ == \"__main__\":\n",
    "\tkeyword = \"dsa practice questions\"\n",
    "\twebsite = \"https://google.com\"\n",
    "\tsearch_query = 30\n",
    "\trank = find_rank(keyword, website, search_query)\n",
    "\t\n",
    "\tif rank == \"Website Missing\":\n",
    "\t\tprint(rank)\n",
    "\telse:\n",
    "\t\tprint(\"Rank of Website :\", rank[:-1])\n",
    "\n"
   ]
  }
 ],
 "metadata": {
  "interpreter": {
   "hash": "1cba91db586b52b723360a58c37b30ad13b9859ad683f5f949cefff0f305c0f3"
  },
  "kernelspec": {
   "display_name": "Python 3.9.5 ('tfm1')",
   "language": "python",
   "name": "python3"
  },
  "language_info": {
   "codemirror_mode": {
    "name": "ipython",
    "version": 3
   },
   "file_extension": ".py",
   "mimetype": "text/x-python",
   "name": "python",
   "nbconvert_exporter": "python",
   "pygments_lexer": "ipython3",
   "version": "3.9.5"
  },
  "orig_nbformat": 4
 },
 "nbformat": 4,
 "nbformat_minor": 2
}
